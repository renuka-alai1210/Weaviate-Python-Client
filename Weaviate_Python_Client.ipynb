{
 "cells": [
  {
   "cell_type": "markdown",
   "metadata": {
    "id": "rapid-harris"
   },
   "source": [
    "# Getting Started with Weaviate Python Library"
   ]
  },
  {
   "cell_type": "markdown",
   "metadata": {
    "id": "attempted-punishment"
   },
   "source": [
    "##  How to use the python-client with a weaviate cluster?"
   ]
  },
  {
   "cell_type": "markdown",
   "metadata": {
    "id": "adjacent-purple"
   },
   "source": [
    "###  Create an weaviate instance/cluster."
   ]
  },
  {
   "cell_type": "markdown",
   "metadata": {
    "id": "brief-beaver"
   },
   "source": [
    "Creating a Weaviate instance can be done in multiple ways. It can be done using a `docker-compose.yaml` file that\n",
    "\n",
    "Another option is to create an account on [Weaviate Cloud Service](https://console.semi.technology/) (WCS) and create a cluster there. There are different options for clusters you can choose from. "
   ]
  },
  {
   "cell_type": "markdown",
   "metadata": {
    "id": "several-energy"
   },
   "source": [
    "install the Weaviate Python Client"
   ]
  },
  {
   "cell_type": "code",
   "execution_count": 1,
   "metadata": {
    "colab": {
     "base_uri": "https://localhost:8080/"
    },
    "id": "compliant-separate",
    "outputId": "86e12e50-5da5-4242-80de-8308c5a947c9"
   },
   "outputs": [
    {
     "name": "stdout",
     "output_type": "stream",
     "text": [
      "Defaulting to user installation because normal site-packages is not writeable\n",
      "Requirement already satisfied: weaviate-client==2.5.0 in /home/renuka/.local/lib/python3.8/site-packages (2.5.0)\n",
      "Requirement already satisfied: requests>=2.23.0 in /home/renuka/.local/lib/python3.8/site-packages (from weaviate-client==2.5.0) (2.25.1)\n",
      "Requirement already satisfied: validators>=0.18.2 in /home/renuka/.local/lib/python3.8/site-packages (from weaviate-client==2.5.0) (0.18.2)\n",
      "Requirement already satisfied: tqdm>=4.59.0 in /home/renuka/.local/lib/python3.8/site-packages (from weaviate-client==2.5.0) (4.61.2)\n",
      "Requirement already satisfied: idna<3,>=2.5 in /home/renuka/.local/lib/python3.8/site-packages (from requests>=2.23.0->weaviate-client==2.5.0) (2.10)\n",
      "Requirement already satisfied: chardet<5,>=3.0.2 in /home/renuka/.local/lib/python3.8/site-packages (from requests>=2.23.0->weaviate-client==2.5.0) (4.0.0)\n",
      "Requirement already satisfied: urllib3<1.27,>=1.21.1 in /home/renuka/.local/lib/python3.8/site-packages (from requests>=2.23.0->weaviate-client==2.5.0) (1.26.6)\n",
      "Requirement already satisfied: certifi>=2017.4.17 in /home/renuka/.local/lib/python3.8/site-packages (from requests>=2.23.0->weaviate-client==2.5.0) (2021.5.30)\n",
      "Requirement already satisfied: decorator>=3.4.0 in /usr/lib/python3/dist-packages (from validators>=0.18.2->weaviate-client==2.5.0) (4.4.2)\n",
      "Requirement already satisfied: six>=1.4.0 in /home/renuka/.local/lib/python3.8/site-packages (from validators>=0.18.2->weaviate-client==2.5.0) (1.16.0)\n"
     ]
    }
   ],
   "source": [
    "import sys\n",
    "!{sys.executable} -m pip install weaviate-client==2.5.0 "
   ]
  },
  {
   "cell_type": "markdown",
   "metadata": {
    "id": "byy9rNydO_x7"
   },
   "source": [
    "__UPDATE__ for version __3.0.0__.\n",
    "\n",
    "```python\n",
    "import sys\n",
    "!{sys.executable} -m pip install weaviate-client==3.0.0\n",
    "```"
   ]
  },
  {
   "cell_type": "markdown",
   "metadata": {
    "id": "possible-continent"
   },
   "source": [
    "import the package and create a cluster on WCS"
   ]
  },
  {
   "cell_type": "code",
   "execution_count": 2,
   "metadata": {
    "id": "toxic-cooler"
   },
   "outputs": [],
   "source": [
    "from getpass import getpass # hide password\n",
    "import weaviate # to communicate to the Weaviate instance\n",
    "from weaviate.tools import WCS"
   ]
  },
  {
   "cell_type": "markdown",
   "metadata": {
    "id": "MpVyM1C9PSwX"
   },
   "source": [
    "__UPDATE__ for version __3.0.0__.\n",
    "\n",
    "```python\n",
    "from getpass import getpass # hide password\n",
    "import weaviate # to communicate to the Weaviate instance\n",
    "from weaviate.wcs import WCS\n",
    "```"
   ]
  },
  {
   "cell_type": "markdown",
   "metadata": {
    "id": "polar-miniature"
   },
   "source": [
    "In order to authenticate to WCS or Weaviate instance (if Weaviate instance has Authentication enable) we need to create an Authentication object. At the moment it supports two types of authentication credentials: \n",
    "* Password credentials: `weaviate.auth.AuthClientPassword(username='WCS_ACCOUNT_EMAIL', password='WCS_ACCOUNT_PASSWORD')`\n",
    "* Token credentials `weaviate.auth.AuthClientCredentials(client_secret=YOUR_SECRET_TOKEN)`\n",
    "\n"
   ]
  },
  {
   "cell_type": "code",
   "execution_count": 3,
   "metadata": {
    "colab": {
     "base_uri": "https://localhost:8080/"
    },
    "id": "seasonal-wallace",
    "outputId": "379de29d-6b9c-455b-d482-f0994b29fef3"
   },
   "outputs": [
    {
     "name": "stdout",
     "output_type": "stream",
     "text": [
      "User name: renukaalai@gmail.com\n",
      "Password: ········\n"
     ]
    }
   ],
   "source": [
    "my_credentials = weaviate.auth.AuthClientPassword(username=input(\"User name: \"), password=getpass('Password: '))"
   ]
  },
  {
   "cell_type": "code",
   "execution_count": null,
   "metadata": {
    "id": "elect-wellington"
   },
   "outputs": [],
   "source": [
    "my_wcs = WCS(my_credentials)"
   ]
  },
  {
   "cell_type": "markdown",
   "metadata": {
    "id": "logical-beatles"
   },
   "source": [
    "Now that we connected to WCS, we can `create`, `delete`, `get_clusters`, `get_cluster_config` and check the status of a cluster with `is_ready` method.\n",
    "\n",
    " prototype of the `create` method:\n",
    "```python\n",
    "my_wcs.create(cluster_name:str=None, \n",
    "    cluster_type:str='sandbox',\n",
    "    config:dict=None,\n",
    "    wait_for_completion:bool=True) -> str\n",
    "```\n",
    "The return value is the URL of the created cluster.\n",
    "\n",
    "*If you want to check the prototype and docstring of any methods in a notebook, run this command: `object.method?`. You can also use the `help()` function.*<br>\n",
    "Ex: `WCS.is_ready?` or `my_wcs.is_ready?` or `help(WCS.is_ready)`."
   ]
  },
  {
   "cell_type": "code",
   "execution_count": 16,
   "metadata": {
    "colab": {
     "base_uri": "https://localhost:8080/",
     "height": 52
    },
    "id": "mathematical-clear",
    "outputId": "392ad5a3-87e8-4c39-a6f7-ea53482e7def"
   },
   "outputs": [
    {
     "data": {
      "text/plain": [
       "'https://my-first-weaviate-instance.semi.network'"
      ]
     },
     "execution_count": 16,
     "metadata": {},
     "output_type": "execute_result"
    }
   ],
   "source": [
    "cluster_name = 'my-first-weaviate-instance'\n",
    "weaviate_url = my_wcs.create(cluster_name=cluster_name)\n",
    "weaviate_url"
   ]
  },
  {
   "cell_type": "code",
   "execution_count": 17,
   "metadata": {
    "colab": {
     "base_uri": "https://localhost:8080/"
    },
    "id": "loving-conference",
    "outputId": "014bc428-67b5-474a-dfff-2960a5fb9187"
   },
   "outputs": [
    {
     "data": {
      "text/plain": [
       "True"
      ]
     },
     "execution_count": 17,
     "metadata": {},
     "output_type": "execute_result"
    }
   ],
   "source": [
    "my_wcs.is_ready(cluster_name)"
   ]
  },
  {
   "cell_type": "markdown",
   "metadata": {
    "id": "suspended-portfolio"
   },
   "source": [
    "###  Connect to the cluster."
   ]
  },
  {
   "cell_type": "markdown",
   "metadata": {
    "id": "copyrighted-document"
   },
   "source": [
    " connect to the created weaviate instance with the `Client` object. The constructor looks like this:\n",
    "```python\n",
    "weaviate.Client(\n",
    "    url:str,\n",
    "    auth_client_secret:weaviate.auth.AuthCredentials=None,\n",
    "    timeout_config:Union[Tuple[int, int], NoneType]=None,\n",
    ")\n",
    "```\n",
    "\n",
    "The constructor has only one required argument, `url`, and two optional ones: `auth_client_secret` - used if weaviate instance has authentication enabled and `timeout_config` - that sets REST time out configuration and is a tuple (retries, time out seconds)."
   ]
  },
  {
   "cell_type": "code",
   "execution_count": 18,
   "metadata": {
    "id": "working-brief"
   },
   "outputs": [],
   "source": [
    "client = weaviate.Client(weaviate_url)"
   ]
  },
  {
   "cell_type": "markdown",
   "metadata": {
    "id": "chinese-lighter"
   },
   "source": [
    "it does not necessary mean that it is all set up. It might still do some setup processes in the background. We can check the health of the Weaviate instance by calling the `.is_live` method, and check if Weaviate is ready for requests by calling the `.is_ready`."
   ]
  },
  {
   "cell_type": "code",
   "execution_count": 19,
   "metadata": {
    "colab": {
     "base_uri": "https://localhost:8080/"
    },
    "id": "suffering-mineral",
    "outputId": "ecb8e063-c706-4d9d-a3f4-0e1ec7a9582d"
   },
   "outputs": [
    {
     "data": {
      "text/plain": [
       "True"
      ]
     },
     "execution_count": 19,
     "metadata": {},
     "output_type": "execute_result"
    }
   ],
   "source": [
    "client.is_ready()"
   ]
  },
  {
   "cell_type": "markdown",
   "metadata": {
    "id": "ongoing-factor"
   },
   "source": [
    "###  Get Data and Analyze it."
   ]
  },
  {
   "cell_type": "markdown",
   "metadata": {
    "id": "impressive-musical"
   },
   "source": [
    " use news articles to construct weaviate data. For this we are going to need the `newspaper3k` package."
   ]
  },
  {
   "cell_type": "code",
   "execution_count": 20,
   "metadata": {
    "colab": {
     "base_uri": "https://localhost:8080/"
    },
    "id": "requested-fancy",
    "outputId": "cc96de2e-effb-450a-dbd2-a4cadbbfb103"
   },
   "outputs": [
    {
     "name": "stdout",
     "output_type": "stream",
     "text": [
      "Defaulting to user installation because normal site-packages is not writeable\n",
      "Requirement already satisfied: newspaper3k in /home/renuka/.local/lib/python3.8/site-packages (0.2.8)\n",
      "Requirement already satisfied: PyYAML>=3.11 in /home/renuka/.local/lib/python3.8/site-packages (from newspaper3k) (6.0)\n",
      "Requirement already satisfied: beautifulsoup4>=4.4.1 in /usr/lib/python3/dist-packages (from newspaper3k) (4.8.2)\n",
      "Requirement already satisfied: jieba3k>=0.35.1 in /home/renuka/.local/lib/python3.8/site-packages (from newspaper3k) (0.35.1)\n",
      "Requirement already satisfied: tinysegmenter==0.3 in /home/renuka/.local/lib/python3.8/site-packages (from newspaper3k) (0.3)\n",
      "Requirement already satisfied: feedfinder2>=0.0.4 in /home/renuka/.local/lib/python3.8/site-packages (from newspaper3k) (0.0.4)\n",
      "Requirement already satisfied: nltk>=3.2.1 in /usr/lib/python3/dist-packages (from newspaper3k) (3.4.5)\n",
      "Requirement already satisfied: requests>=2.10.0 in /home/renuka/.local/lib/python3.8/site-packages (from newspaper3k) (2.25.1)\n",
      "Requirement already satisfied: cssselect>=0.9.2 in /home/renuka/.local/lib/python3.8/site-packages (from newspaper3k) (1.1.0)\n",
      "Requirement already satisfied: feedparser>=5.2.1 in /home/renuka/.local/lib/python3.8/site-packages (from newspaper3k) (6.0.10)\n",
      "Requirement already satisfied: python-dateutil>=2.5.3 in /usr/lib/python3/dist-packages (from newspaper3k) (2.7.3)\n",
      "Requirement already satisfied: tldextract>=2.0.1 in /home/renuka/.local/lib/python3.8/site-packages (from newspaper3k) (3.3.0)\n",
      "Requirement already satisfied: lxml>=3.6.0 in /home/renuka/.local/lib/python3.8/site-packages (from newspaper3k) (4.7.1)\n",
      "Requirement already satisfied: Pillow>=3.3.0 in /home/renuka/.local/lib/python3.8/site-packages (from newspaper3k) (9.0.1)\n",
      "Requirement already satisfied: six in /home/renuka/.local/lib/python3.8/site-packages (from feedfinder2>=0.0.4->newspaper3k) (1.16.0)\n",
      "Requirement already satisfied: sgmllib3k in /home/renuka/.local/lib/python3.8/site-packages (from feedparser>=5.2.1->newspaper3k) (1.0.0)\n",
      "Requirement already satisfied: urllib3<1.27,>=1.21.1 in /home/renuka/.local/lib/python3.8/site-packages (from requests>=2.10.0->newspaper3k) (1.26.6)\n",
      "Requirement already satisfied: idna<3,>=2.5 in /home/renuka/.local/lib/python3.8/site-packages (from requests>=2.10.0->newspaper3k) (2.10)\n",
      "Requirement already satisfied: certifi>=2017.4.17 in /home/renuka/.local/lib/python3.8/site-packages (from requests>=2.10.0->newspaper3k) (2021.5.30)\n",
      "Requirement already satisfied: chardet<5,>=3.0.2 in /home/renuka/.local/lib/python3.8/site-packages (from requests>=2.10.0->newspaper3k) (4.0.0)\n",
      "Requirement already satisfied: requests-file>=1.4 in /home/renuka/.local/lib/python3.8/site-packages (from tldextract>=2.0.1->newspaper3k) (1.5.1)\n",
      "Requirement already satisfied: filelock>=3.0.8 in /home/renuka/.local/lib/python3.8/site-packages (from tldextract>=2.0.1->newspaper3k) (3.0.12)\n"
     ]
    }
   ],
   "source": [
    "!{sys.executable} -m pip install newspaper3k"
   ]
  },
  {
   "cell_type": "markdown",
   "metadata": {
    "id": "ziiBvPgwNDK7"
   },
   "source": [
    "**UPDATE:** If none of the articles were downloaded, it might be because nltk punkt tools were not downloaded. To fix it please run the cell below."
   ]
  },
  {
   "cell_type": "code",
   "execution_count": 21,
   "metadata": {
    "colab": {
     "base_uri": "https://localhost:8080/"
    },
    "id": "whJTLOrzNBi2",
    "outputId": "8252bf4e-db01-4795-ecb4-1a35f27375d5"
   },
   "outputs": [
    {
     "name": "stderr",
     "output_type": "stream",
     "text": [
      "[nltk_data] Downloading package punkt to /home/renuka/nltk_data...\n",
      "[nltk_data]   Package punkt is already up-to-date!\n"
     ]
    },
    {
     "data": {
      "text/plain": [
       "True"
      ]
     },
     "execution_count": 21,
     "metadata": {},
     "output_type": "execute_result"
    }
   ],
   "source": [
    "import nltk # it is a dependency of newspaper3k\n",
    "nltk.download('punkt')"
   ]
  },
  {
   "cell_type": "code",
   "execution_count": 22,
   "metadata": {
    "id": "communist-correction"
   },
   "outputs": [],
   "source": [
    "import newspaper\n",
    "import uuid\n",
    "import json\n",
    "from tqdm import tqdm\n",
    "\n",
    "def get_articles_from_newspaper(\n",
    "        news_url: str, \n",
    "        max_articles: int=100\n",
    "    ) -> None:\n",
    "    \"\"\"\n",
    "    Download and save newspaper articles as weaviate schemas.\n",
    "    Parameters\n",
    "    ----------\n",
    "    newspaper_url : str\n",
    "        Newspaper title.\n",
    "    \"\"\"\n",
    "    \n",
    "    objects = []\n",
    "    \n",
    "    # Build the actual newspaper    \n",
    "    news_builder = newspaper.build(news_url, memoize_articles=False)\n",
    "    \n",
    "    if max_articles > news_builder.size():\n",
    "        max_articles = news_builder.size()\n",
    "    pbar = tqdm(total=max_articles)\n",
    "    pbar.set_description(f\"{news_url}\")\n",
    "    i = 0\n",
    "    while len(objects) < max_articles and i < news_builder.size():\n",
    "        article = news_builder.articles[i]\n",
    "        try:\n",
    "            article.download()\n",
    "            article.parse()\n",
    "            article.nlp()\n",
    "\n",
    "            if (article.title != '' and \\\n",
    "                article.title is not None and \\\n",
    "                article.summary != '' and \\\n",
    "                article.summary is not None and\\\n",
    "                article.authors):\n",
    "\n",
    "                # create an UUID for the article using its URL\n",
    "                article_id = uuid.uuid3(uuid.NAMESPACE_DNS, article.url)\n",
    "\n",
    "                # create the object\n",
    "                objects.append({\n",
    "                    'id': str(article_id),\n",
    "                    'title': article.title,\n",
    "                    'summary': article.summary,\n",
    "                    'authors': article.authors\n",
    "                })\n",
    "                \n",
    "                pbar.update(1)\n",
    "\n",
    "        except:\n",
    "            # something went wrong with getting the article, ignore it\n",
    "            pass\n",
    "        i += 1\n",
    "    pbar.close()\n",
    "    return objects"
   ]
  },
  {
   "cell_type": "code",
   "execution_count": 23,
   "metadata": {
    "colab": {
     "base_uri": "https://localhost:8080/"
    },
    "id": "apart-density",
    "outputId": "330ff94a-b9ad-4661-bceb-41b266654f75"
   },
   "outputs": [
    {
     "name": "stderr",
     "output_type": "stream",
     "text": [
      "https://www.theguardian.com/international: 100%|██████████| 100/100 [01:43<00:00,  1.04s/it]\n",
      "http://cnn.com: 100%|██████████| 100/100 [04:01<00:00,  2.42s/it]\n"
     ]
    }
   ],
   "source": [
    "data = []\n",
    "data += get_articles_from_newspaper('https://www.theguardian.com/international')\n",
    "data += get_articles_from_newspaper('http://cnn.com')"
   ]
  },
  {
   "cell_type": "markdown",
   "metadata": {
    "id": "front-consideration"
   },
   "source": [
    "### Create appropriate data types."
   ]
  },
  {
   "cell_type": "markdown",
   "metadata": {
    "id": "involved-granny"
   },
   "source": [
    "In the function `get_articles_from_newspaper` we keep the _title, summary_ and _authors_ of the article. We also compute an UUID (Universally Unique IDentifier) for each article. \n",
    "\n",
    "With this information at hand we already can define a schema, that is a data structure for each object type and how they are related. The schema is a nested dictionary.\n",
    "\n",
    "So lets create the `Article` class schema. the article has a ___title, summary___ and ___authors___.\n"
   ]
  },
  {
   "cell_type": "code",
   "execution_count": 24,
   "metadata": {
    "id": "armed-facility"
   },
   "outputs": [],
   "source": [
    "article_class_schema = {\n",
    "    # name of the class\n",
    "    \"class\": \"Article\",\n",
    "    # a description of what this class represents\n",
    "    \"description\": \"An Article class to store the article summary and its authors\",\n",
    "    # class properties\n",
    "    \"properties\": [\n",
    "        {\n",
    "            \"name\": \"title\",\n",
    "            \"dataType\": [\"string\"],\n",
    "            \"description\": \"The title of the article\", \n",
    "        },\n",
    "        {\n",
    "            \"name\": \"summary\",\n",
    "            \"dataType\": [\"text\"],\n",
    "            \"description\": \"The summary of the article\",\n",
    "        },\n",
    "        {\n",
    "            \"name\": \"hasAuthors\",\n",
    "            \"dataType\": [\"Author\"],\n",
    "            \"description\": \"The authors this article has\",\n",
    "        }\n",
    "    ]\n",
    "}"
   ]
  },
  {
   "cell_type": "markdown",
   "metadata": {
    "id": "liquid-habitat"
   },
   "source": [
    "In the class schema, we create a class named `Article`and with the description `An Article class to store the article summary and its authors`. \n",
    "\n",
    "Also we define 3 properties: `title` - The title of the article, of type `string` (case sensitive), `summary` - The summary of the article, of data type `text` (case insensitive), `hasAuthor` - The authors of the article, of data type `Author`. \n",
    "\n",
    "**NOTE 1:** The properties should always be in cameCase format and starts with a lowercased word.<br>\n",
    "**NOTE 2:** The property data type is always a list because it can accept more than one data type. \n",
    "\n"
   ]
  },
  {
   "cell_type": "markdown",
   "metadata": {
    "id": "flying-corrections"
   },
   "source": [
    "Now lets create the `Author` class schema in the same manner, but with properties `name` and `wroteArticles`."
   ]
  },
  {
   "cell_type": "code",
   "execution_count": 25,
   "metadata": {
    "id": "precious-scene"
   },
   "outputs": [],
   "source": [
    "author_class_schema = {\n",
    "    \"class\": \"Author\",\n",
    "    \"description\": \"An Author class to store the author information\",\n",
    "    \"properties\": [\n",
    "        {\n",
    "            \"name\": \"name\",\n",
    "            \"dataType\": [\"string\"],\n",
    "            \"description\": \"The name of the author\", \n",
    "        },\n",
    "        {\n",
    "            \"name\": \"wroteArticles\",\n",
    "            \"dataType\": [\"Article\"],\n",
    "            \"description\": \"The articles of the author\", \n",
    "        }\n",
    "    ]\n",
    "}"
   ]
  },
  {
   "cell_type": "code",
   "execution_count": 27,
   "metadata": {
    "id": "charitable-location"
   },
   "outputs": [],
   "source": [
    "# helper function\n",
    "def prettify(json_dict): \n",
    "    print(json.dumps(json_dict, indent=2))"
   ]
  },
  {
   "cell_type": "code",
   "execution_count": 28,
   "metadata": {
    "colab": {
     "base_uri": "https://localhost:8080/"
    },
    "id": "aging-headset",
    "outputId": "159c5ee9-d393-4013-b649-856e0eae7e21"
   },
   "outputs": [
    {
     "name": "stdout",
     "output_type": "stream",
     "text": [
      "{\n",
      "  \"classes\": [\n",
      "    {\n",
      "      \"class\": \"Article\",\n",
      "      \"description\": \"Auto generated class\",\n",
      "      \"invertedIndexConfig\": {\n",
      "        \"bm25\": {\n",
      "          \"b\": 0.75,\n",
      "          \"k1\": 1.2\n",
      "        },\n",
      "        \"cleanupIntervalSeconds\": 60,\n",
      "        \"stopwords\": {\n",
      "          \"additions\": null,\n",
      "          \"preset\": \"en\",\n",
      "          \"removals\": null\n",
      "        }\n",
      "      },\n",
      "      \"properties\": [\n",
      "        {\n",
      "          \"dataType\": [\n",
      "            \"text\"\n",
      "          ],\n",
      "          \"description\": \"Auto generated property\",\n",
      "          \"name\": \"title\",\n",
      "          \"tokenization\": \"word\"\n",
      "        },\n",
      "        {\n",
      "          \"dataType\": [\n",
      "            \"text\"\n",
      "          ],\n",
      "          \"description\": \"Auto generated property\",\n",
      "          \"name\": \"summary\",\n",
      "          \"tokenization\": \"word\"\n",
      "        }\n",
      "      ],\n",
      "      \"shardingConfig\": {\n",
      "        \"virtualPerPhysical\": 128,\n",
      "        \"desiredCount\": 1,\n",
      "        \"actualCount\": 1,\n",
      "        \"desiredVirtualCount\": 128,\n",
      "        \"actualVirtualCount\": 128,\n",
      "        \"key\": \"_id\",\n",
      "        \"strategy\": \"hash\",\n",
      "        \"function\": \"murmur3\"\n",
      "      },\n",
      "      \"vectorIndexConfig\": {\n",
      "        \"skip\": false,\n",
      "        \"cleanupIntervalSeconds\": 300,\n",
      "        \"maxConnections\": 64,\n",
      "        \"efConstruction\": 128,\n",
      "        \"ef\": -1,\n",
      "        \"dynamicEfMin\": 100,\n",
      "        \"dynamicEfMax\": 500,\n",
      "        \"dynamicEfFactor\": 8,\n",
      "        \"vectorCacheMaxObjects\": 2000000,\n",
      "        \"flatSearchCutoff\": 40000,\n",
      "        \"distance\": \"cosine\"\n",
      "      },\n",
      "      \"vectorIndexType\": \"hnsw\",\n",
      "      \"vectorizer\": \"none\"\n",
      "    },\n",
      "    {\n",
      "      \"class\": \"Author\",\n",
      "      \"description\": \"Auto generated class\",\n",
      "      \"invertedIndexConfig\": {\n",
      "        \"bm25\": {\n",
      "          \"b\": 0.75,\n",
      "          \"k1\": 1.2\n",
      "        },\n",
      "        \"cleanupIntervalSeconds\": 60,\n",
      "        \"stopwords\": {\n",
      "          \"additions\": null,\n",
      "          \"preset\": \"en\",\n",
      "          \"removals\": null\n",
      "        }\n",
      "      },\n",
      "      \"properties\": [\n",
      "        {\n",
      "          \"dataType\": [\n",
      "            \"text\"\n",
      "          ],\n",
      "          \"description\": \"Auto generated property\",\n",
      "          \"name\": \"name\",\n",
      "          \"tokenization\": \"word\"\n",
      "        }\n",
      "      ],\n",
      "      \"shardingConfig\": {\n",
      "        \"virtualPerPhysical\": 128,\n",
      "        \"desiredCount\": 1,\n",
      "        \"actualCount\": 1,\n",
      "        \"desiredVirtualCount\": 128,\n",
      "        \"actualVirtualCount\": 128,\n",
      "        \"key\": \"_id\",\n",
      "        \"strategy\": \"hash\",\n",
      "        \"function\": \"murmur3\"\n",
      "      },\n",
      "      \"vectorIndexConfig\": {\n",
      "        \"skip\": false,\n",
      "        \"cleanupIntervalSeconds\": 300,\n",
      "        \"maxConnections\": 64,\n",
      "        \"efConstruction\": 128,\n",
      "        \"ef\": -1,\n",
      "        \"dynamicEfMin\": 100,\n",
      "        \"dynamicEfMax\": 500,\n",
      "        \"dynamicEfFactor\": 8,\n",
      "        \"vectorCacheMaxObjects\": 2000000,\n",
      "        \"flatSearchCutoff\": 40000,\n",
      "        \"distance\": \"cosine\"\n",
      "      },\n",
      "      \"vectorIndexType\": \"hnsw\",\n",
      "      \"vectorizer\": \"none\"\n",
      "    }\n",
      "  ]\n",
      "}\n"
     ]
    }
   ],
   "source": [
    "prettify(client.schema.get())"
   ]
  },
  {
   "cell_type": "code",
   "execution_count": 32,
   "metadata": {
    "colab": {
     "base_uri": "https://localhost:8080/"
    },
    "id": "better-madness",
    "outputId": "98d911f1-238e-4e98-d8b0-2826b8042c0a"
   },
   "outputs": [
    {
     "name": "stdout",
     "output_type": "stream",
     "text": [
      "{\n",
      "  \"classes\": []\n",
      "}\n"
     ]
    }
   ],
   "source": [
    "schema = client.schema.get() # save schema\n",
    "client.schema.delete_all() # delete all classes\n",
    "prettify(client.schema.get())"
   ]
  },
  {
   "cell_type": "markdown",
   "metadata": {
    "id": "controlled-airfare"
   },
   "source": [
    "This looks exactly as the schema we created class by class and property by property. This way we can save now the schema in a file and in the next session just directly import it by providing the file path.\n",
    "```python\n",
    "# save schema to file\n",
    "with open('schema.json', 'w') as outfile: \n",
    "    json.dump(schema, outfile)\n",
    "# remove current schema from Weaviate, removes all the data too\n",
    "client.schema.delete_all()\n",
    "# import schema using file path\n",
    "client.schema.create('schema.json')\n",
    "# print schema\n",
    "print(json.dumps(client.schema.get(), indent=2))\n",
    "```"
   ]
  },
  {
   "cell_type": "markdown",
   "metadata": {
    "id": "backed-clark"
   },
   "source": [
    "###  Load data."
   ]
  },
  {
   "cell_type": "markdown",
   "metadata": {
    "id": "competent-stockholm"
   },
   "source": [
    "\n",
    "\n",
    "Importing data to weaviate can be done in 3 different ways.\n",
    "\n",
    "1. Adding object by object iteratively. This ca be done using the `data_object` object attribute of the client.\n",
    "2. In batches. This can be done by creating an appropriate batch request object and submitting it using the `batch` object attribute of the client. (__Only in__ `weaviate-client` __version <3.0.0.__)\n",
    "3. Using a `Batcher` object from the `weaviate.tools` module. (__Only in__ `weaviate-client` __version <3.0.0.__)\n",
    "4. __New__ `Batch` __class introduced in weaviate-client version 3.0.0.__\n",
    "\n",
    "We are going to see all of them in action, but first lets underline the differences between them.\n",
    "\n",
    "- Option 1. is the safest method to add data objects and creating references because it does object validation before creating it, whereas importing data in batches skips most of the validation in favor for speed. This option requires one REST request per object, thus is slower than importing data in batches. It is recommended to use this option if you are not sure if the your data is valid.\n",
    "\n",
    "\n",
    "- Option 2. as mentioned above skips most of data validation and requires only one REST request per BATCH. For this method you just add as much data as you want to a batch request (there are 2 types: `ReferenceBatchRequest` and `ObjectsBatchRequest`) then you submit it using the `batch` object attribute of the client. This option requires you to first import data objects, and then references (make sure that the objects used in the reference are already imported before creating a reference). (__Only in__ `weaviate-client` __version <3.0.0.__)\n",
    "\n",
    "\n",
    "- Option 3. relies on the batch requests from 2. but for a `Batcher` you do not have to submit any batch requests it does it automatically for you when it is full. (__Only in__ `weaviate-client` __version <3.0.0.__)\n",
    "\n",
    "- Option 4: __New__ `Batch` __class introduced in weaviate-client version 3.0.0.__ The new `Batch` object does not need the `BatchRequests` from 2. but uses them internally. The new class also supports 3 different cases of loading data in batches: a) Manually - the user has the absolute control when and how to add and create batches; b) Auto-create batches when full; c) Auto-create batches using dynamic batching, i.e. the batch size is adjusted every time it is created to avoid any `Timeout` errors."
   ]
  },
  {
   "cell_type": "markdown",
   "metadata": {
    "id": "intensive-granny"
   },
   "source": [
    "###  Load data using `data_object` attribute"
   ]
  },
  {
   "cell_type": "markdown",
   "metadata": {
    "id": "excess-treasury"
   },
   "source": [
    "For this case lets take only one article (`data[0]`) and import it to Weaviate using the `data_object` attribute.\n",
    "\n",
    "The way to do it, is by creating first the objects and then the reference that links them."
   ]
  },
  {
   "cell_type": "markdown",
   "metadata": {
    "id": "governing-highlight"
   },
   "source": [
    "Each data object should have the same format as defined in schema."
   ]
  },
  {
   "cell_type": "code",
   "execution_count": 34,
   "metadata": {
    "colab": {
     "base_uri": "https://localhost:8080/"
    },
    "id": "animated-garage",
    "outputId": "8253462d-5dbd-45ea-accd-6f44fdd49037"
   },
   "outputs": [
    {
     "name": "stdout",
     "output_type": "stream",
     "text": [
      "{\n",
      "  \"id\": \"83a3d904-3961-31a1-97d4-0117450c5bc4\",\n",
      "  \"title\": \"Russia-Ukraine war latest: Zelenskiy says Sievierodonetsk seeing most difficult fighting so far in war \\u2013 live\",\n",
      "  \"summary\": \"11m ago 05.39 Fight for Sievierodonetsk will decide fate of eastern Ukraine - ZelenskiyUkraine\\u2019s president, Volodymyr Zelenskiy, has said the battle for the eastern city of Sievierodonetsk will decide the fate of Donbas and is seeing probably the most difficult fighting since Russia\\u2019s invasion began.\\n\\u201cSievierodonetsk remains the epicentre of the confrontation in Donbas,\\u201d Zelenskiy said in a late-night address to the nation on Wednesday evening, claiming that Ukraine had inflicted \\u201csignificant losses on the enemy\\u201d.\\nHeavy fighting continues in Ukraine's eastern Donbas Heavy fighting continues in Ukraine\\u2019s eastern DonbasSerhiy Haidai, the governor of Luhansk, said most of the city was now in Russian hands and that it was no longer possible to rescue civilians stranded there.\\nBut the fighting is still going on, our [forces] are defending Sievierodonetsk.\\nZelenskiy corroborated reports of heavy fighting, saying the battle for Sievierodonetsk was \\u201cprobably one of the most difficult during this war\\u201d.\",\n",
      "  \"authors\": [\n",
      "    \"Samantha Lock\"\n",
      "  ]\n",
      "}\n"
     ]
    }
   ],
   "source": [
    "prettify(data[0])"
   ]
  },
  {
   "cell_type": "code",
   "execution_count": 35,
   "metadata": {
    "colab": {
     "base_uri": "https://localhost:8080/"
    },
    "id": "postal-camcorder",
    "outputId": "c452a88a-6d2c-4716-ca71-8025e5280861"
   },
   "outputs": [
    {
     "name": "stdout",
     "output_type": "stream",
     "text": [
      "{\n",
      "  \"error\": [\n",
      "    {\n",
      "      \"message\": \"invalid object: class 'Article' not present in schema\"\n",
      "    }\n",
      "  ],\n",
      "  \"valid\": false\n",
      "}\n"
     ]
    }
   ],
   "source": [
    "article_object = {\n",
    "    'title': data[0]['title'],\n",
    "    'summary': data[0]['summary'].replace('\\n', '') # remove newline character\n",
    "    # we leave out the `hasAuthors` because it is a reference and will be created after we create the Authors\n",
    "}\n",
    "article_id = data[0]['id']\n",
    "\n",
    "# validated the object\n",
    "result = client.data_object.validate(\n",
    "    data_object=article_object,\n",
    "    class_name='Article',\n",
    "    uuid=article_id\n",
    ")\n",
    "\n",
    "prettify(result)"
   ]
  },
  {
   "cell_type": "markdown",
   "metadata": {
    "id": "loaded-parts"
   },
   "source": [
    "Object passed the validation test, now it is safe to create/import it."
   ]
  },
  {
   "cell_type": "code",
   "execution_count": 36,
   "metadata": {
    "colab": {
     "base_uri": "https://localhost:8080/",
     "height": 35
    },
    "id": "civil-treasurer",
    "outputId": "d9f2631c-3594-483e-a2d9-db0d94950d96"
   },
   "outputs": [
    {
     "data": {
      "text/plain": [
       "'83a3d904-3961-31a1-97d4-0117450c5bc4'"
      ]
     },
     "execution_count": 36,
     "metadata": {},
     "output_type": "execute_result"
    }
   ],
   "source": [
    "# create the object\n",
    "client.data_object.create(\n",
    "    data_object=article_object,\n",
    "    class_name='Article',\n",
    "    uuid=article_id # if not specified, weaviate is going to create an UUID for you.\n",
    ")"
   ]
  },
  {
   "cell_type": "markdown",
   "metadata": {
    "id": "stuck-syndrome"
   },
   "source": [
    "The `client.data_object.create` return the UUID of the object, if you specified one it is going to be returned too. If you do not specify one, Weaviate is going to generate one for you and return it.\n",
    "\n",
    " we have added our first object to weaviate!!!\n",
    "\n",
    "Now we can actually \"get\" this object from Weaviate by its UUID using `get_by_id` or `get` method. (`get` without specifying and UUID return first 100 objects)"
   ]
  },
  {
   "cell_type": "code",
   "execution_count": 37,
   "metadata": {
    "colab": {
     "base_uri": "https://localhost:8080/"
    },
    "id": "constitutional-condition",
    "outputId": "2f0465ba-87c1-4355-f8d3-0a7cedbbb6d9"
   },
   "outputs": [
    {
     "name": "stdout",
     "output_type": "stream",
     "text": [
      "{\n",
      "  \"class\": \"Article\",\n",
      "  \"creationTimeUnix\": 1654750619898,\n",
      "  \"id\": \"83a3d904-3961-31a1-97d4-0117450c5bc4\",\n",
      "  \"lastUpdateTimeUnix\": 1654750619898,\n",
      "  \"properties\": {\n",
      "    \"summary\": \"11m ago 05.39 Fight for Sievierodonetsk will decide fate of eastern Ukraine - ZelenskiyUkraine\\u2019s president, Volodymyr Zelenskiy, has said the battle for the eastern city of Sievierodonetsk will decide the fate of Donbas and is seeing probably the most difficult fighting since Russia\\u2019s invasion began.\\u201cSievierodonetsk remains the epicentre of the confrontation in Donbas,\\u201d Zelenskiy said in a late-night address to the nation on Wednesday evening, claiming that Ukraine had inflicted \\u201csignificant losses on the enemy\\u201d.Heavy fighting continues in Ukraine's eastern Donbas Heavy fighting continues in Ukraine\\u2019s eastern DonbasSerhiy Haidai, the governor of Luhansk, said most of the city was now in Russian hands and that it was no longer possible to rescue civilians stranded there.But the fighting is still going on, our [forces] are defending Sievierodonetsk.Zelenskiy corroborated reports of heavy fighting, saying the battle for Sievierodonetsk was \\u201cprobably one of the most difficult during this war\\u201d.\",\n",
      "    \"title\": \"Russia-Ukraine war latest: Zelenskiy says Sievierodonetsk seeing most difficult fighting so far in war \\u2013 live\"\n",
      "  },\n",
      "  \"vectorWeights\": null\n",
      "}\n"
     ]
    }
   ],
   "source": [
    "prettify(client.data_object.get(article_id, with_vector=False))"
   ]
  },
  {
   "cell_type": "markdown",
   "metadata": {
    "id": "numerical-direction"
   },
   "source": [
    "###  Load data using batches\n",
    "(__Only in__ `weaviate-client` __version < 3.0.0.__)"
   ]
  },
  {
   "cell_type": "markdown",
   "metadata": {
    "id": "protecting-passion"
   },
   "source": [
    "Importing data in batches is very similar to adding object by object.\n",
    "\n",
    "The first thing we have to do is to create a `BatchRequest` object for each object type: `DataObject` and `Reference`. They are named accordingly: `ObjectsBatchRequest` and `ReferenceBatchRequest`.\n",
    "\n"
   ]
  },
  {
   "cell_type": "code",
   "execution_count": 41,
   "metadata": {
    "id": "nominated-southwest"
   },
   "outputs": [],
   "source": [
    "from weaviate import ObjectsBatchRequest, ReferenceBatchRequest"
   ]
  },
  {
   "cell_type": "markdown",
   "metadata": {
    "id": "essential-ideal"
   },
   "source": [
    "Lets create a function that adds a single article to the batch request."
   ]
  },
  {
   "cell_type": "code",
   "execution_count": 42,
   "metadata": {
    "id": "sound-austin"
   },
   "outputs": [],
   "source": [
    "def add_article(batch: ObjectsBatchRequest, article_data: dict) -> str:\n",
    "    \n",
    "    article_object = {\n",
    "        'title': article_data['title'],\n",
    "        'summary': article_data['summary'].replace('\\n', '') # remove newline character\n",
    "    }\n",
    "    article_id = article_data['id']\n",
    "    \n",
    "    # add article to the object batch request\n",
    "    batch.add(\n",
    "        data_object=article_object,\n",
    "        class_name='Article',\n",
    "        uuid=article_id\n",
    "    )\n",
    "    \n",
    "    return article_id"
   ]
  },
  {
   "cell_type": "markdown",
   "metadata": {
    "id": "seven-circus"
   },
   "source": [
    "Lets now create a function add a single author to the batch request, if the author was not already created."
   ]
  },
  {
   "cell_type": "code",
   "execution_count": 43,
   "metadata": {
    "id": "marked-brass"
   },
   "outputs": [],
   "source": [
    "def add_author(batch: ObjectsBatchRequest, author_name: str, created_authors: dict) -> str:\n",
    "    \n",
    "    if author_name in created_authors:\n",
    "        # return author UUID\n",
    "        return created_authors[author_name]\n",
    "    \n",
    "    # generate an UUID for the Author\n",
    "    author_id = generate_uuid(author)\n",
    "    \n",
    "    # add author to the object batch request\n",
    "    batch.add(\n",
    "        data_object={'name': author_name},\n",
    "        class_name='Author',\n",
    "        uuid=author_id\n",
    "    )\n",
    "    \n",
    "    created_authors[author_name] = author_id\n",
    "    return author_id"
   ]
  },
  {
   "cell_type": "markdown",
   "metadata": {
    "id": "stylish-overview"
   },
   "source": [
    "And the last function for adding cross references."
   ]
  },
  {
   "cell_type": "code",
   "execution_count": 44,
   "metadata": {
    "id": "continued-glance"
   },
   "outputs": [],
   "source": [
    "def add_references(batch: ReferenceBatchRequest, article_id: str, author_id: str)-> None:\n",
    "    # add references to the reference batch request\n",
    "    ## Author -> Article\n",
    "    batch.add(\n",
    "        from_object_uuid=author_id,\n",
    "        from_object_class_name='Author',\n",
    "        from_property_name='wroteArticles',\n",
    "        to_object_uuid=article_id\n",
    "    )\n",
    "    \n",
    "    ## Article -> Author \n",
    "    batch.add(\n",
    "        from_object_uuid=article_id,\n",
    "        from_object_class_name='Article',\n",
    "        from_property_name='hasAuthors',\n",
    "        to_object_uuid=author_id\n",
    "    )"
   ]
  },
  {
   "cell_type": "markdown",
   "metadata": {
    "id": "adequate-holly"
   },
   "source": [
    "iterate through the data and import data using batches."
   ]
  },
  {
   "cell_type": "code",
   "execution_count": 45,
   "metadata": {
    "id": "revised-trustee"
   },
   "outputs": [
    {
     "data": {
      "application/vnd.jupyter.widget-view+json": {
       "model_id": "8e3610978c5e433e80da236fda4a8baf",
       "version_major": 2,
       "version_minor": 0
      },
      "text/plain": [
       "  0%|          | 0/99 [00:00<?, ?it/s]"
      ]
     },
     "metadata": {},
     "output_type": "display_data"
    }
   ],
   "source": [
    "from weaviate.tools import generate_uuid # in version 3.0.0 it is weaviate.util.generate_uuid5\n",
    "from tqdm.notebook import trange\n",
    "\n",
    "objects_batch = ObjectsBatchRequest()\n",
    "reference_batch = ReferenceBatchRequest()\n",
    "\n",
    "for i in trange(1, 100):\n",
    "    \n",
    "    # add article to batch request\n",
    "    article_id = add_article(objects_batch, data[i])\n",
    "    \n",
    "    for author in data[i]['authors']:\n",
    "        \n",
    "        # add author to batch request\n",
    "        author_id = add_author(objects_batch, author, created_authors)\n",
    "        \n",
    "        # add cross references to the reference batch\n",
    "        add_references(reference_batch, article_id=article_id, author_id=author_id)\n",
    "    \n",
    "    if i % 20 == 0:\n",
    "        # submit the object batch request to weaviate, can be done with method '.create_objects'\n",
    "        client.batch.create(objects_batch)\n",
    "        \n",
    "        # submit the reference batch request to weaviate, can be done with method '.create_references'\n",
    "        client.batch.create(reference_batch)\n",
    "        \n",
    "        # batch requests are not reusable, so we create new ones\n",
    "        objects_batch = ObjectsBatchRequest()\n",
    "        reference_batch = ReferenceBatchRequest()\n",
    "\n",
    "\n",
    "# submit the any object that are left\n",
    "status_objects = client.batch.create(objects_batch)\n",
    "status_references = client.batch.create(reference_batch)"
   ]
  },
  {
   "cell_type": "markdown",
   "metadata": {
    "id": "lyric-belief"
   },
   "source": [
    "In order to import data in batches we should create a `BatchRequest` object for the data object type we want to import. A batch request object does not have a size limit so you should submit it when there are as many objects as you want. (Keep in mind that if you will use a batch with too many objects it might result in an TimeOut error so keep it to a reasonable size so your Weaviate instance can process it.) Also we keep track of the authors we already created so we do not create the same author over and over again.\n"
   ]
  },
  {
   "cell_type": "markdown",
   "metadata": {
    "id": "advisory-newman"
   },
   "source": [
    "### Load data using a Batcher object.\n",
    "(__Only in__ `weaviate-client` __version <3.0.0.__)"
   ]
  },
  {
   "cell_type": "markdown",
   "metadata": {
    "id": "raising-adams"
   },
   "source": [
    "The `Batcher` is a class that automatically submits objects to weaviate, both `DataObject`s and `Reference`s. The `Batcher` can be found in the `weaviate.tools` module\n",
    "```python\n",
    "Batcher(\n",
    "    client : weaviate.client.Client,\n",
    "    batch_size : int=512,\n",
    "    verbose : bool=False,\n",
    "    auto_commit_timeout : float=-1.0,\n",
    "    max_backoff_time : int=300,\n",
    "    max_request_retries : int=4,\n",
    "    return_values_callback : Callable=None,\n",
    ")\n",
    "```"
   ]
  },
  {
   "cell_type": "code",
   "execution_count": 46,
   "metadata": {
    "id": "formal-laugh"
   },
   "outputs": [],
   "source": [
    "from weaviate.tools import Batcher"
   ]
  },
  {
   "cell_type": "markdown",
   "metadata": {
    "id": "looking-fireplace"
   },
   "source": [
    "For a `Batcher` we only need to add the objects we want to import to Weaviate. The `Batcher` has a special method to add `objects` (`batcher.add_data_object`) and a special method to add `references` (`batcher.add_reference`). Also it provides a `batcher.add` method that has keywords arguments, which detects what kind of data you are trying to add. The `batcher.add` method makes it possible to reuse the `add_article`, `add_author` and `add_references` functions we defined above.\n",
    "\n",
    "**NOTE:** The `Batcher.add` was introduced in `weaviate-client` version 2.3.0. "
   ]
  },
  {
   "cell_type": "markdown",
   "metadata": {
    "id": "earlier-family"
   },
   "source": [
    "Lets use the batcher to add the remaining articles and authors from `data`. Because the `Batcher` automatically submits objects to weaviate, we need to ALWAYS `.close()` it after we are done to make sure we are submitting what remains in the `Batcher`.\n",
    "\n"
   ]
  },
  {
   "cell_type": "code",
   "execution_count": 47,
   "metadata": {
    "id": "fossil-accident"
   },
   "outputs": [
    {
     "name": "stdout",
     "output_type": "stream",
     "text": [
      "Batcher object created!\n"
     ]
    },
    {
     "data": {
      "application/vnd.jupyter.widget-view+json": {
       "model_id": "f9c1877e001e4a8ca02bb1fc9556b59a",
       "version_major": 2,
       "version_minor": 0
      },
      "text/plain": [
       "  0%|          | 0/100 [00:00<?, ?it/s]"
      ]
     },
     "metadata": {},
     "output_type": "display_data"
    },
    {
     "name": "stdout",
     "output_type": "stream",
     "text": [
      "Updated object batch successfully\n",
      "{'result': {'errors': {'error': [{'message': \"ref batch: write inverted batch: write additions: no bucket for prop 'wroteArticles__meta_count' found\"}]}, 'status': 'FAILED'}}\n",
      "{'result': {'errors': {'error': [{'message': \"ref batch: write inverted batch: write additions: no bucket for prop 'hasAuthors__meta_count' found\"}]}, 'status': 'FAILED'}}\n",
      "{'result': {'errors': {'error': [{'message': \"ref batch: write inverted batch: write additions: no bucket for prop 'wroteArticles__meta_count' found\"}]}, 'status': 'FAILED'}}\n",
      "{'result': {'errors': {'error': [{'message': \"ref batch: write inverted batch: write additions: no bucket for prop 'hasAuthors__meta_count' found\"}]}, 'status': 'FAILED'}}\n",
      "{'result': {'errors': {'error': [{'message': \"ref batch: write inverted batch: write additions: no bucket for prop 'wroteArticles__meta_count' found\"}]}, 'status': 'FAILED'}}\n",
      "{'result': {'errors': {'error': [{'message': \"ref batch: write inverted batch: write additions: no bucket for prop 'hasAuthors__meta_count' found\"}]}, 'status': 'FAILED'}}\n",
      "{'result': {'errors': {'error': [{'message': \"ref batch: write inverted batch: write additions: no bucket for prop 'wroteArticles__meta_count' found\"}]}, 'status': 'FAILED'}}\n",
      "{'result': {'errors': {'error': [{'message': \"ref batch: write inverted batch: write additions: no bucket for prop 'hasAuthors__meta_count' found\"}]}, 'status': 'FAILED'}}\n",
      "{'result': {'errors': {'error': [{'message': \"ref batch: write inverted batch: write additions: no bucket for prop 'wroteArticles__meta_count' found\"}]}, 'status': 'FAILED'}}\n",
      "{'result': {'errors': {'error': [{'message': \"ref batch: write inverted batch: write additions: no bucket for prop 'hasAuthors__meta_count' found\"}]}, 'status': 'FAILED'}}\n",
      "{'result': {'errors': {'error': [{'message': \"ref batch: write inverted batch: write additions: no bucket for prop 'wroteArticles__meta_count' found\"}]}, 'status': 'FAILED'}}\n",
      "{'result': {'errors': {'error': [{'message': \"ref batch: write inverted batch: write additions: no bucket for prop 'hasAuthors__meta_count' found\"}]}, 'status': 'FAILED'}}\n",
      "{'result': {'errors': {'error': [{'message': \"ref batch: write inverted batch: write additions: no bucket for prop 'wroteArticles__meta_count' found\"}]}, 'status': 'FAILED'}}\n",
      "{'result': {'errors': {'error': [{'message': \"ref batch: write inverted batch: write additions: no bucket for prop 'hasAuthors__meta_count' found\"}]}, 'status': 'FAILED'}}\n",
      "{'result': {'errors': {'error': [{'message': \"ref batch: write inverted batch: write additions: no bucket for prop 'wroteArticles__meta_count' found\"}]}, 'status': 'FAILED'}}\n",
      "{'result': {'errors': {'error': [{'message': \"ref batch: write inverted batch: write additions: no bucket for prop 'hasAuthors__meta_count' found\"}]}, 'status': 'FAILED'}}\n",
      "Updated reference batch successfully\n",
      "Updated object batch successfully\n",
      "{'result': {'errors': {'error': [{'message': \"ref batch: write inverted batch: write additions: no bucket for prop 'wroteArticles__meta_count' found\"}]}, 'status': 'FAILED'}}\n",
      "{'result': {'errors': {'error': [{'message': \"ref batch: write inverted batch: write additions: no bucket for prop 'hasAuthors' found\"}]}, 'status': 'FAILED'}}\n",
      "{'result': {'errors': {'error': [{'message': \"ref batch: write inverted batch: write additions: no bucket for prop 'wroteArticles__meta_count' found\"}]}, 'status': 'FAILED'}}\n",
      "{'result': {'errors': {'error': [{'message': \"ref batch: write inverted batch: write additions: no bucket for prop 'hasAuthors' found\"}]}, 'status': 'FAILED'}}\n",
      "{'result': {'errors': {'error': [{'message': \"ref batch: write inverted batch: write additions: no bucket for prop 'wroteArticles__meta_count' found\"}]}, 'status': 'FAILED'}}\n",
      "{'result': {'errors': {'error': [{'message': \"ref batch: write inverted batch: write additions: no bucket for prop 'hasAuthors' found\"}]}, 'status': 'FAILED'}}\n",
      "{'result': {'errors': {'error': [{'message': \"ref batch: write inverted batch: write additions: no bucket for prop 'wroteArticles__meta_count' found\"}]}, 'status': 'FAILED'}}\n",
      "{'result': {'errors': {'error': [{'message': \"ref batch: write inverted batch: write additions: no bucket for prop 'hasAuthors' found\"}]}, 'status': 'FAILED'}}\n",
      "{'result': {'errors': {'error': [{'message': \"ref batch: write inverted batch: write additions: no bucket for prop 'wroteArticles__meta_count' found\"}]}, 'status': 'FAILED'}}\n",
      "{'result': {'errors': {'error': [{'message': \"ref batch: write inverted batch: write additions: no bucket for prop 'hasAuthors' found\"}]}, 'status': 'FAILED'}}\n",
      "{'result': {'errors': {'error': [{'message': \"ref batch: write inverted batch: write additions: no bucket for prop 'wroteArticles__meta_count' found\"}]}, 'status': 'FAILED'}}\n",
      "{'result': {'errors': {'error': [{'message': \"ref batch: write inverted batch: write additions: no bucket for prop 'hasAuthors' found\"}]}, 'status': 'FAILED'}}\n",
      "{'result': {'errors': {'error': [{'message': \"ref batch: write inverted batch: write additions: no bucket for prop 'wroteArticles__meta_count' found\"}]}, 'status': 'FAILED'}}\n",
      "{'result': {'errors': {'error': [{'message': \"ref batch: write inverted batch: write additions: no bucket for prop 'hasAuthors' found\"}]}, 'status': 'FAILED'}}\n",
      "{'result': {'errors': {'error': [{'message': \"ref batch: write inverted batch: write additions: no bucket for prop 'wroteArticles__meta_count' found\"}]}, 'status': 'FAILED'}}\n",
      "{'result': {'errors': {'error': [{'message': \"ref batch: write inverted batch: write additions: no bucket for prop 'hasAuthors' found\"}]}, 'status': 'FAILED'}}\n",
      "{'result': {'errors': {'error': [{'message': \"ref batch: write inverted batch: write additions: no bucket for prop 'wroteArticles__meta_count' found\"}]}, 'status': 'FAILED'}}\n",
      "{'result': {'errors': {'error': [{'message': \"ref batch: write inverted batch: write additions: no bucket for prop 'hasAuthors' found\"}]}, 'status': 'FAILED'}}\n",
      "Updated reference batch successfully\n",
      "Updated object batch successfully\n",
      "{'result': {'errors': {'error': [{'message': \"ref batch: write inverted batch: write additions: no bucket for prop 'wroteArticles' found\"}]}, 'status': 'FAILED'}}\n",
      "{'result': {'errors': {'error': [{'message': \"ref batch: write inverted batch: write additions: no bucket for prop 'hasAuthors__meta_count' found\"}]}, 'status': 'FAILED'}}\n",
      "{'result': {'errors': {'error': [{'message': \"ref batch: write inverted batch: write additions: no bucket for prop 'wroteArticles' found\"}]}, 'status': 'FAILED'}}\n",
      "{'result': {'errors': {'error': [{'message': \"ref batch: write inverted batch: write additions: no bucket for prop 'hasAuthors__meta_count' found\"}]}, 'status': 'FAILED'}}\n",
      "{'result': {'errors': {'error': [{'message': \"ref batch: write inverted batch: write additions: no bucket for prop 'wroteArticles' found\"}]}, 'status': 'FAILED'}}\n",
      "{'result': {'errors': {'error': [{'message': \"ref batch: write inverted batch: write additions: no bucket for prop 'hasAuthors__meta_count' found\"}]}, 'status': 'FAILED'}}\n",
      "{'result': {'errors': {'error': [{'message': \"ref batch: write inverted batch: write additions: no bucket for prop 'wroteArticles' found\"}]}, 'status': 'FAILED'}}\n",
      "{'result': {'errors': {'error': [{'message': \"ref batch: write inverted batch: write additions: no bucket for prop 'hasAuthors__meta_count' found\"}]}, 'status': 'FAILED'}}\n",
      "{'result': {'errors': {'error': [{'message': \"ref batch: write inverted batch: write additions: no bucket for prop 'wroteArticles' found\"}]}, 'status': 'FAILED'}}\n",
      "{'result': {'errors': {'error': [{'message': \"ref batch: write inverted batch: write additions: no bucket for prop 'hasAuthors__meta_count' found\"}]}, 'status': 'FAILED'}}\n",
      "{'result': {'errors': {'error': [{'message': \"ref batch: write inverted batch: write additions: no bucket for prop 'wroteArticles' found\"}]}, 'status': 'FAILED'}}\n",
      "{'result': {'errors': {'error': [{'message': \"ref batch: write inverted batch: write additions: no bucket for prop 'hasAuthors__meta_count' found\"}]}, 'status': 'FAILED'}}\n",
      "{'result': {'errors': {'error': [{'message': \"ref batch: write inverted batch: write additions: no bucket for prop 'wroteArticles' found\"}]}, 'status': 'FAILED'}}\n",
      "{'result': {'errors': {'error': [{'message': \"ref batch: write inverted batch: write additions: no bucket for prop 'hasAuthors__meta_count' found\"}]}, 'status': 'FAILED'}}\n",
      "{'result': {'errors': {'error': [{'message': \"ref batch: write inverted batch: write additions: no bucket for prop 'wroteArticles' found\"}]}, 'status': 'FAILED'}}\n",
      "{'result': {'errors': {'error': [{'message': \"ref batch: write inverted batch: write additions: no bucket for prop 'hasAuthors__meta_count' found\"}]}, 'status': 'FAILED'}}\n",
      "{'result': {'errors': {'error': [{'message': \"ref batch: write inverted batch: write additions: no bucket for prop 'wroteArticles' found\"}]}, 'status': 'FAILED'}}\n",
      "{'result': {'errors': {'error': [{'message': \"ref batch: write inverted batch: write additions: no bucket for prop 'hasAuthors__meta_count' found\"}]}, 'status': 'FAILED'}}\n",
      "{'result': {'errors': {'error': [{'message': \"ref batch: write inverted batch: write additions: no bucket for prop 'wroteArticles' found\"}]}, 'status': 'FAILED'}}\n",
      "{'result': {'errors': {'error': [{'message': \"ref batch: write inverted batch: write additions: no bucket for prop 'hasAuthors__meta_count' found\"}]}, 'status': 'FAILED'}}\n",
      "{'result': {'errors': {'error': [{'message': \"ref batch: write inverted batch: write additions: no bucket for prop 'wroteArticles' found\"}]}, 'status': 'FAILED'}}\n",
      "{'result': {'errors': {'error': [{'message': \"ref batch: write inverted batch: write additions: no bucket for prop 'hasAuthors__meta_count' found\"}]}, 'status': 'FAILED'}}\n",
      "Updated reference batch successfully\n"
     ]
    },
    {
     "name": "stdout",
     "output_type": "stream",
     "text": [
      "Updated object batch successfully\n",
      "{'result': {'errors': {'error': [{'message': \"ref batch: write inverted batch: write additions: no bucket for prop 'wroteArticles' found\"}]}, 'status': 'FAILED'}}\n",
      "{'result': {'errors': {'error': [{'message': \"ref batch: write inverted batch: write additions: no bucket for prop 'hasAuthors__meta_count' found\"}]}, 'status': 'FAILED'}}\n",
      "{'result': {'errors': {'error': [{'message': \"ref batch: write inverted batch: write additions: no bucket for prop 'wroteArticles' found\"}]}, 'status': 'FAILED'}}\n",
      "{'result': {'errors': {'error': [{'message': \"ref batch: write inverted batch: write additions: no bucket for prop 'hasAuthors__meta_count' found\"}]}, 'status': 'FAILED'}}\n",
      "{'result': {'errors': {'error': [{'message': \"ref batch: write inverted batch: write additions: no bucket for prop 'wroteArticles' found\"}]}, 'status': 'FAILED'}}\n",
      "{'result': {'errors': {'error': [{'message': \"ref batch: write inverted batch: write additions: no bucket for prop 'hasAuthors__meta_count' found\"}]}, 'status': 'FAILED'}}\n",
      "{'result': {'errors': {'error': [{'message': \"ref batch: write inverted batch: write additions: no bucket for prop 'wroteArticles' found\"}]}, 'status': 'FAILED'}}\n",
      "{'result': {'errors': {'error': [{'message': \"ref batch: write inverted batch: write additions: no bucket for prop 'hasAuthors__meta_count' found\"}]}, 'status': 'FAILED'}}\n",
      "{'result': {'errors': {'error': [{'message': \"ref batch: write inverted batch: write additions: no bucket for prop 'wroteArticles' found\"}]}, 'status': 'FAILED'}}\n",
      "{'result': {'errors': {'error': [{'message': \"ref batch: write inverted batch: write additions: no bucket for prop 'hasAuthors__meta_count' found\"}]}, 'status': 'FAILED'}}\n",
      "{'result': {'errors': {'error': [{'message': \"ref batch: write inverted batch: write additions: no bucket for prop 'wroteArticles' found\"}]}, 'status': 'FAILED'}}\n",
      "{'result': {'errors': {'error': [{'message': \"ref batch: write inverted batch: write additions: no bucket for prop 'hasAuthors__meta_count' found\"}]}, 'status': 'FAILED'}}\n",
      "{'result': {'errors': {'error': [{'message': \"ref batch: write inverted batch: write additions: no bucket for prop 'wroteArticles' found\"}]}, 'status': 'FAILED'}}\n",
      "{'result': {'errors': {'error': [{'message': \"ref batch: write inverted batch: write additions: no bucket for prop 'hasAuthors__meta_count' found\"}]}, 'status': 'FAILED'}}\n",
      "{'result': {'errors': {'error': [{'message': \"ref batch: write inverted batch: write additions: no bucket for prop 'wroteArticles' found\"}]}, 'status': 'FAILED'}}\n",
      "{'result': {'errors': {'error': [{'message': \"ref batch: write inverted batch: write additions: no bucket for prop 'hasAuthors__meta_count' found\"}]}, 'status': 'FAILED'}}\n",
      "{'result': {'errors': {'error': [{'message': \"ref batch: write inverted batch: write additions: no bucket for prop 'wroteArticles' found\"}]}, 'status': 'FAILED'}}\n",
      "{'result': {'errors': {'error': [{'message': \"ref batch: write inverted batch: write additions: no bucket for prop 'hasAuthors__meta_count' found\"}]}, 'status': 'FAILED'}}\n",
      "{'result': {'errors': {'error': [{'message': \"ref batch: write inverted batch: write additions: no bucket for prop 'wroteArticles' found\"}]}, 'status': 'FAILED'}}\n",
      "{'result': {'errors': {'error': [{'message': \"ref batch: write inverted batch: write additions: no bucket for prop 'hasAuthors__meta_count' found\"}]}, 'status': 'FAILED'}}\n",
      "{'result': {'errors': {'error': [{'message': \"ref batch: write inverted batch: write additions: no bucket for prop 'wroteArticles' found\"}]}, 'status': 'FAILED'}}\n",
      "Updated reference batch successfully\n",
      "Updated object batch successfully\n",
      "{'result': {'errors': {'error': [{'message': \"ref batch: write inverted batch: write additions: no bucket for prop 'hasAuthors__meta_count' found\"}]}, 'status': 'FAILED'}}\n",
      "{'result': {'errors': {'error': [{'message': \"ref batch: write inverted batch: write additions: no bucket for prop 'wroteArticles__meta_count' found\"}]}, 'status': 'FAILED'}}\n",
      "{'result': {'errors': {'error': [{'message': \"ref batch: write inverted batch: write additions: no bucket for prop 'hasAuthors__meta_count' found\"}]}, 'status': 'FAILED'}}\n",
      "{'result': {'errors': {'error': [{'message': \"ref batch: write inverted batch: write additions: no bucket for prop 'wroteArticles__meta_count' found\"}]}, 'status': 'FAILED'}}\n",
      "{'result': {'errors': {'error': [{'message': \"ref batch: write inverted batch: write additions: no bucket for prop 'hasAuthors__meta_count' found\"}]}, 'status': 'FAILED'}}\n",
      "{'result': {'errors': {'error': [{'message': \"ref batch: write inverted batch: write additions: no bucket for prop 'wroteArticles__meta_count' found\"}]}, 'status': 'FAILED'}}\n",
      "{'result': {'errors': {'error': [{'message': \"ref batch: write inverted batch: write additions: no bucket for prop 'hasAuthors__meta_count' found\"}]}, 'status': 'FAILED'}}\n",
      "{'result': {'errors': {'error': [{'message': \"ref batch: write inverted batch: write additions: no bucket for prop 'wroteArticles__meta_count' found\"}]}, 'status': 'FAILED'}}\n",
      "{'result': {'errors': {'error': [{'message': \"ref batch: write inverted batch: write additions: no bucket for prop 'hasAuthors__meta_count' found\"}]}, 'status': 'FAILED'}}\n",
      "{'result': {'errors': {'error': [{'message': \"ref batch: write inverted batch: write additions: no bucket for prop 'wroteArticles__meta_count' found\"}]}, 'status': 'FAILED'}}\n",
      "{'result': {'errors': {'error': [{'message': \"ref batch: write inverted batch: write additions: no bucket for prop 'hasAuthors__meta_count' found\"}]}, 'status': 'FAILED'}}\n",
      "{'result': {'errors': {'error': [{'message': \"ref batch: write inverted batch: write additions: no bucket for prop 'wroteArticles__meta_count' found\"}]}, 'status': 'FAILED'}}\n",
      "{'result': {'errors': {'error': [{'message': \"ref batch: write inverted batch: write additions: no bucket for prop 'hasAuthors__meta_count' found\"}]}, 'status': 'FAILED'}}\n",
      "{'result': {'errors': {'error': [{'message': \"ref batch: write inverted batch: write additions: no bucket for prop 'wroteArticles__meta_count' found\"}]}, 'status': 'FAILED'}}\n",
      "{'result': {'errors': {'error': [{'message': \"ref batch: write inverted batch: write additions: no bucket for prop 'hasAuthors__meta_count' found\"}]}, 'status': 'FAILED'}}\n",
      "{'result': {'errors': {'error': [{'message': \"ref batch: write inverted batch: write additions: no bucket for prop 'wroteArticles__meta_count' found\"}]}, 'status': 'FAILED'}}\n",
      "{'result': {'errors': {'error': [{'message': \"ref batch: write inverted batch: write additions: no bucket for prop 'hasAuthors__meta_count' found\"}]}, 'status': 'FAILED'}}\n",
      "{'result': {'errors': {'error': [{'message': \"ref batch: write inverted batch: write additions: no bucket for prop 'wroteArticles__meta_count' found\"}]}, 'status': 'FAILED'}}\n",
      "{'result': {'errors': {'error': [{'message': \"ref batch: write inverted batch: write additions: no bucket for prop 'hasAuthors__meta_count' found\"}]}, 'status': 'FAILED'}}\n",
      "{'result': {'errors': {'error': [{'message': \"ref batch: write inverted batch: write additions: no bucket for prop 'wroteArticles__meta_count' found\"}]}, 'status': 'FAILED'}}\n",
      "Updated reference batch successfully\n",
      "Updated object batch successfully\n",
      "{'result': {'errors': {'error': [{'message': \"ref batch: write inverted batch: write additions: no bucket for prop 'hasAuthors' found\"}]}, 'status': 'FAILED'}}\n",
      "{'result': {'errors': {'error': [{'message': \"ref batch: write inverted batch: write additions: no bucket for prop 'wroteArticles__meta_count' found\"}]}, 'status': 'FAILED'}}\n",
      "{'result': {'errors': {'error': [{'message': \"ref batch: write inverted batch: write additions: no bucket for prop 'hasAuthors' found\"}]}, 'status': 'FAILED'}}\n",
      "{'result': {'errors': {'error': [{'message': \"ref batch: write inverted batch: write additions: no bucket for prop 'wroteArticles__meta_count' found\"}]}, 'status': 'FAILED'}}\n",
      "{'result': {'errors': {'error': [{'message': \"ref batch: write inverted batch: write additions: no bucket for prop 'hasAuthors' found\"}]}, 'status': 'FAILED'}}\n",
      "{'result': {'errors': {'error': [{'message': \"ref batch: write inverted batch: write additions: no bucket for prop 'wroteArticles__meta_count' found\"}]}, 'status': 'FAILED'}}\n",
      "{'result': {'errors': {'error': [{'message': \"ref batch: write inverted batch: write additions: no bucket for prop 'hasAuthors' found\"}]}, 'status': 'FAILED'}}\n",
      "{'result': {'errors': {'error': [{'message': \"ref batch: write inverted batch: write additions: no bucket for prop 'wroteArticles__meta_count' found\"}]}, 'status': 'FAILED'}}\n",
      "{'result': {'errors': {'error': [{'message': \"ref batch: write inverted batch: write additions: no bucket for prop 'hasAuthors' found\"}]}, 'status': 'FAILED'}}\n",
      "{'result': {'errors': {'error': [{'message': \"ref batch: write inverted batch: write additions: no bucket for prop 'wroteArticles__meta_count' found\"}]}, 'status': 'FAILED'}}\n",
      "{'result': {'errors': {'error': [{'message': \"ref batch: write inverted batch: write additions: no bucket for prop 'hasAuthors' found\"}]}, 'status': 'FAILED'}}\n",
      "{'result': {'errors': {'error': [{'message': \"ref batch: write inverted batch: write additions: no bucket for prop 'wroteArticles__meta_count' found\"}]}, 'status': 'FAILED'}}\n",
      "{'result': {'errors': {'error': [{'message': \"ref batch: write inverted batch: write additions: no bucket for prop 'hasAuthors' found\"}]}, 'status': 'FAILED'}}\n",
      "{'result': {'errors': {'error': [{'message': \"ref batch: write inverted batch: write additions: no bucket for prop 'wroteArticles__meta_count' found\"}]}, 'status': 'FAILED'}}\n",
      "{'result': {'errors': {'error': [{'message': \"ref batch: write inverted batch: write additions: no bucket for prop 'hasAuthors' found\"}]}, 'status': 'FAILED'}}\n",
      "{'result': {'errors': {'error': [{'message': \"ref batch: write inverted batch: write additions: no bucket for prop 'wroteArticles__meta_count' found\"}]}, 'status': 'FAILED'}}\n",
      "{'result': {'errors': {'error': [{'message': \"ref batch: write inverted batch: write additions: no bucket for prop 'hasAuthors' found\"}]}, 'status': 'FAILED'}}\n",
      "{'result': {'errors': {'error': [{'message': \"ref batch: write inverted batch: write additions: no bucket for prop 'wroteArticles__meta_count' found\"}]}, 'status': 'FAILED'}}\n",
      "{'result': {'errors': {'error': [{'message': \"ref batch: write inverted batch: write additions: no bucket for prop 'hasAuthors' found\"}]}, 'status': 'FAILED'}}\n",
      "{'result': {'errors': {'error': [{'message': \"ref batch: write inverted batch: write additions: no bucket for prop 'wroteArticles__meta_count' found\"}]}, 'status': 'FAILED'}}\n",
      "{'result': {'errors': {'error': [{'message': \"ref batch: write inverted batch: write additions: no bucket for prop 'hasAuthors' found\"}]}, 'status': 'FAILED'}}\n",
      "{'result': {'errors': {'error': [{'message': \"ref batch: write inverted batch: write additions: no bucket for prop 'wroteArticles__meta_count' found\"}]}, 'status': 'FAILED'}}\n",
      "{'result': {'errors': {'error': [{'message': \"ref batch: write inverted batch: write additions: no bucket for prop 'hasAuthors' found\"}]}, 'status': 'FAILED'}}\n",
      "{'result': {'errors': {'error': [{'message': \"ref batch: write inverted batch: write additions: no bucket for prop 'wroteArticles__meta_count' found\"}]}, 'status': 'FAILED'}}\n",
      "Updated reference batch successfully\n"
     ]
    },
    {
     "name": "stdout",
     "output_type": "stream",
     "text": [
      "Updated object batch successfully\n",
      "{'result': {'errors': {'error': [{'message': \"ref batch: write inverted batch: write additions: no bucket for prop 'hasAuthors' found\"}]}, 'status': 'FAILED'}}\n",
      "{'result': {'errors': {'error': [{'message': \"ref batch: write inverted batch: write additions: no bucket for prop 'wroteArticles__meta_count' found\"}]}, 'status': 'FAILED'}}\n",
      "{'result': {'errors': {'error': [{'message': \"ref batch: write inverted batch: write additions: no bucket for prop 'hasAuthors' found\"}]}, 'status': 'FAILED'}}\n",
      "{'result': {'errors': {'error': [{'message': \"ref batch: write inverted batch: write additions: no bucket for prop 'wroteArticles__meta_count' found\"}]}, 'status': 'FAILED'}}\n",
      "{'result': {'errors': {'error': [{'message': \"ref batch: write inverted batch: write additions: no bucket for prop 'hasAuthors' found\"}]}, 'status': 'FAILED'}}\n",
      "{'result': {'errors': {'error': [{'message': \"ref batch: write inverted batch: write additions: no bucket for prop 'wroteArticles__meta_count' found\"}]}, 'status': 'FAILED'}}\n",
      "{'result': {'errors': {'error': [{'message': \"ref batch: write inverted batch: write additions: no bucket for prop 'hasAuthors' found\"}]}, 'status': 'FAILED'}}\n",
      "{'result': {'errors': {'error': [{'message': \"ref batch: write inverted batch: write additions: no bucket for prop 'wroteArticles__meta_count' found\"}]}, 'status': 'FAILED'}}\n",
      "{'result': {'errors': {'error': [{'message': \"ref batch: write inverted batch: write additions: no bucket for prop 'hasAuthors' found\"}]}, 'status': 'FAILED'}}\n",
      "{'result': {'errors': {'error': [{'message': \"ref batch: write inverted batch: write additions: no bucket for prop 'wroteArticles__meta_count' found\"}]}, 'status': 'FAILED'}}\n",
      "{'result': {'errors': {'error': [{'message': \"ref batch: write inverted batch: write additions: no bucket for prop 'hasAuthors' found\"}]}, 'status': 'FAILED'}}\n",
      "{'result': {'errors': {'error': [{'message': \"ref batch: write inverted batch: write additions: no bucket for prop 'wroteArticles__meta_count' found\"}]}, 'status': 'FAILED'}}\n",
      "{'result': {'errors': {'error': [{'message': \"ref batch: write inverted batch: write additions: no bucket for prop 'hasAuthors' found\"}]}, 'status': 'FAILED'}}\n",
      "{'result': {'errors': {'error': [{'message': \"ref batch: write inverted batch: write additions: no bucket for prop 'wroteArticles__meta_count' found\"}]}, 'status': 'FAILED'}}\n",
      "{'result': {'errors': {'error': [{'message': \"ref batch: write inverted batch: write additions: no bucket for prop 'hasAuthors' found\"}]}, 'status': 'FAILED'}}\n",
      "{'result': {'errors': {'error': [{'message': \"ref batch: write inverted batch: write additions: no bucket for prop 'wroteArticles__meta_count' found\"}]}, 'status': 'FAILED'}}\n",
      "{'result': {'errors': {'error': [{'message': \"ref batch: write inverted batch: write additions: no bucket for prop 'hasAuthors' found\"}]}, 'status': 'FAILED'}}\n",
      "{'result': {'errors': {'error': [{'message': \"ref batch: write inverted batch: write additions: no bucket for prop 'wroteArticles__meta_count' found\"}]}, 'status': 'FAILED'}}\n",
      "{'result': {'errors': {'error': [{'message': \"ref batch: write inverted batch: write additions: no bucket for prop 'hasAuthors' found\"}]}, 'status': 'FAILED'}}\n",
      "{'result': {'errors': {'error': [{'message': \"ref batch: write inverted batch: write additions: no bucket for prop 'wroteArticles__meta_count' found\"}]}, 'status': 'FAILED'}}\n",
      "{'result': {'errors': {'error': [{'message': \"ref batch: write inverted batch: write additions: no bucket for prop 'hasAuthors' found\"}]}, 'status': 'FAILED'}}\n",
      "Updated reference batch successfully\n",
      "Updated object batch successfully\n",
      "{'result': {'errors': {'error': [{'message': \"ref batch: write inverted batch: write additions: no bucket for prop 'wroteArticles__meta_count' found\"}]}, 'status': 'FAILED'}}\n",
      "{'result': {'errors': {'error': [{'message': \"ref batch: write inverted batch: write additions: no bucket for prop 'hasAuthors' found\"}]}, 'status': 'FAILED'}}\n",
      "{'result': {'errors': {'error': [{'message': \"ref batch: write inverted batch: write additions: no bucket for prop 'wroteArticles__meta_count' found\"}]}, 'status': 'FAILED'}}\n",
      "{'result': {'errors': {'error': [{'message': \"ref batch: write inverted batch: write additions: no bucket for prop 'hasAuthors' found\"}]}, 'status': 'FAILED'}}\n",
      "{'result': {'errors': {'error': [{'message': \"ref batch: write inverted batch: write additions: no bucket for prop 'wroteArticles__meta_count' found\"}]}, 'status': 'FAILED'}}\n",
      "{'result': {'errors': {'error': [{'message': \"ref batch: write inverted batch: write additions: no bucket for prop 'hasAuthors' found\"}]}, 'status': 'FAILED'}}\n",
      "{'result': {'errors': {'error': [{'message': \"ref batch: write inverted batch: write additions: no bucket for prop 'wroteArticles__meta_count' found\"}]}, 'status': 'FAILED'}}\n",
      "{'result': {'errors': {'error': [{'message': \"ref batch: write inverted batch: write additions: no bucket for prop 'hasAuthors' found\"}]}, 'status': 'FAILED'}}\n",
      "{'result': {'errors': {'error': [{'message': \"ref batch: write inverted batch: write additions: no bucket for prop 'wroteArticles__meta_count' found\"}]}, 'status': 'FAILED'}}\n",
      "{'result': {'errors': {'error': [{'message': \"ref batch: write inverted batch: write additions: no bucket for prop 'hasAuthors' found\"}]}, 'status': 'FAILED'}}\n",
      "{'result': {'errors': {'error': [{'message': \"ref batch: write inverted batch: write additions: no bucket for prop 'wroteArticles__meta_count' found\"}]}, 'status': 'FAILED'}}\n",
      "{'result': {'errors': {'error': [{'message': \"ref batch: write inverted batch: write additions: no bucket for prop 'hasAuthors' found\"}]}, 'status': 'FAILED'}}\n",
      "{'result': {'errors': {'error': [{'message': \"ref batch: write inverted batch: write additions: no bucket for prop 'wroteArticles__meta_count' found\"}]}, 'status': 'FAILED'}}\n",
      "{'result': {'errors': {'error': [{'message': \"ref batch: write inverted batch: write additions: no bucket for prop 'hasAuthors' found\"}]}, 'status': 'FAILED'}}\n",
      "{'result': {'errors': {'error': [{'message': \"ref batch: write inverted batch: write additions: no bucket for prop 'wroteArticles__meta_count' found\"}]}, 'status': 'FAILED'}}\n",
      "{'result': {'errors': {'error': [{'message': \"ref batch: write inverted batch: write additions: no bucket for prop 'hasAuthors' found\"}]}, 'status': 'FAILED'}}\n",
      "Updated reference batch successfully\n",
      "Updated object batch successfully\n",
      "{'result': {'errors': {'error': [{'message': \"ref batch: write inverted batch: write additions: no bucket for prop 'wroteArticles__meta_count' found\"}]}, 'status': 'FAILED'}}\n",
      "{'result': {'errors': {'error': [{'message': \"ref batch: write inverted batch: write additions: no bucket for prop 'hasAuthors__meta_count' found\"}]}, 'status': 'FAILED'}}\n",
      "{'result': {'errors': {'error': [{'message': \"ref batch: write inverted batch: write additions: no bucket for prop 'wroteArticles__meta_count' found\"}]}, 'status': 'FAILED'}}\n",
      "{'result': {'errors': {'error': [{'message': \"ref batch: write inverted batch: write additions: no bucket for prop 'hasAuthors__meta_count' found\"}]}, 'status': 'FAILED'}}\n",
      "{'result': {'errors': {'error': [{'message': \"ref batch: write inverted batch: write additions: no bucket for prop 'wroteArticles__meta_count' found\"}]}, 'status': 'FAILED'}}\n",
      "{'result': {'errors': {'error': [{'message': \"ref batch: write inverted batch: write additions: no bucket for prop 'hasAuthors__meta_count' found\"}]}, 'status': 'FAILED'}}\n",
      "{'result': {'errors': {'error': [{'message': \"ref batch: write inverted batch: write additions: no bucket for prop 'wroteArticles__meta_count' found\"}]}, 'status': 'FAILED'}}\n",
      "{'result': {'errors': {'error': [{'message': \"ref batch: write inverted batch: write additions: no bucket for prop 'hasAuthors__meta_count' found\"}]}, 'status': 'FAILED'}}\n",
      "{'result': {'errors': {'error': [{'message': \"ref batch: write inverted batch: write additions: no bucket for prop 'wroteArticles__meta_count' found\"}]}, 'status': 'FAILED'}}\n",
      "{'result': {'errors': {'error': [{'message': \"ref batch: write inverted batch: write additions: no bucket for prop 'hasAuthors__meta_count' found\"}]}, 'status': 'FAILED'}}\n",
      "{'result': {'errors': {'error': [{'message': \"ref batch: write inverted batch: write additions: no bucket for prop 'wroteArticles__meta_count' found\"}]}, 'status': 'FAILED'}}\n",
      "{'result': {'errors': {'error': [{'message': \"ref batch: write inverted batch: write additions: no bucket for prop 'hasAuthors__meta_count' found\"}]}, 'status': 'FAILED'}}\n",
      "{'result': {'errors': {'error': [{'message': \"ref batch: write inverted batch: write additions: no bucket for prop 'wroteArticles__meta_count' found\"}]}, 'status': 'FAILED'}}\n",
      "{'result': {'errors': {'error': [{'message': \"ref batch: write inverted batch: write additions: no bucket for prop 'hasAuthors__meta_count' found\"}]}, 'status': 'FAILED'}}\n",
      "{'result': {'errors': {'error': [{'message': \"ref batch: write inverted batch: write additions: no bucket for prop 'wroteArticles__meta_count' found\"}]}, 'status': 'FAILED'}}\n",
      "{'result': {'errors': {'error': [{'message': \"ref batch: write inverted batch: write additions: no bucket for prop 'hasAuthors__meta_count' found\"}]}, 'status': 'FAILED'}}\n",
      "{'result': {'errors': {'error': [{'message': \"ref batch: write inverted batch: write additions: no bucket for prop 'wroteArticles__meta_count' found\"}]}, 'status': 'FAILED'}}\n",
      "{'result': {'errors': {'error': [{'message': \"ref batch: write inverted batch: write additions: no bucket for prop 'hasAuthors__meta_count' found\"}]}, 'status': 'FAILED'}}\n",
      "{'result': {'errors': {'error': [{'message': \"ref batch: write inverted batch: write additions: no bucket for prop 'wroteArticles__meta_count' found\"}]}, 'status': 'FAILED'}}\n",
      "{'result': {'errors': {'error': [{'message': \"ref batch: write inverted batch: write additions: no bucket for prop 'hasAuthors__meta_count' found\"}]}, 'status': 'FAILED'}}\n",
      "Updated reference batch successfully\n"
     ]
    },
    {
     "name": "stdout",
     "output_type": "stream",
     "text": [
      "Updated object batch successfully\n",
      "{'result': {'errors': {'error': [{'message': \"ref batch: write inverted batch: write additions: no bucket for prop 'wroteArticles' found\"}]}, 'status': 'FAILED'}}\n",
      "{'result': {'errors': {'error': [{'message': \"ref batch: write inverted batch: write additions: no bucket for prop 'hasAuthors__meta_count' found\"}]}, 'status': 'FAILED'}}\n",
      "{'result': {'errors': {'error': [{'message': \"ref batch: write inverted batch: write additions: no bucket for prop 'wroteArticles' found\"}]}, 'status': 'FAILED'}}\n",
      "{'result': {'errors': {'error': [{'message': \"ref batch: write inverted batch: write additions: no bucket for prop 'hasAuthors__meta_count' found\"}]}, 'status': 'FAILED'}}\n",
      "{'result': {'errors': {'error': [{'message': \"ref batch: write inverted batch: write additions: no bucket for prop 'wroteArticles' found\"}]}, 'status': 'FAILED'}}\n",
      "{'result': {'errors': {'error': [{'message': \"ref batch: write inverted batch: write additions: no bucket for prop 'hasAuthors__meta_count' found\"}]}, 'status': 'FAILED'}}\n",
      "{'result': {'errors': {'error': [{'message': \"ref batch: write inverted batch: write additions: no bucket for prop 'wroteArticles' found\"}]}, 'status': 'FAILED'}}\n",
      "{'result': {'errors': {'error': [{'message': \"ref batch: write inverted batch: write additions: no bucket for prop 'hasAuthors__meta_count' found\"}]}, 'status': 'FAILED'}}\n",
      "{'result': {'errors': {'error': [{'message': \"ref batch: write inverted batch: write additions: no bucket for prop 'wroteArticles' found\"}]}, 'status': 'FAILED'}}\n",
      "{'result': {'errors': {'error': [{'message': \"ref batch: write inverted batch: write additions: no bucket for prop 'hasAuthors__meta_count' found\"}]}, 'status': 'FAILED'}}\n",
      "{'result': {'errors': {'error': [{'message': \"ref batch: write inverted batch: write additions: no bucket for prop 'wroteArticles' found\"}]}, 'status': 'FAILED'}}\n",
      "{'result': {'errors': {'error': [{'message': \"ref batch: write inverted batch: write additions: no bucket for prop 'hasAuthors__meta_count' found\"}]}, 'status': 'FAILED'}}\n",
      "{'result': {'errors': {'error': [{'message': \"ref batch: write inverted batch: write additions: no bucket for prop 'wroteArticles' found\"}]}, 'status': 'FAILED'}}\n",
      "{'result': {'errors': {'error': [{'message': \"ref batch: write inverted batch: write additions: no bucket for prop 'hasAuthors__meta_count' found\"}]}, 'status': 'FAILED'}}\n",
      "{'result': {'errors': {'error': [{'message': \"ref batch: write inverted batch: write additions: no bucket for prop 'wroteArticles' found\"}]}, 'status': 'FAILED'}}\n",
      "{'result': {'errors': {'error': [{'message': \"ref batch: write inverted batch: write additions: no bucket for prop 'hasAuthors__meta_count' found\"}]}, 'status': 'FAILED'}}\n",
      "{'result': {'errors': {'error': [{'message': \"ref batch: write inverted batch: write additions: no bucket for prop 'wroteArticles' found\"}]}, 'status': 'FAILED'}}\n",
      "{'result': {'errors': {'error': [{'message': \"ref batch: write inverted batch: write additions: no bucket for prop 'hasAuthors__meta_count' found\"}]}, 'status': 'FAILED'}}\n",
      "{'result': {'errors': {'error': [{'message': \"ref batch: write inverted batch: write additions: no bucket for prop 'wroteArticles' found\"}]}, 'status': 'FAILED'}}\n",
      "Updated reference batch successfully\n",
      "Updated object batch successfully\n",
      "{'result': {'errors': {'error': [{'message': \"ref batch: write inverted batch: write additions: no bucket for prop 'hasAuthors__meta_count' found\"}]}, 'status': 'FAILED'}}\n",
      "{'result': {'errors': {'error': [{'message': \"ref batch: write inverted batch: write additions: no bucket for prop 'wroteArticles__meta_count' found\"}]}, 'status': 'FAILED'}}\n",
      "{'result': {'errors': {'error': [{'message': \"ref batch: write inverted batch: write additions: no bucket for prop 'hasAuthors__meta_count' found\"}]}, 'status': 'FAILED'}}\n",
      "{'result': {'errors': {'error': [{'message': \"ref batch: write inverted batch: write additions: no bucket for prop 'wroteArticles__meta_count' found\"}]}, 'status': 'FAILED'}}\n",
      "{'result': {'errors': {'error': [{'message': \"ref batch: write inverted batch: write additions: no bucket for prop 'hasAuthors__meta_count' found\"}]}, 'status': 'FAILED'}}\n",
      "{'result': {'errors': {'error': [{'message': \"ref batch: write inverted batch: write additions: no bucket for prop 'wroteArticles__meta_count' found\"}]}, 'status': 'FAILED'}}\n",
      "{'result': {'errors': {'error': [{'message': \"ref batch: write inverted batch: write additions: no bucket for prop 'hasAuthors__meta_count' found\"}]}, 'status': 'FAILED'}}\n",
      "{'result': {'errors': {'error': [{'message': \"ref batch: write inverted batch: write additions: no bucket for prop 'wroteArticles__meta_count' found\"}]}, 'status': 'FAILED'}}\n",
      "{'result': {'errors': {'error': [{'message': \"ref batch: write inverted batch: write additions: no bucket for prop 'hasAuthors__meta_count' found\"}]}, 'status': 'FAILED'}}\n",
      "{'result': {'errors': {'error': [{'message': \"ref batch: write inverted batch: write additions: no bucket for prop 'wroteArticles__meta_count' found\"}]}, 'status': 'FAILED'}}\n",
      "{'result': {'errors': {'error': [{'message': \"ref batch: write inverted batch: write additions: no bucket for prop 'hasAuthors__meta_count' found\"}]}, 'status': 'FAILED'}}\n",
      "{'result': {'errors': {'error': [{'message': \"ref batch: write inverted batch: write additions: no bucket for prop 'wroteArticles__meta_count' found\"}]}, 'status': 'FAILED'}}\n",
      "{'result': {'errors': {'error': [{'message': \"ref batch: write inverted batch: write additions: no bucket for prop 'hasAuthors__meta_count' found\"}]}, 'status': 'FAILED'}}\n",
      "{'result': {'errors': {'error': [{'message': \"ref batch: write inverted batch: write additions: no bucket for prop 'wroteArticles__meta_count' found\"}]}, 'status': 'FAILED'}}\n",
      "{'result': {'errors': {'error': [{'message': \"ref batch: write inverted batch: write additions: no bucket for prop 'hasAuthors__meta_count' found\"}]}, 'status': 'FAILED'}}\n",
      "{'result': {'errors': {'error': [{'message': \"ref batch: write inverted batch: write additions: no bucket for prop 'wroteArticles__meta_count' found\"}]}, 'status': 'FAILED'}}\n",
      "{'result': {'errors': {'error': [{'message': \"ref batch: write inverted batch: write additions: no bucket for prop 'hasAuthors__meta_count' found\"}]}, 'status': 'FAILED'}}\n",
      "{'result': {'errors': {'error': [{'message': \"ref batch: write inverted batch: write additions: no bucket for prop 'wroteArticles__meta_count' found\"}]}, 'status': 'FAILED'}}\n",
      "{'result': {'errors': {'error': [{'message': \"ref batch: write inverted batch: write additions: no bucket for prop 'hasAuthors__meta_count' found\"}]}, 'status': 'FAILED'}}\n",
      "{'result': {'errors': {'error': [{'message': \"ref batch: write inverted batch: write additions: no bucket for prop 'wroteArticles__meta_count' found\"}]}, 'status': 'FAILED'}}\n",
      "{'result': {'errors': {'error': [{'message': \"ref batch: write inverted batch: write additions: no bucket for prop 'hasAuthors__meta_count' found\"}]}, 'status': 'FAILED'}}\n",
      "Updated reference batch successfully\n",
      "Updated object batch successfully\n",
      "{'result': {'errors': {'error': [{'message': \"ref batch: write inverted batch: write additions: no bucket for prop 'wroteArticles__meta_count' found\"}]}, 'status': 'FAILED'}}\n",
      "{'result': {'errors': {'error': [{'message': \"ref batch: write inverted batch: write additions: no bucket for prop 'hasAuthors__meta_count' found\"}]}, 'status': 'FAILED'}}\n",
      "{'result': {'errors': {'error': [{'message': \"ref batch: write inverted batch: write additions: no bucket for prop 'wroteArticles__meta_count' found\"}]}, 'status': 'FAILED'}}\n",
      "{'result': {'errors': {'error': [{'message': \"ref batch: write inverted batch: write additions: no bucket for prop 'hasAuthors__meta_count' found\"}]}, 'status': 'FAILED'}}\n",
      "{'result': {'errors': {'error': [{'message': \"ref batch: write inverted batch: write additions: no bucket for prop 'wroteArticles__meta_count' found\"}]}, 'status': 'FAILED'}}\n",
      "{'result': {'errors': {'error': [{'message': \"ref batch: write inverted batch: write additions: no bucket for prop 'hasAuthors__meta_count' found\"}]}, 'status': 'FAILED'}}\n",
      "{'result': {'errors': {'error': [{'message': \"ref batch: write inverted batch: write additions: no bucket for prop 'wroteArticles__meta_count' found\"}]}, 'status': 'FAILED'}}\n",
      "{'result': {'errors': {'error': [{'message': \"ref batch: write inverted batch: write additions: no bucket for prop 'hasAuthors__meta_count' found\"}]}, 'status': 'FAILED'}}\n",
      "{'result': {'errors': {'error': [{'message': \"ref batch: write inverted batch: write additions: no bucket for prop 'wroteArticles__meta_count' found\"}]}, 'status': 'FAILED'}}\n",
      "{'result': {'errors': {'error': [{'message': \"ref batch: write inverted batch: write additions: no bucket for prop 'hasAuthors__meta_count' found\"}]}, 'status': 'FAILED'}}\n",
      "{'result': {'errors': {'error': [{'message': \"ref batch: write inverted batch: write additions: no bucket for prop 'wroteArticles__meta_count' found\"}]}, 'status': 'FAILED'}}\n",
      "{'result': {'errors': {'error': [{'message': \"ref batch: write inverted batch: write additions: no bucket for prop 'hasAuthors__meta_count' found\"}]}, 'status': 'FAILED'}}\n",
      "{'result': {'errors': {'error': [{'message': \"ref batch: write inverted batch: write additions: no bucket for prop 'wroteArticles__meta_count' found\"}]}, 'status': 'FAILED'}}\n",
      "{'result': {'errors': {'error': [{'message': \"ref batch: write inverted batch: write additions: no bucket for prop 'hasAuthors__meta_count' found\"}]}, 'status': 'FAILED'}}\n",
      "{'result': {'errors': {'error': [{'message': \"ref batch: write inverted batch: write additions: no bucket for prop 'wroteArticles__meta_count' found\"}]}, 'status': 'FAILED'}}\n",
      "{'result': {'errors': {'error': [{'message': \"ref batch: write inverted batch: write additions: no bucket for prop 'hasAuthors__meta_count' found\"}]}, 'status': 'FAILED'}}\n",
      "{'result': {'errors': {'error': [{'message': \"ref batch: write inverted batch: write additions: no bucket for prop 'wroteArticles__meta_count' found\"}]}, 'status': 'FAILED'}}\n",
      "{'result': {'errors': {'error': [{'message': \"ref batch: write inverted batch: write additions: no bucket for prop 'hasAuthors__meta_count' found\"}]}, 'status': 'FAILED'}}\n",
      "{'result': {'errors': {'error': [{'message': \"ref batch: write inverted batch: write additions: no bucket for prop 'wroteArticles__meta_count' found\"}]}, 'status': 'FAILED'}}\n",
      "{'result': {'errors': {'error': [{'message': \"ref batch: write inverted batch: write additions: no bucket for prop 'hasAuthors__meta_count' found\"}]}, 'status': 'FAILED'}}\n",
      "Updated reference batch successfully\n"
     ]
    },
    {
     "name": "stdout",
     "output_type": "stream",
     "text": [
      "Updated object batch successfully\n",
      "{'result': {'errors': {'error': [{'message': \"ref batch: write inverted batch: write additions: no bucket for prop 'wroteArticles__meta_count' found\"}]}, 'status': 'FAILED'}}\n",
      "{'result': {'errors': {'error': [{'message': \"ref batch: write inverted batch: write additions: no bucket for prop 'hasAuthors__meta_count' found\"}]}, 'status': 'FAILED'}}\n",
      "{'result': {'errors': {'error': [{'message': \"ref batch: write inverted batch: write additions: no bucket for prop 'wroteArticles__meta_count' found\"}]}, 'status': 'FAILED'}}\n",
      "{'result': {'errors': {'error': [{'message': \"ref batch: write inverted batch: write additions: no bucket for prop 'hasAuthors__meta_count' found\"}]}, 'status': 'FAILED'}}\n",
      "{'result': {'errors': {'error': [{'message': \"ref batch: write inverted batch: write additions: no bucket for prop 'wroteArticles__meta_count' found\"}]}, 'status': 'FAILED'}}\n",
      "{'result': {'errors': {'error': [{'message': \"ref batch: write inverted batch: write additions: no bucket for prop 'hasAuthors__meta_count' found\"}]}, 'status': 'FAILED'}}\n",
      "{'result': {'errors': {'error': [{'message': \"ref batch: write inverted batch: write additions: no bucket for prop 'wroteArticles__meta_count' found\"}]}, 'status': 'FAILED'}}\n",
      "{'result': {'errors': {'error': [{'message': \"ref batch: write inverted batch: write additions: no bucket for prop 'hasAuthors__meta_count' found\"}]}, 'status': 'FAILED'}}\n",
      "{'result': {'errors': {'error': [{'message': \"ref batch: write inverted batch: write additions: no bucket for prop 'wroteArticles__meta_count' found\"}]}, 'status': 'FAILED'}}\n",
      "{'result': {'errors': {'error': [{'message': \"ref batch: write inverted batch: write additions: no bucket for prop 'hasAuthors__meta_count' found\"}]}, 'status': 'FAILED'}}\n",
      "{'result': {'errors': {'error': [{'message': \"ref batch: write inverted batch: write additions: no bucket for prop 'wroteArticles__meta_count' found\"}]}, 'status': 'FAILED'}}\n",
      "{'result': {'errors': {'error': [{'message': \"ref batch: write inverted batch: write additions: no bucket for prop 'hasAuthors__meta_count' found\"}]}, 'status': 'FAILED'}}\n",
      "{'result': {'errors': {'error': [{'message': \"ref batch: write inverted batch: write additions: no bucket for prop 'wroteArticles__meta_count' found\"}]}, 'status': 'FAILED'}}\n",
      "{'result': {'errors': {'error': [{'message': \"ref batch: write inverted batch: write additions: no bucket for prop 'hasAuthors__meta_count' found\"}]}, 'status': 'FAILED'}}\n",
      "{'result': {'errors': {'error': [{'message': \"ref batch: write inverted batch: write additions: no bucket for prop 'wroteArticles__meta_count' found\"}]}, 'status': 'FAILED'}}\n",
      "{'result': {'errors': {'error': [{'message': \"ref batch: write inverted batch: write additions: no bucket for prop 'hasAuthors__meta_count' found\"}]}, 'status': 'FAILED'}}\n",
      "{'result': {'errors': {'error': [{'message': \"ref batch: write inverted batch: write additions: no bucket for prop 'wroteArticles__meta_count' found\"}]}, 'status': 'FAILED'}}\n",
      "{'result': {'errors': {'error': [{'message': \"ref batch: write inverted batch: write additions: no bucket for prop 'hasAuthors__meta_count' found\"}]}, 'status': 'FAILED'}}\n",
      "{'result': {'errors': {'error': [{'message': \"ref batch: write inverted batch: write additions: no bucket for prop 'wroteArticles__meta_count' found\"}]}, 'status': 'FAILED'}}\n",
      "{'result': {'errors': {'error': [{'message': \"ref batch: write inverted batch: write additions: no bucket for prop 'hasAuthors__meta_count' found\"}]}, 'status': 'FAILED'}}\n",
      "{'result': {'errors': {'error': [{'message': \"ref batch: write inverted batch: write additions: no bucket for prop 'wroteArticles__meta_count' found\"}]}, 'status': 'FAILED'}}\n",
      "{'result': {'errors': {'error': [{'message': \"ref batch: write inverted batch: write additions: no bucket for prop 'hasAuthors__meta_count' found\"}]}, 'status': 'FAILED'}}\n",
      "Updated reference batch successfully\n",
      "Updated object batch successfully\n",
      "{'result': {'errors': {'error': [{'message': \"ref batch: write inverted batch: write additions: no bucket for prop 'wroteArticles__meta_count' found\"}]}, 'status': 'FAILED'}}\n",
      "{'result': {'errors': {'error': [{'message': \"ref batch: write inverted batch: write additions: no bucket for prop 'hasAuthors__meta_count' found\"}]}, 'status': 'FAILED'}}\n",
      "{'result': {'errors': {'error': [{'message': \"ref batch: write inverted batch: write additions: no bucket for prop 'wroteArticles__meta_count' found\"}]}, 'status': 'FAILED'}}\n",
      "{'result': {'errors': {'error': [{'message': \"ref batch: write inverted batch: write additions: no bucket for prop 'hasAuthors__meta_count' found\"}]}, 'status': 'FAILED'}}\n",
      "{'result': {'errors': {'error': [{'message': \"ref batch: write inverted batch: write additions: no bucket for prop 'wroteArticles__meta_count' found\"}]}, 'status': 'FAILED'}}\n",
      "{'result': {'errors': {'error': [{'message': \"ref batch: write inverted batch: write additions: no bucket for prop 'hasAuthors__meta_count' found\"}]}, 'status': 'FAILED'}}\n",
      "{'result': {'errors': {'error': [{'message': \"ref batch: write inverted batch: write additions: no bucket for prop 'wroteArticles__meta_count' found\"}]}, 'status': 'FAILED'}}\n",
      "{'result': {'errors': {'error': [{'message': \"ref batch: write inverted batch: write additions: no bucket for prop 'hasAuthors__meta_count' found\"}]}, 'status': 'FAILED'}}\n",
      "{'result': {'errors': {'error': [{'message': \"ref batch: write inverted batch: write additions: no bucket for prop 'wroteArticles__meta_count' found\"}]}, 'status': 'FAILED'}}\n",
      "{'result': {'errors': {'error': [{'message': \"ref batch: write inverted batch: write additions: no bucket for prop 'hasAuthors__meta_count' found\"}]}, 'status': 'FAILED'}}\n",
      "{'result': {'errors': {'error': [{'message': \"ref batch: write inverted batch: write additions: no bucket for prop 'wroteArticles__meta_count' found\"}]}, 'status': 'FAILED'}}\n",
      "{'result': {'errors': {'error': [{'message': \"ref batch: write inverted batch: write additions: no bucket for prop 'hasAuthors__meta_count' found\"}]}, 'status': 'FAILED'}}\n",
      "{'result': {'errors': {'error': [{'message': \"ref batch: write inverted batch: write additions: no bucket for prop 'wroteArticles__meta_count' found\"}]}, 'status': 'FAILED'}}\n",
      "{'result': {'errors': {'error': [{'message': \"ref batch: write inverted batch: write additions: no bucket for prop 'hasAuthors__meta_count' found\"}]}, 'status': 'FAILED'}}\n",
      "{'result': {'errors': {'error': [{'message': \"ref batch: write inverted batch: write additions: no bucket for prop 'wroteArticles__meta_count' found\"}]}, 'status': 'FAILED'}}\n",
      "{'result': {'errors': {'error': [{'message': \"ref batch: write inverted batch: write additions: no bucket for prop 'hasAuthors__meta_count' found\"}]}, 'status': 'FAILED'}}\n",
      "{'result': {'errors': {'error': [{'message': \"ref batch: write inverted batch: write additions: no bucket for prop 'wroteArticles__meta_count' found\"}]}, 'status': 'FAILED'}}\n",
      "{'result': {'errors': {'error': [{'message': \"ref batch: write inverted batch: write additions: no bucket for prop 'hasAuthors__meta_count' found\"}]}, 'status': 'FAILED'}}\n",
      "{'result': {'errors': {'error': [{'message': \"ref batch: write inverted batch: write additions: no bucket for prop 'wroteArticles__meta_count' found\"}]}, 'status': 'FAILED'}}\n",
      "{'result': {'errors': {'error': [{'message': \"ref batch: write inverted batch: write additions: no bucket for prop 'hasAuthors__meta_count' found\"}]}, 'status': 'FAILED'}}\n",
      "{'result': {'errors': {'error': [{'message': \"ref batch: write inverted batch: write additions: no bucket for prop 'wroteArticles__meta_count' found\"}]}, 'status': 'FAILED'}}\n",
      "{'result': {'errors': {'error': [{'message': \"ref batch: write inverted batch: write additions: no bucket for prop 'hasAuthors__meta_count' found\"}]}, 'status': 'FAILED'}}\n",
      "Updated reference batch successfully\n",
      "Updated object batch successfully\n",
      "{'result': {'errors': {'error': [{'message': \"ref batch: write inverted batch: write additions: no bucket for prop 'wroteArticles__meta_count' found\"}]}, 'status': 'FAILED'}}\n",
      "{'result': {'errors': {'error': [{'message': \"ref batch: write inverted batch: write additions: no bucket for prop 'hasAuthors__meta_count' found\"}]}, 'status': 'FAILED'}}\n",
      "{'result': {'errors': {'error': [{'message': \"ref batch: write inverted batch: write additions: no bucket for prop 'wroteArticles__meta_count' found\"}]}, 'status': 'FAILED'}}\n",
      "{'result': {'errors': {'error': [{'message': \"ref batch: write inverted batch: write additions: no bucket for prop 'hasAuthors__meta_count' found\"}]}, 'status': 'FAILED'}}\n",
      "{'result': {'errors': {'error': [{'message': \"ref batch: write inverted batch: write additions: no bucket for prop 'wroteArticles__meta_count' found\"}]}, 'status': 'FAILED'}}\n",
      "{'result': {'errors': {'error': [{'message': \"ref batch: write inverted batch: write additions: no bucket for prop 'hasAuthors__meta_count' found\"}]}, 'status': 'FAILED'}}\n",
      "{'result': {'errors': {'error': [{'message': \"ref batch: write inverted batch: write additions: no bucket for prop 'wroteArticles__meta_count' found\"}]}, 'status': 'FAILED'}}\n",
      "{'result': {'errors': {'error': [{'message': \"ref batch: write inverted batch: write additions: no bucket for prop 'hasAuthors__meta_count' found\"}]}, 'status': 'FAILED'}}\n",
      "{'result': {'errors': {'error': [{'message': \"ref batch: write inverted batch: write additions: no bucket for prop 'wroteArticles__meta_count' found\"}]}, 'status': 'FAILED'}}\n",
      "{'result': {'errors': {'error': [{'message': \"ref batch: write inverted batch: write additions: no bucket for prop 'hasAuthors__meta_count' found\"}]}, 'status': 'FAILED'}}\n",
      "{'result': {'errors': {'error': [{'message': \"ref batch: write inverted batch: write additions: no bucket for prop 'wroteArticles__meta_count' found\"}]}, 'status': 'FAILED'}}\n",
      "{'result': {'errors': {'error': [{'message': \"ref batch: write inverted batch: write additions: no bucket for prop 'hasAuthors__meta_count' found\"}]}, 'status': 'FAILED'}}\n",
      "{'result': {'errors': {'error': [{'message': \"ref batch: write inverted batch: write additions: no bucket for prop 'wroteArticles__meta_count' found\"}]}, 'status': 'FAILED'}}\n",
      "{'result': {'errors': {'error': [{'message': \"ref batch: write inverted batch: write additions: no bucket for prop 'hasAuthors__meta_count' found\"}]}, 'status': 'FAILED'}}\n",
      "{'result': {'errors': {'error': [{'message': \"ref batch: write inverted batch: write additions: no bucket for prop 'wroteArticles__meta_count' found\"}]}, 'status': 'FAILED'}}\n",
      "{'result': {'errors': {'error': [{'message': \"ref batch: write inverted batch: write additions: no bucket for prop 'hasAuthors__meta_count' found\"}]}, 'status': 'FAILED'}}\n",
      "{'result': {'errors': {'error': [{'message': \"ref batch: write inverted batch: write additions: no bucket for prop 'wroteArticles__meta_count' found\"}]}, 'status': 'FAILED'}}\n",
      "{'result': {'errors': {'error': [{'message': \"ref batch: write inverted batch: write additions: no bucket for prop 'hasAuthors__meta_count' found\"}]}, 'status': 'FAILED'}}\n",
      "{'result': {'errors': {'error': [{'message': \"ref batch: write inverted batch: write additions: no bucket for prop 'wroteArticles__meta_count' found\"}]}, 'status': 'FAILED'}}\n",
      "{'result': {'errors': {'error': [{'message': \"ref batch: write inverted batch: write additions: no bucket for prop 'hasAuthors__meta_count' found\"}]}, 'status': 'FAILED'}}\n",
      "{'result': {'errors': {'error': [{'message': \"ref batch: write inverted batch: write additions: no bucket for prop 'wroteArticles__meta_count' found\"}]}, 'status': 'FAILED'}}\n",
      "{'result': {'errors': {'error': [{'message': \"ref batch: write inverted batch: write additions: no bucket for prop 'hasAuthors__meta_count' found\"}]}, 'status': 'FAILED'}}\n",
      "{'result': {'errors': {'error': [{'message': \"ref batch: write inverted batch: write additions: no bucket for prop 'wroteArticles__meta_count' found\"}]}, 'status': 'FAILED'}}\n",
      "Updated reference batch successfully\n"
     ]
    },
    {
     "name": "stdout",
     "output_type": "stream",
     "text": [
      "Updated object batch successfully\n",
      "{'result': {'errors': {'error': [{'message': \"ref batch: write inverted batch: write additions: no bucket for prop 'hasAuthors__meta_count' found\"}]}, 'status': 'FAILED'}}\n",
      "{'result': {'errors': {'error': [{'message': \"ref batch: write inverted batch: write additions: no bucket for prop 'wroteArticles__meta_count' found\"}]}, 'status': 'FAILED'}}\n",
      "{'result': {'errors': {'error': [{'message': \"ref batch: write inverted batch: write additions: no bucket for prop 'hasAuthors__meta_count' found\"}]}, 'status': 'FAILED'}}\n",
      "{'result': {'errors': {'error': [{'message': \"ref batch: write inverted batch: write additions: no bucket for prop 'wroteArticles__meta_count' found\"}]}, 'status': 'FAILED'}}\n",
      "{'result': {'errors': {'error': [{'message': \"ref batch: write inverted batch: write additions: no bucket for prop 'hasAuthors__meta_count' found\"}]}, 'status': 'FAILED'}}\n",
      "{'result': {'errors': {'error': [{'message': \"ref batch: write inverted batch: write additions: no bucket for prop 'wroteArticles__meta_count' found\"}]}, 'status': 'FAILED'}}\n",
      "{'result': {'errors': {'error': [{'message': \"ref batch: write inverted batch: write additions: no bucket for prop 'hasAuthors__meta_count' found\"}]}, 'status': 'FAILED'}}\n",
      "{'result': {'errors': {'error': [{'message': \"ref batch: write inverted batch: write additions: no bucket for prop 'wroteArticles__meta_count' found\"}]}, 'status': 'FAILED'}}\n",
      "{'result': {'errors': {'error': [{'message': \"ref batch: write inverted batch: write additions: no bucket for prop 'hasAuthors__meta_count' found\"}]}, 'status': 'FAILED'}}\n",
      "{'result': {'errors': {'error': [{'message': \"ref batch: write inverted batch: write additions: no bucket for prop 'wroteArticles__meta_count' found\"}]}, 'status': 'FAILED'}}\n",
      "{'result': {'errors': {'error': [{'message': \"ref batch: write inverted batch: write additions: no bucket for prop 'hasAuthors__meta_count' found\"}]}, 'status': 'FAILED'}}\n",
      "{'result': {'errors': {'error': [{'message': \"ref batch: write inverted batch: write additions: no bucket for prop 'wroteArticles__meta_count' found\"}]}, 'status': 'FAILED'}}\n",
      "{'result': {'errors': {'error': [{'message': \"ref batch: write inverted batch: write additions: no bucket for prop 'hasAuthors__meta_count' found\"}]}, 'status': 'FAILED'}}\n",
      "{'result': {'errors': {'error': [{'message': \"ref batch: write inverted batch: write additions: no bucket for prop 'wroteArticles__meta_count' found\"}]}, 'status': 'FAILED'}}\n",
      "{'result': {'errors': {'error': [{'message': \"ref batch: write inverted batch: write additions: no bucket for prop 'hasAuthors__meta_count' found\"}]}, 'status': 'FAILED'}}\n",
      "{'result': {'errors': {'error': [{'message': \"ref batch: write inverted batch: write additions: no bucket for prop 'wroteArticles__meta_count' found\"}]}, 'status': 'FAILED'}}\n",
      "{'result': {'errors': {'error': [{'message': \"ref batch: write inverted batch: write additions: no bucket for prop 'hasAuthors__meta_count' found\"}]}, 'status': 'FAILED'}}\n",
      "{'result': {'errors': {'error': [{'message': \"ref batch: write inverted batch: write additions: no bucket for prop 'wroteArticles__meta_count' found\"}]}, 'status': 'FAILED'}}\n",
      "{'result': {'errors': {'error': [{'message': \"ref batch: write inverted batch: write additions: no bucket for prop 'hasAuthors__meta_count' found\"}]}, 'status': 'FAILED'}}\n",
      "Updated reference batch successfully\n",
      "Updated object batch successfully\n",
      "{'result': {'errors': {'error': [{'message': \"ref batch: write inverted batch: write additions: no bucket for prop 'wroteArticles__meta_count' found\"}]}, 'status': 'FAILED'}}\n",
      "{'result': {'errors': {'error': [{'message': \"ref batch: write inverted batch: write additions: no bucket for prop 'hasAuthors' found\"}]}, 'status': 'FAILED'}}\n",
      "{'result': {'errors': {'error': [{'message': \"ref batch: write inverted batch: write additions: no bucket for prop 'wroteArticles__meta_count' found\"}]}, 'status': 'FAILED'}}\n",
      "{'result': {'errors': {'error': [{'message': \"ref batch: write inverted batch: write additions: no bucket for prop 'hasAuthors' found\"}]}, 'status': 'FAILED'}}\n",
      "{'result': {'errors': {'error': [{'message': \"ref batch: write inverted batch: write additions: no bucket for prop 'wroteArticles__meta_count' found\"}]}, 'status': 'FAILED'}}\n",
      "{'result': {'errors': {'error': [{'message': \"ref batch: write inverted batch: write additions: no bucket for prop 'hasAuthors' found\"}]}, 'status': 'FAILED'}}\n",
      "{'result': {'errors': {'error': [{'message': \"ref batch: write inverted batch: write additions: no bucket for prop 'wroteArticles__meta_count' found\"}]}, 'status': 'FAILED'}}\n",
      "{'result': {'errors': {'error': [{'message': \"ref batch: write inverted batch: write additions: no bucket for prop 'hasAuthors' found\"}]}, 'status': 'FAILED'}}\n",
      "{'result': {'errors': {'error': [{'message': \"ref batch: write inverted batch: write additions: no bucket for prop 'wroteArticles__meta_count' found\"}]}, 'status': 'FAILED'}}\n",
      "{'result': {'errors': {'error': [{'message': \"ref batch: write inverted batch: write additions: no bucket for prop 'hasAuthors' found\"}]}, 'status': 'FAILED'}}\n",
      "{'result': {'errors': {'error': [{'message': \"ref batch: write inverted batch: write additions: no bucket for prop 'wroteArticles__meta_count' found\"}]}, 'status': 'FAILED'}}\n",
      "{'result': {'errors': {'error': [{'message': \"ref batch: write inverted batch: write additions: no bucket for prop 'hasAuthors' found\"}]}, 'status': 'FAILED'}}\n",
      "{'result': {'errors': {'error': [{'message': \"ref batch: write inverted batch: write additions: no bucket for prop 'wroteArticles__meta_count' found\"}]}, 'status': 'FAILED'}}\n",
      "{'result': {'errors': {'error': [{'message': \"ref batch: write inverted batch: write additions: no bucket for prop 'hasAuthors' found\"}]}, 'status': 'FAILED'}}\n",
      "{'result': {'errors': {'error': [{'message': \"ref batch: write inverted batch: write additions: no bucket for prop 'wroteArticles__meta_count' found\"}]}, 'status': 'FAILED'}}\n",
      "{'result': {'errors': {'error': [{'message': \"ref batch: write inverted batch: write additions: no bucket for prop 'hasAuthors' found\"}]}, 'status': 'FAILED'}}\n",
      "{'result': {'errors': {'error': [{'message': \"ref batch: write inverted batch: write additions: no bucket for prop 'wroteArticles__meta_count' found\"}]}, 'status': 'FAILED'}}\n",
      "{'result': {'errors': {'error': [{'message': \"ref batch: write inverted batch: write additions: no bucket for prop 'hasAuthors' found\"}]}, 'status': 'FAILED'}}\n",
      "{'result': {'errors': {'error': [{'message': \"ref batch: write inverted batch: write additions: no bucket for prop 'wroteArticles__meta_count' found\"}]}, 'status': 'FAILED'}}\n",
      "{'result': {'errors': {'error': [{'message': \"ref batch: write inverted batch: write additions: no bucket for prop 'hasAuthors' found\"}]}, 'status': 'FAILED'}}\n",
      "{'result': {'errors': {'error': [{'message': \"ref batch: write inverted batch: write additions: no bucket for prop 'wroteArticles__meta_count' found\"}]}, 'status': 'FAILED'}}\n",
      "Updated reference batch successfully\n",
      "Updated object batch successfully\n",
      "{'result': {'errors': {'error': [{'message': \"ref batch: write inverted batch: write additions: no bucket for prop 'hasAuthors__meta_count' found\"}]}, 'status': 'FAILED'}}\n",
      "{'result': {'errors': {'error': [{'message': \"ref batch: write inverted batch: write additions: no bucket for prop 'wroteArticles__meta_count' found\"}]}, 'status': 'FAILED'}}\n",
      "{'result': {'errors': {'error': [{'message': \"ref batch: write inverted batch: write additions: no bucket for prop 'hasAuthors__meta_count' found\"}]}, 'status': 'FAILED'}}\n",
      "{'result': {'errors': {'error': [{'message': \"ref batch: write inverted batch: write additions: no bucket for prop 'wroteArticles__meta_count' found\"}]}, 'status': 'FAILED'}}\n",
      "{'result': {'errors': {'error': [{'message': \"ref batch: write inverted batch: write additions: no bucket for prop 'hasAuthors__meta_count' found\"}]}, 'status': 'FAILED'}}\n",
      "{'result': {'errors': {'error': [{'message': \"ref batch: write inverted batch: write additions: no bucket for prop 'wroteArticles__meta_count' found\"}]}, 'status': 'FAILED'}}\n",
      "{'result': {'errors': {'error': [{'message': \"ref batch: write inverted batch: write additions: no bucket for prop 'hasAuthors__meta_count' found\"}]}, 'status': 'FAILED'}}\n",
      "{'result': {'errors': {'error': [{'message': \"ref batch: write inverted batch: write additions: no bucket for prop 'wroteArticles__meta_count' found\"}]}, 'status': 'FAILED'}}\n",
      "{'result': {'errors': {'error': [{'message': \"ref batch: write inverted batch: write additions: no bucket for prop 'hasAuthors__meta_count' found\"}]}, 'status': 'FAILED'}}\n",
      "{'result': {'errors': {'error': [{'message': \"ref batch: write inverted batch: write additions: no bucket for prop 'wroteArticles__meta_count' found\"}]}, 'status': 'FAILED'}}\n",
      "{'result': {'errors': {'error': [{'message': \"ref batch: write inverted batch: write additions: no bucket for prop 'hasAuthors__meta_count' found\"}]}, 'status': 'FAILED'}}\n",
      "{'result': {'errors': {'error': [{'message': \"ref batch: write inverted batch: write additions: no bucket for prop 'wroteArticles__meta_count' found\"}]}, 'status': 'FAILED'}}\n",
      "{'result': {'errors': {'error': [{'message': \"ref batch: write inverted batch: write additions: no bucket for prop 'hasAuthors__meta_count' found\"}]}, 'status': 'FAILED'}}\n",
      "{'result': {'errors': {'error': [{'message': \"ref batch: write inverted batch: write additions: no bucket for prop 'wroteArticles__meta_count' found\"}]}, 'status': 'FAILED'}}\n",
      "{'result': {'errors': {'error': [{'message': \"ref batch: write inverted batch: write additions: no bucket for prop 'hasAuthors__meta_count' found\"}]}, 'status': 'FAILED'}}\n",
      "Updated reference batch successfully\n"
     ]
    },
    {
     "name": "stdout",
     "output_type": "stream",
     "text": [
      "Updated object batch successfully\n",
      "{'result': {'errors': {'error': [{'message': \"ref batch: write inverted batch: write additions: no bucket for prop 'wroteArticles__meta_count' found\"}]}, 'status': 'FAILED'}}\n",
      "{'result': {'errors': {'error': [{'message': \"ref batch: write inverted batch: write additions: no bucket for prop 'hasAuthors__meta_count' found\"}]}, 'status': 'FAILED'}}\n",
      "{'result': {'errors': {'error': [{'message': \"ref batch: write inverted batch: write additions: no bucket for prop 'wroteArticles__meta_count' found\"}]}, 'status': 'FAILED'}}\n",
      "{'result': {'errors': {'error': [{'message': \"ref batch: write inverted batch: write additions: no bucket for prop 'hasAuthors__meta_count' found\"}]}, 'status': 'FAILED'}}\n",
      "{'result': {'errors': {'error': [{'message': \"ref batch: write inverted batch: write additions: no bucket for prop 'wroteArticles__meta_count' found\"}]}, 'status': 'FAILED'}}\n",
      "{'result': {'errors': {'error': [{'message': \"ref batch: write inverted batch: write additions: no bucket for prop 'hasAuthors__meta_count' found\"}]}, 'status': 'FAILED'}}\n",
      "{'result': {'errors': {'error': [{'message': \"ref batch: write inverted batch: write additions: no bucket for prop 'wroteArticles__meta_count' found\"}]}, 'status': 'FAILED'}}\n",
      "{'result': {'errors': {'error': [{'message': \"ref batch: write inverted batch: write additions: no bucket for prop 'hasAuthors__meta_count' found\"}]}, 'status': 'FAILED'}}\n",
      "{'result': {'errors': {'error': [{'message': \"ref batch: write inverted batch: write additions: no bucket for prop 'wroteArticles__meta_count' found\"}]}, 'status': 'FAILED'}}\n",
      "{'result': {'errors': {'error': [{'message': \"ref batch: write inverted batch: write additions: no bucket for prop 'hasAuthors__meta_count' found\"}]}, 'status': 'FAILED'}}\n",
      "{'result': {'errors': {'error': [{'message': \"ref batch: write inverted batch: write additions: no bucket for prop 'wroteArticles__meta_count' found\"}]}, 'status': 'FAILED'}}\n",
      "{'result': {'errors': {'error': [{'message': \"ref batch: write inverted batch: write additions: no bucket for prop 'hasAuthors__meta_count' found\"}]}, 'status': 'FAILED'}}\n",
      "{'result': {'errors': {'error': [{'message': \"ref batch: write inverted batch: write additions: no bucket for prop 'wroteArticles__meta_count' found\"}]}, 'status': 'FAILED'}}\n",
      "{'result': {'errors': {'error': [{'message': \"ref batch: write inverted batch: write additions: no bucket for prop 'hasAuthors__meta_count' found\"}]}, 'status': 'FAILED'}}\n",
      "{'result': {'errors': {'error': [{'message': \"ref batch: write inverted batch: write additions: no bucket for prop 'wroteArticles__meta_count' found\"}]}, 'status': 'FAILED'}}\n",
      "{'result': {'errors': {'error': [{'message': \"ref batch: write inverted batch: write additions: no bucket for prop 'hasAuthors__meta_count' found\"}]}, 'status': 'FAILED'}}\n",
      "{'result': {'errors': {'error': [{'message': \"ref batch: write inverted batch: write additions: no bucket for prop 'wroteArticles__meta_count' found\"}]}, 'status': 'FAILED'}}\n",
      "{'result': {'errors': {'error': [{'message': \"ref batch: write inverted batch: write additions: no bucket for prop 'hasAuthors__meta_count' found\"}]}, 'status': 'FAILED'}}\n",
      "Updated reference batch successfully\n",
      "Updated object batch successfully\n",
      "{'result': {'errors': {'error': [{'message': \"ref batch: write inverted batch: write additions: no bucket for prop 'wroteArticles__meta_count' found\"}]}, 'status': 'FAILED'}}\n",
      "{'result': {'errors': {'error': [{'message': \"ref batch: write inverted batch: write additions: no bucket for prop 'hasAuthors__meta_count' found\"}]}, 'status': 'FAILED'}}\n",
      "{'result': {'errors': {'error': [{'message': \"ref batch: write inverted batch: write additions: no bucket for prop 'wroteArticles__meta_count' found\"}]}, 'status': 'FAILED'}}\n",
      "{'result': {'errors': {'error': [{'message': \"ref batch: write inverted batch: write additions: no bucket for prop 'hasAuthors__meta_count' found\"}]}, 'status': 'FAILED'}}\n",
      "{'result': {'errors': {'error': [{'message': \"ref batch: write inverted batch: write additions: no bucket for prop 'wroteArticles__meta_count' found\"}]}, 'status': 'FAILED'}}\n",
      "{'result': {'errors': {'error': [{'message': \"ref batch: write inverted batch: write additions: no bucket for prop 'hasAuthors__meta_count' found\"}]}, 'status': 'FAILED'}}\n",
      "{'result': {'errors': {'error': [{'message': \"ref batch: write inverted batch: write additions: no bucket for prop 'wroteArticles__meta_count' found\"}]}, 'status': 'FAILED'}}\n",
      "{'result': {'errors': {'error': [{'message': \"ref batch: write inverted batch: write additions: no bucket for prop 'hasAuthors__meta_count' found\"}]}, 'status': 'FAILED'}}\n",
      "{'result': {'errors': {'error': [{'message': \"ref batch: write inverted batch: write additions: no bucket for prop 'wroteArticles__meta_count' found\"}]}, 'status': 'FAILED'}}\n",
      "{'result': {'errors': {'error': [{'message': \"ref batch: write inverted batch: write additions: no bucket for prop 'hasAuthors__meta_count' found\"}]}, 'status': 'FAILED'}}\n",
      "{'result': {'errors': {'error': [{'message': \"ref batch: write inverted batch: write additions: no bucket for prop 'wroteArticles__meta_count' found\"}]}, 'status': 'FAILED'}}\n",
      "{'result': {'errors': {'error': [{'message': \"ref batch: write inverted batch: write additions: no bucket for prop 'hasAuthors__meta_count' found\"}]}, 'status': 'FAILED'}}\n",
      "{'result': {'errors': {'error': [{'message': \"ref batch: write inverted batch: write additions: no bucket for prop 'wroteArticles__meta_count' found\"}]}, 'status': 'FAILED'}}\n",
      "{'result': {'errors': {'error': [{'message': \"ref batch: write inverted batch: write additions: no bucket for prop 'hasAuthors__meta_count' found\"}]}, 'status': 'FAILED'}}\n",
      "{'result': {'errors': {'error': [{'message': \"ref batch: write inverted batch: write additions: no bucket for prop 'wroteArticles__meta_count' found\"}]}, 'status': 'FAILED'}}\n",
      "{'result': {'errors': {'error': [{'message': \"ref batch: write inverted batch: write additions: no bucket for prop 'hasAuthors__meta_count' found\"}]}, 'status': 'FAILED'}}\n",
      "{'result': {'errors': {'error': [{'message': \"ref batch: write inverted batch: write additions: no bucket for prop 'wroteArticles__meta_count' found\"}]}, 'status': 'FAILED'}}\n",
      "{'result': {'errors': {'error': [{'message': \"ref batch: write inverted batch: write additions: no bucket for prop 'hasAuthors__meta_count' found\"}]}, 'status': 'FAILED'}}\n",
      "Updated reference batch successfully\n",
      "Updated object batch successfully\n",
      "{'result': {'errors': {'error': [{'message': \"ref batch: write inverted batch: write additions: no bucket for prop 'wroteArticles__meta_count' found\"}]}, 'status': 'FAILED'}}\n",
      "{'result': {'errors': {'error': [{'message': \"ref batch: write inverted batch: write additions: no bucket for prop 'hasAuthors__meta_count' found\"}]}, 'status': 'FAILED'}}\n",
      "{'result': {'errors': {'error': [{'message': \"ref batch: write inverted batch: write additions: no bucket for prop 'wroteArticles__meta_count' found\"}]}, 'status': 'FAILED'}}\n",
      "{'result': {'errors': {'error': [{'message': \"ref batch: write inverted batch: write additions: no bucket for prop 'hasAuthors__meta_count' found\"}]}, 'status': 'FAILED'}}\n",
      "Updated reference batch successfully\n",
      "Batcher object closed!\n"
     ]
    }
   ],
   "source": [
    "# we still need the 'created_authors' so we do not add the same author twice\n",
    "with Batcher(client, 30, True) as batcher:\n",
    "    for i in trange(100, 200):\n",
    "        \n",
    "        # add article to batcher\n",
    "        article_id = add_article(batcher, data[i]) # NOTE the 'bather' object instead of 'objects_batch'\n",
    "\n",
    "        for author in data[i]['authors']:\n",
    "\n",
    "            # add author to batcher\n",
    "            author_id = add_author(batcher, author, created_authors) # NOTE the 'bather' object instead of 'objects_batch'\n",
    "\n",
    "            # add cross references to the batcher\n",
    "            add_references(batcher, article_id=article_id, author_id=author_id) # NOTE the 'bather' object instead of 'reference_batch'"
   ]
  },
  {
   "cell_type": "markdown",
   "metadata": {
    "id": "elder-roommate"
   },
   "source": [
    "###  Query data."
   ]
  },
  {
   "cell_type": "markdown",
   "metadata": {
    "id": "federal-fitting"
   },
   "source": [
    "Now we have the data imported and ready to be queried. Data can be queried by using the `query` attribute of the client object (`client.query`).\n",
    "\n",
    "The data is queried using GraphQL syntax, and can be done in three different ways:\n",
    "- **GET**: query that gets objects and from Weaviate. \n",
    "    Use `client.query.get(class_name, properties).OTHER_OPTIONAL_FILTERS.do()`\n",
    "\n",
    "- **AGGREGATE**: query that aggregates data.\n",
    "    Use `client.query.aggregate(class_name, properties).OTHER_OPTIONAL_FILTERS.do()`\n",
    "    \n",
    "- Or use a GraphQL query represented as a `str`. <br>\n",
    "    Use `client.query.raw()`\n",
    "    \n",
    "**NOTE:** Both `.get` and `.aggregate` require the call of the `.do()` method to run the query. `.raw()` does NOT."
   ]
  },
  {
   "cell_type": "markdown",
   "metadata": {
    "id": "growing-liquid"
   },
   "source": [
    "###  GET"
   ]
  },
  {
   "cell_type": "code",
   "execution_count": 53,
   "metadata": {
    "colab": {
     "base_uri": "https://localhost:8080/"
    },
    "id": "obvious-gardening",
    "outputId": "118d8e3d-03c7-43b7-ae5a-054b27e3bf7e"
   },
   "outputs": [
    {
     "name": "stdout",
     "output_type": "stream",
     "text": [
      "Number of articles returned: 100\n"
     ]
    },
    {
     "data": {
      "text/plain": [
       "{'data': {'Get': {'Article': [{'title': 'Amazon natives hold on to tradition'},\n",
       "    {'title': \"Electric robots are mapping the seafloor, Earth's last frontier\"},\n",
       "    {'title': 'Scan gives Emma Raducanu hope she will be fit for Wimbledon'},\n",
       "    {'title': \"Nick Cannon says 'the stork is on the way' as he confirms he's having more children this year\"},\n",
       "    {'title': 'Moscow’s chief rabbi ‘in exile’ after resisting Kremlin pressure over war'},\n",
       "    {'title': 'Nike is shutting down its Run Club app in China'},\n",
       "    {'title': '‘The worst law on earth’: why the rich love London’s reputation managers'},\n",
       "    {'title': \"'This is Not America's Flag:' Artworks challenge what it means to be from the United States\"},\n",
       "    {'title': 'Six ways with Asian greens: ‘They’re almost like a cross between spinach and broccoli’'},\n",
       "    {'title': 'Desert dancers highlight Andean culture'},\n",
       "    {'title': 'I’m nearly 60. Here’s what I’ve learned about growing old so far'},\n",
       "    {'title': \"'Ms. Marvel' tackles a Muslim hero's teen troubles in a starry-eyed Disney+ series\"},\n",
       "    {'title': 'US tourist throws scooter down Rome’s Spanish Steps, causing €25,000 damage'},\n",
       "    {'title': 'Microplastics found in freshly fallen Antarctic snow for first time'},\n",
       "    {'title': 'Inside the strange world of NFTs'},\n",
       "    {'title': 'The Congolese student fighting with pro-Russia separatists in Ukraine'},\n",
       "    {'title': 'Israeli police \\u200battack funeral procession of killed journalist Shireen Abu Aqleh – video'},\n",
       "    {'title': 'The Guardian :: What can I expect after attending an interview?'},\n",
       "    {'title': 'Depp v Heard: the key turning points in the seven-week trial – video'},\n",
       "    {'title': 'These apps are trying to put car dealers out of business'},\n",
       "    {'title': '‘Gold rush’ for gas production threatens to lock in global heating'},\n",
       "    {'title': 'Ian Poulter expects more big names to sign up for Saudi-backed LIV Series'},\n",
       "    {'title': \"India's latest box office smash 'The Kashmir Files' exposes deepening religious divides\"},\n",
       "    {'title': 'The Guardian :: What should I wear?'},\n",
       "    {'title': \"Tired of being 'fetishized and invisible,' Asian artists are changing the narrative\"},\n",
       "    {'title': 'From tourist to altruist, how a New Yorker embraced Vietnam'},\n",
       "    {'title': 'Share a story with the Guardian'},\n",
       "    {'title': 'Dreaming of utopia: photographing the 60s – in pictures'},\n",
       "    {'title': \"Giving a face to Sudan's refugee crisis\"},\n",
       "    {'title': 'The Guardian :: How much time will the interview take?'},\n",
       "    {'title': 'The Guardian :: Should I ask questions?'},\n",
       "    {'title': \"Syria's lost generation: Education and dreams deferred\"},\n",
       "    {'title': '100-year-old Italian woman has driving licence renewed'},\n",
       "    {'title': '‘It’s a war on the people’: El Salvador’s mass arrests send thousands into despair'},\n",
       "    {'title': \"'We had to literally unpolish them': 'Pistol' makeup artist on achieving the punk look\"},\n",
       "    {'title': 'India wants to launch a digital rupee and tax crypto profits'},\n",
       "    {'title': 'A deadly ideology: how the ‘great replacement theory’ went mainstream'},\n",
       "    {'title': 'West to rebuke Iran over lack of cooperation with nuclear watchdog'},\n",
       "    {'title': 'An electric car finally makes financial sense'},\n",
       "    {'title': \"Fashion highlights from the Queen's Platinum Jubilee\"},\n",
       "    {'title': \"'Historic day': Finland's leaders confirm intention to join Nato – video\"},\n",
       "    {'title': \"In new pandemic novel, 'Station Eleven' author explores how the apocalypse is always now\"},\n",
       "    {'title': 'The best games of 2022 so far'},\n",
       "    {'title': \"Venice Biennale: Against all odds, a Ukrainian artist and his curators bring 'Fountain of Exhaustion' to Venice\"},\n",
       "    {'title': 'Pelé joins calls for Brazil to step up search for pair missing in Amazon'},\n",
       "    {'title': 'Twitter set to comply with Elon Musk demand for data on fake accounts'},\n",
       "    {'title': \"Dads cherish Sweden's parental leave\"},\n",
       "    {'title': '‘Victory will be ours’: Zelenskiy marks 100th day of war – video'},\n",
       "    {'title': 'Digital dress codes: What will we wear in the metaverse?'},\n",
       "    {'title': 'Family ties a poor excuse for fading players signing up to Saudi golf riches'},\n",
       "    {'title': 'Beneath what’s become the hidden pandemic lie tales of pain and anguish | Paul Daley'},\n",
       "    {'title': 'Girls behind bars tell their stories'},\n",
       "    {'title': 'Man arrested near Brett Kavanaugh’s home charged with attempted murder'},\n",
       "    {'title': \"'Anna' reveals an unseen side of fashion's most influential figure\"},\n",
       "    {'title': \"META alert! Facebook's old FB stock ticker is no more\"},\n",
       "    {'title': '‘I never lost the joy!’: singer Gilbert O’Sullivan on love, loss and lawsuits'},\n",
       "    {'title': 'My mother in the garden swamped by green – Lydia Goldblatt’s best photograph'},\n",
       "    {'title': 'I’m a Black gun owner. I have mixed feelings about gun control | Akin Olla'},\n",
       "    {'title': 'What is the LIV Golf Series and how will it work?'},\n",
       "    {'title': '‘She is dancing among the greats’: the dangerously honest, richly ambiguous Paula Rego'},\n",
       "    {'title': \"You've heard of K-pop, now it's time for K-drill\"},\n",
       "    {'title': 'The split over Boris Johnson’s future is just the start of a massive Tory identity crisis | Rafael Behr'},\n",
       "    {'title': 'Dame Paula Rego obituary'},\n",
       "    {'title': \"The 'Mona Lisa' has been caked in attempted vandalism stunt\"},\n",
       "    {'title': \"'Half of America deprived of hope': thousands rally for abortion rights across the US – video\"},\n",
       "    {'title': 'Concern grows as two new Omicron sub-variants spread across US'},\n",
       "    {'title': \"'Black Adam' trailer unveils Dwayne Johnson as DC's latest antihero\"},\n",
       "    {'title': 'Apple is discontinuing its last iPod model'},\n",
       "    {'title': 'The child sex trade in Cambodia'},\n",
       "    {'title': 'Warned of ‘massive’ climate-led extinction, a US energy firm funded crisis denial ads'},\n",
       "    {'title': \"'Hustle' drafts Adam Sandler for an NBA movie with a solid inside game\"},\n",
       "    {'title': 'A railway market and a sea turtle: Wednesday’s best photos'},\n",
       "    {'title': 'Yemen crisis: How you can help'},\n",
       "    {'title': \"'The higher the better': Why platform heels are back in fashion\"},\n",
       "    {'title': 'Help Syrians survive the conflict'},\n",
       "    {'title': \"'Like a supermodel': Eileen Gu's Met Gala appearance lights up Chinese social media\"},\n",
       "    {'title': 'Tell us: how have you been affected by the situation in Ukraine?'},\n",
       "    {'title': \"A design history of the world's most popular sport\"},\n",
       "    {'title': 'Finland and Sweden: how do you feel about your countries and Nato membership?'},\n",
       "    {'title': 'A decades-long photography series about girlhood takes a tragic turn'},\n",
       "    {'title': '‘Lexi’s voice demands action’: family of Uvalde victims beg Congress to address gun violence'},\n",
       "    {'title': 'At 17, this sexual abuse survivor set out to fix a broken system'},\n",
       "    {'title': 'Powerful photo by Pacific Indigenous artist reveals truth about 1899 painting'},\n",
       "    {'title': 'England going smoke-free by 2030 depends on No 10 willpower'},\n",
       "    {'title': \"Wall Street's top cop proposes massive changes to the stock market\"},\n",
       "    {'title': 'Brazilian police say ‘no evidence of crime’ in search for missing journalist'},\n",
       "    {'title': 'Man detained after driving car into Berlin crowd, killing teacher'},\n",
       "    {'title': 'Ukraine and Russia ‘compete to be last army standing’ as Donbas deaths mount'},\n",
       "    {'title': 'In need of light relief? Top Gun: Maverick is a reminder that Tom Cruise has still got it | Emma Brockes'},\n",
       "    {'title': 'From ancient Egypt to Beverly Hills: A brief history of plastic surgery'},\n",
       "    {'title': 'The human body is often seen through a male lens. 30 female photographers present a different view'},\n",
       "    {'title': 'Donald Trump to testify in New York investigation into his business practices'},\n",
       "    {'title': 'The Phil Mickelson Circus rolls into golf’s breakaway LIV Series'},\n",
       "    {'title': 'Award-winning photos capture Dutch communities frozen in time'},\n",
       "    {'title': '‘They want to destroy our culture’: Russian strike hits museum in Ukrainian town – video'},\n",
       "    {'title': 'This lunar robot prototype looks like a centaur meant for the moon'},\n",
       "    {'title': 'Beauty behind bars: Why makeup matters for prisoners'},\n",
       "    {'title': 'Sex, laughs and the snip: an audience with Thailand’s ‘Condom King’'},\n",
       "    {'title': 'Trials of new Covid vaccine raise hopes of once-a-year booster'},\n",
       "    {'title': 'Bonnet de douche, Rodney! Del Boy becomes a literary work in court ruling'}]}}}"
      ]
     },
     "execution_count": 53,
     "metadata": {},
     "output_type": "execute_result"
    }
   ],
   "source": [
    "result = client.query.get(class_name='Article', properties=\"title\")\\\n",
    "    .do()\n",
    "print(f\"Number of articles returned: {len(result['data']['Get']['Article'])}\")\n",
    "result"
   ]
  },
  {
   "cell_type": "markdown",
   "metadata": {
    "id": "cathedral-heart"
   },
   "source": [
    "So as we can see the `result` contains only 100 articles, this is due to the default limit of 100. Lets change it."
   ]
  },
  {
   "cell_type": "code",
   "execution_count": 59,
   "metadata": {
    "colab": {
     "base_uri": "https://localhost:8080/"
    },
    "id": "changed-rabbit",
    "outputId": "2e0f4938-941f-49c2-9017-ab8ecec2c398"
   },
   "outputs": [
    {
     "name": "stdout",
     "output_type": "stream",
     "text": [
      "Number of articles returned: 200\n"
     ]
    },
    {
     "data": {
      "text/plain": [
       "{'data': {'Get': {'Article': [{'title': 'Amazon natives hold on to tradition'},\n",
       "    {'title': \"Electric robots are mapping the seafloor, Earth's last frontier\"},\n",
       "    {'title': 'Scan gives Emma Raducanu hope she will be fit for Wimbledon'},\n",
       "    {'title': \"Nick Cannon says 'the stork is on the way' as he confirms he's having more children this year\"},\n",
       "    {'title': 'Moscow’s chief rabbi ‘in exile’ after resisting Kremlin pressure over war'},\n",
       "    {'title': 'Nike is shutting down its Run Club app in China'},\n",
       "    {'title': '‘The worst law on earth’: why the rich love London’s reputation managers'},\n",
       "    {'title': \"'This is Not America's Flag:' Artworks challenge what it means to be from the United States\"},\n",
       "    {'title': 'Six ways with Asian greens: ‘They’re almost like a cross between spinach and broccoli’'},\n",
       "    {'title': 'Desert dancers highlight Andean culture'},\n",
       "    {'title': 'I’m nearly 60. Here’s what I’ve learned about growing old so far'},\n",
       "    {'title': \"'Ms. Marvel' tackles a Muslim hero's teen troubles in a starry-eyed Disney+ series\"},\n",
       "    {'title': 'US tourist throws scooter down Rome’s Spanish Steps, causing €25,000 damage'},\n",
       "    {'title': 'Microplastics found in freshly fallen Antarctic snow for first time'},\n",
       "    {'title': 'Inside the strange world of NFTs'},\n",
       "    {'title': 'The Congolese student fighting with pro-Russia separatists in Ukraine'},\n",
       "    {'title': 'Israeli police \\u200battack funeral procession of killed journalist Shireen Abu Aqleh – video'},\n",
       "    {'title': 'The Guardian :: What can I expect after attending an interview?'},\n",
       "    {'title': 'Depp v Heard: the key turning points in the seven-week trial – video'},\n",
       "    {'title': 'These apps are trying to put car dealers out of business'},\n",
       "    {'title': '‘Gold rush’ for gas production threatens to lock in global heating'},\n",
       "    {'title': 'Ian Poulter expects more big names to sign up for Saudi-backed LIV Series'},\n",
       "    {'title': \"India's latest box office smash 'The Kashmir Files' exposes deepening religious divides\"},\n",
       "    {'title': 'The Guardian :: What should I wear?'},\n",
       "    {'title': \"Tired of being 'fetishized and invisible,' Asian artists are changing the narrative\"},\n",
       "    {'title': 'From tourist to altruist, how a New Yorker embraced Vietnam'},\n",
       "    {'title': 'Share a story with the Guardian'},\n",
       "    {'title': 'Dreaming of utopia: photographing the 60s – in pictures'},\n",
       "    {'title': \"Giving a face to Sudan's refugee crisis\"},\n",
       "    {'title': 'The Guardian :: How much time will the interview take?'},\n",
       "    {'title': 'The Guardian :: Should I ask questions?'},\n",
       "    {'title': \"Syria's lost generation: Education and dreams deferred\"},\n",
       "    {'title': '100-year-old Italian woman has driving licence renewed'},\n",
       "    {'title': '‘It’s a war on the people’: El Salvador’s mass arrests send thousands into despair'},\n",
       "    {'title': \"'We had to literally unpolish them': 'Pistol' makeup artist on achieving the punk look\"},\n",
       "    {'title': 'India wants to launch a digital rupee and tax crypto profits'},\n",
       "    {'title': 'A deadly ideology: how the ‘great replacement theory’ went mainstream'},\n",
       "    {'title': 'West to rebuke Iran over lack of cooperation with nuclear watchdog'},\n",
       "    {'title': 'An electric car finally makes financial sense'},\n",
       "    {'title': \"Fashion highlights from the Queen's Platinum Jubilee\"},\n",
       "    {'title': \"'Historic day': Finland's leaders confirm intention to join Nato – video\"},\n",
       "    {'title': \"In new pandemic novel, 'Station Eleven' author explores how the apocalypse is always now\"},\n",
       "    {'title': 'The best games of 2022 so far'},\n",
       "    {'title': \"Venice Biennale: Against all odds, a Ukrainian artist and his curators bring 'Fountain of Exhaustion' to Venice\"},\n",
       "    {'title': 'Pelé joins calls for Brazil to step up search for pair missing in Amazon'},\n",
       "    {'title': 'Twitter set to comply with Elon Musk demand for data on fake accounts'},\n",
       "    {'title': \"Dads cherish Sweden's parental leave\"},\n",
       "    {'title': '‘Victory will be ours’: Zelenskiy marks 100th day of war – video'},\n",
       "    {'title': 'Digital dress codes: What will we wear in the metaverse?'},\n",
       "    {'title': 'Family ties a poor excuse for fading players signing up to Saudi golf riches'},\n",
       "    {'title': 'Beneath what’s become the hidden pandemic lie tales of pain and anguish | Paul Daley'},\n",
       "    {'title': 'Girls behind bars tell their stories'},\n",
       "    {'title': 'Man arrested near Brett Kavanaugh’s home charged with attempted murder'},\n",
       "    {'title': \"'Anna' reveals an unseen side of fashion's most influential figure\"},\n",
       "    {'title': \"META alert! Facebook's old FB stock ticker is no more\"},\n",
       "    {'title': '‘I never lost the joy!’: singer Gilbert O’Sullivan on love, loss and lawsuits'},\n",
       "    {'title': 'My mother in the garden swamped by green – Lydia Goldblatt’s best photograph'},\n",
       "    {'title': 'I’m a Black gun owner. I have mixed feelings about gun control | Akin Olla'},\n",
       "    {'title': 'What is the LIV Golf Series and how will it work?'},\n",
       "    {'title': '‘She is dancing among the greats’: the dangerously honest, richly ambiguous Paula Rego'},\n",
       "    {'title': \"You've heard of K-pop, now it's time for K-drill\"},\n",
       "    {'title': 'The split over Boris Johnson’s future is just the start of a massive Tory identity crisis | Rafael Behr'},\n",
       "    {'title': 'Dame Paula Rego obituary'},\n",
       "    {'title': \"The 'Mona Lisa' has been caked in attempted vandalism stunt\"},\n",
       "    {'title': \"'Half of America deprived of hope': thousands rally for abortion rights across the US – video\"},\n",
       "    {'title': 'Concern grows as two new Omicron sub-variants spread across US'},\n",
       "    {'title': \"'Black Adam' trailer unveils Dwayne Johnson as DC's latest antihero\"},\n",
       "    {'title': 'Apple is discontinuing its last iPod model'},\n",
       "    {'title': 'The child sex trade in Cambodia'},\n",
       "    {'title': 'Warned of ‘massive’ climate-led extinction, a US energy firm funded crisis denial ads'},\n",
       "    {'title': \"'Hustle' drafts Adam Sandler for an NBA movie with a solid inside game\"},\n",
       "    {'title': 'A railway market and a sea turtle: Wednesday’s best photos'},\n",
       "    {'title': 'Yemen crisis: How you can help'},\n",
       "    {'title': \"'The higher the better': Why platform heels are back in fashion\"},\n",
       "    {'title': 'Help Syrians survive the conflict'},\n",
       "    {'title': \"'Like a supermodel': Eileen Gu's Met Gala appearance lights up Chinese social media\"},\n",
       "    {'title': 'Tell us: how have you been affected by the situation in Ukraine?'},\n",
       "    {'title': \"A design history of the world's most popular sport\"},\n",
       "    {'title': 'Finland and Sweden: how do you feel about your countries and Nato membership?'},\n",
       "    {'title': 'A decades-long photography series about girlhood takes a tragic turn'},\n",
       "    {'title': '‘Lexi’s voice demands action’: family of Uvalde victims beg Congress to address gun violence'},\n",
       "    {'title': 'At 17, this sexual abuse survivor set out to fix a broken system'},\n",
       "    {'title': 'Powerful photo by Pacific Indigenous artist reveals truth about 1899 painting'},\n",
       "    {'title': 'England going smoke-free by 2030 depends on No 10 willpower'},\n",
       "    {'title': \"Wall Street's top cop proposes massive changes to the stock market\"},\n",
       "    {'title': 'Brazilian police say ‘no evidence of crime’ in search for missing journalist'},\n",
       "    {'title': 'Man detained after driving car into Berlin crowd, killing teacher'},\n",
       "    {'title': 'Ukraine and Russia ‘compete to be last army standing’ as Donbas deaths mount'},\n",
       "    {'title': 'In need of light relief? Top Gun: Maverick is a reminder that Tom Cruise has still got it | Emma Brockes'},\n",
       "    {'title': 'From ancient Egypt to Beverly Hills: A brief history of plastic surgery'},\n",
       "    {'title': 'The human body is often seen through a male lens. 30 female photographers present a different view'},\n",
       "    {'title': 'Donald Trump to testify in New York investigation into his business practices'},\n",
       "    {'title': 'The Phil Mickelson Circus rolls into golf’s breakaway LIV Series'},\n",
       "    {'title': 'Award-winning photos capture Dutch communities frozen in time'},\n",
       "    {'title': '‘They want to destroy our culture’: Russian strike hits museum in Ukrainian town – video'},\n",
       "    {'title': 'This lunar robot prototype looks like a centaur meant for the moon'},\n",
       "    {'title': 'Beauty behind bars: Why makeup matters for prisoners'},\n",
       "    {'title': 'Sex, laughs and the snip: an audience with Thailand’s ‘Condom King’'},\n",
       "    {'title': 'Trials of new Covid vaccine raise hopes of once-a-year booster'},\n",
       "    {'title': 'Bonnet de douche, Rodney! Del Boy becomes a literary work in court ruling'},\n",
       "    {'title': \"'Fashioning Masculinities:' Tracing the history of gender-fluid menswear\"},\n",
       "    {'title': 'Sending Aya Back: the Syrian teen facing deportation in Denmark – documentary'},\n",
       "    {'title': 'Needy families slept on hospital floors until one doctor started a shelter'},\n",
       "    {'title': 'Life in the firing zone: the occupation of Masafer Yatta – podcast'},\n",
       "    {'title': 'Global supply chain crisis fuels push to local manufacturing as China’s appeal dims'},\n",
       "    {'title': \"'Chrisley Knows Best' stars convicted of committing fraud, tax crimes\"},\n",
       "    {'title': 'FBI seizes retired US general’s electronic data over alleged illegal Qatar lobbying'},\n",
       "    {'title': 'Why $4.47 gas in Mississippi hurts more than $6.37 gas in California'},\n",
       "    {'title': 'Rising prices are pushing shoppers to dollar stores'},\n",
       "    {'title': \"'It wasn't not racist': Netflix documentary charts the troubling rise of Abercrombie & Fitch\"},\n",
       "    {'title': 'Russia-Ukraine war latest: Zelenskiy says Sievierodonetsk seeing most difficult fighting so far in war – live'},\n",
       "    {'title': 'Government failure to boost energy efficiency ‘inexplicable’, says IEA'},\n",
       "    {'title': 'Family ties mix with fresh fruit on an island paradise'},\n",
       "    {'title': 'Bruno Pereira: the dedicated defender of Indigenous rights missing in Brazil'},\n",
       "    {'title': \"Making a 'squat' a home\"},\n",
       "    {'title': \"Aid workers in ISIS bull's-eye: 'If not us, then who?'\"},\n",
       "    {'title': 'The Broker, The Astronaut and The Vampire: Enter the mysterious world of Soviet watch collectors'},\n",
       "    {'title': 'Al-Qaida in Indian subcontinent plans revenge attacks over prophet remarks'},\n",
       "    {'title': 'Creating for community: The Black designers placing identity and heritage at the center of their brands'},\n",
       "    {'title': 'Treasury bans Americans from buying Russian stocks and bonds'},\n",
       "    {'title': 'Artist Paula Rego, known for her visceral and unsettling work, dies aged 87'},\n",
       "    {'title': 'Goya’s horrific Black Paintings are brought to life – La Quinta del Sordo review'},\n",
       "    {'title': \"Even before Covid struck, Modi's $1.8B architectural revamp divided opinions\"},\n",
       "    {'title': \"World Bank says recession will be 'hard to avoid' for many countries\"},\n",
       "    {'title': \"India's billionaire vaccine prince held the key to ending the pandemic. His plans went awry\"},\n",
       "    {'title': 'A glimpse of life on the reservation'},\n",
       "    {'title': 'The stock market could soon see a massive change to how it functions'},\n",
       "    {'title': 'The Guardian :: How does the interview process work?'},\n",
       "    {'title': 'Met Gala 2022: Red carpet looks photo gallery'},\n",
       "    {'title': 'As war rages in Ukraine, ballet dancers of the Lviv National Opera return to the stage'},\n",
       "    {'title': 'Tory rebels wait for Boris Johnson to ‘blow himself up’ to trigger fresh vote'},\n",
       "    {'title': 'Russian bombardment of Sievierodonetsk ‘pushes Ukrainian troops back to city’s outskirts’ – as it happened'},\n",
       "    {'title': 'Apple unveils iOS 16 with revamped lock screen and big changes to iMessage'},\n",
       "    {'title': 'a land where coffee meets tradition'},\n",
       "    {'title': \"India's got the next big thing in tech, and it could be worth $1 trillion\"},\n",
       "    {'title': 'Wildlife and celebrity photographer reveals secrets behind most iconic shots'},\n",
       "    {'title': 'Behold the balaclava: Why a 19th-century army accessory has taken over social media'},\n",
       "    {'title': 'Russians: tell us what the mood is like in your country'},\n",
       "    {'title': \"Nepal's Organ Trail: How traffickers steal kidneys\"},\n",
       "    {'title': \"Model Quannah Chasinghorse: 'If you want to work with me, you have to work with all of me'\"},\n",
       "    {'title': \"2021 was a dramatic year for Indian IPOs. The hype won't go away next year\"},\n",
       "    {'title': \"In today's India, clothing choices signal a deepening religious divide\"},\n",
       "    {'title': 'Why did pitch invasions become such a prevalent issue in the 2021-22 season? – video'},\n",
       "    {'title': 'Alok Sharma in running to be UN’s global climate chief'},\n",
       "    {'title': 'The Guardian :: How do I make an accessibility request?'},\n",
       "    {'title': 'Kid Rock is unapologetic about his rant against Oprah Winfrey and Joy Behar'},\n",
       "    {'title': \"'Any victory is important, so let's cheer': Ukraine wins Eurovision 2022 – video report\"},\n",
       "    {'title': 'Liverpool ready to pay £85m for Núñez but reject Bayern’s new Mané bid'},\n",
       "    {'title': 'EasyJet diverted my flight and then refused to pay my taxi bill'},\n",
       "    {'title': 'Fashion, beauty, design, art, architecture and luxury'},\n",
       "    {'title': 'President Biden talks gun control with Jimmy Kimmel for his first in-person late night appearance'},\n",
       "    {'title': \"Don't look to Watergate and Army-McCarthy for guidance on January 6 hearings\"},\n",
       "    {'title': 'From Queen Victoria to Cardi B, how this legacy watchmaker found itself in the zeitgeist'},\n",
       "    {'title': 'Rain of munition cascades on to Azovstal steelworks in Mariupol, Ukraine – video'},\n",
       "    {'title': \"India's young investors prefer crypto to gold and 'boring' stocks\"},\n",
       "    {'title': 'Yorkshire prepare to defend Gale dismissal at employment tribunal'},\n",
       "    {'title': 'The CEO who fired 900 people over Zoom is accused of misleading investors'},\n",
       "    {'title': 'A powerful portrait of motherhood and exotic dancing'},\n",
       "    {'title': \"Exxon's stock is back from the dead\"},\n",
       "    {'title': 'Russia-Ukraine war: what we know on day 106 of the invasion'},\n",
       "    {'title': 'Elvis reimagined as an Asian American icon'},\n",
       "    {'title': 'Shipping generates more CO2 than aviation. This solar-powered boat could change that'},\n",
       "    {'title': 'The Guardian :: How can I prepare?'},\n",
       "    {'title': 'NBA finals Game 3: Golden State Warriors 100-116 Boston Celtics – as it happened'},\n",
       "    {'title': 'My 98-year-old friend fled Nuremberg on the Kindertransport. Today would he be sent to Rwanda? | Chitra Ramaswamy'},\n",
       "    {'title': 'Ms Marvel review – a glorious debut for the MCU’s first Muslim superhero'},\n",
       "    {'title': 'Buy now, pay later users in the UK are racking up debt to pay off their debts'},\n",
       "    {'title': 'Wout Weghorst heads late winner as Wales slip to defeat by Netherlands'},\n",
       "    {'title': 'How non-binary TikTok creators are helping a generation find their style'},\n",
       "    {'title': 'Ukrainian cultural landmarks suffer fresh blows as another museum is hit'},\n",
       "    {'title': 'Foo Fighters announce two tribute shows to honor late band member Taylor Hawkins'},\n",
       "    {'title': 'Surreal photos show cosplay fans in suburbia'},\n",
       "    {'title': \"Wall Street's blank-check boom has gone bust\"},\n",
       "    {'title': 'Fuel cost surge and dire economic forecast shatter PM’s hope of reset'},\n",
       "    {'title': 'Guatemala: Gender-based violence at epidemic levels'},\n",
       "    {'title': 'Fight for Sievierodonetsk will decide fate of eastern Ukraine, says Zelenskiy'},\n",
       "    {'title': 'New EU rule will require all phones and electronics to use a standard charger'},\n",
       "    {'title': 'Ralston and McKenna ease Scotland to cathartic win over Armenia'},\n",
       "    {'title': 'Show animals and their proud handlers'},\n",
       "    {'title': 'Canada: two died as police sought approval to tweet 2020 mass shooting warning'},\n",
       "    {'title': \"'Joker' director teases sequel\"},\n",
       "    {'title': 'Jack Grealish’s Munich cameo showed freedom he feels with England'},\n",
       "    {'title': \"Queen's hologram waves from gold coach at Platinum Jubilee pageant\"},\n",
       "    {'title': 'Monkeypox: what is it and how worried should we be? – video explainer'},\n",
       "    {'title': \"Why these unsettling '90s Ukrainian passport photos are more relevant than ever\"},\n",
       "    {'title': 'Jim Seals, of soft-rock duo Seals and Crofts, dead at 80'},\n",
       "    {'title': \"A photographer tells her family's story about the dark side of an American dream\"},\n",
       "    {'title': 'Harvey Weinstein to be charged with indecent assault in UK'},\n",
       "    {'title': 'Jack Leach ready for England action but Ollie Robinson out of Test series'},\n",
       "    {'title': 'How can I tell my husband I want us to have sex?'},\n",
       "    {'title': \"Can seaweed help solve the world's plastic crisis?\"},\n",
       "    {'title': 'Made in London: Solidarity Britannia - video'},\n",
       "    {'title': 'Contact the Guardian securely'},\n",
       "    {'title': 'Bulusan volcano eruption dumps ash on Philippines – in pictures'},\n",
       "    {'title': \"Decoding the Queen's colorful style\"},\n",
       "    {'title': 'Play some Kylie, keep it short and enlist your friends! The beginner’s guide to loving exercise'},\n",
       "    {'title': 'Style Guide: How to dress for the office'},\n",
       "    {'title': 'How to make coronation chicken – recipe'},\n",
       "    {'title': 'Yulia Tymoshenko on war in Ukraine: ‘It’s a chance for the free world to kill this evil’'},\n",
       "    {'title': 'Uvalde survivor, 11, tells House hearing she smeared herself with friend’s blood'}]}}}"
      ]
     },
     "execution_count": 59,
     "metadata": {},
     "output_type": "execute_result"
    }
   ],
   "source": [
    "result = client.query.get(class_name='Article', properties=\"title\")\\\n",
    "    .with_limit(200)\\\n",
    "    .do()\n",
    "print(f\"Number of articles returned: {len(result['data']['Get']['Article'])}\")\n",
    "result"
   ]
  },
  {
   "cell_type": "markdown",
   "metadata": {
    "id": "equipped-gauge"
   },
   "source": [
    "We can do much more by stacking multiple methods. The available methods for `.get` are:\n",
    "- `.with_limit` - set another limit of returned objects.\n",
    "- `.with_near_object` - get objects that are similar to the object passed to this method.\n",
    "- `.with_near_text` - get objects that are similar to the text passed to this method.\n",
    "- `.with_near_vector` - get objects that are similar to the vector passed to this method.\n",
    "- `.with_where` - get objects that are filtered using the `Where` filter\n",
    "\n",
    "Also instead of `.do()` one can use the `.build()` method that returns the GraphQL query as a string. This string can be passed to `.raw()` method.\n",
    "\n",
    "**NOTE:** Only one `.with_near_*` can be used per query."
   ]
  },
  {
   "cell_type": "code",
   "execution_count": 62,
   "metadata": {
    "colab": {
     "base_uri": "https://localhost:8080/"
    },
    "id": "ambient-example",
    "outputId": "f01c3d63-a496-4254-f730-6d78f79426ed"
   },
   "outputs": [
    {
     "data": {
      "text/plain": [
       "{'errors': [{'locations': [{'column': 23, 'line': 1}],\n",
       "   'message': 'Unknown argument \"nearText\" on field \"Article\" of type \"GetObjectsObj\". Did you mean \"nearVector\" or \"nearObject\"?',\n",
       "   'path': None}]}"
      ]
     },
     "execution_count": 62,
     "metadata": {},
     "output_type": "execute_result"
    }
   ],
   "source": [
    "a=client.query.get(class_name='Article', properties=\"title\")\\\n",
    "    .with_limit(5)\\\n",
    "    .with_near_text({'concepts': ['Fashion']})\\\n",
    "    .do()\n",
    "a"
   ]
  },
  {
   "cell_type": "markdown",
   "metadata": {
    "id": "northern-oxide"
   },
   "source": [
    "###  AGGREGATE"
   ]
  },
  {
   "cell_type": "markdown",
   "metadata": {
    "id": "later-azerbaijan"
   },
   "source": [
    "We can use the `.aggregate` to count number of objects that satisfy a specific condition."
   ]
  },
  {
   "cell_type": "code",
   "execution_count": 57,
   "metadata": {
    "colab": {
     "base_uri": "https://localhost:8080/"
    },
    "id": "therapeutic-shame",
    "outputId": "b554dd61-1174-44fe-a088-b25a294250da"
   },
   "outputs": [
    {
     "data": {
      "text/plain": [
       "{'data': {'Aggregate': {'Article': [{'meta': {'count': 200}}]}}}"
      ]
     },
     "execution_count": 57,
     "metadata": {},
     "output_type": "execute_result"
    }
   ],
   "source": [
    "# no filter, count all objects of class Article\n",
    "client.query.aggregate(class_name='Article')\\\n",
    "    .with_meta_count()\\\n",
    "    .do()"
   ]
  },
  {
   "cell_type": "code",
   "execution_count": 58,
   "metadata": {
    "colab": {
     "base_uri": "https://localhost:8080/"
    },
    "id": "heated-tractor",
    "outputId": "b7c820b1-1f2a-4531-98f3-a887fb4ff1ee"
   },
   "outputs": [
    {
     "data": {
      "text/plain": [
       "{'data': {'Aggregate': {'Author': [{'meta': {'count': 231}}]}}}"
      ]
     },
     "execution_count": 58,
     "metadata": {},
     "output_type": "execute_result"
    }
   ],
   "source": [
    "# no filter, count all objects of class Author\n",
    "client.query.aggregate(class_name='Author')\\\n",
    "    .with_meta_count()\\\n",
    "    .do()"
   ]
  },
  {
   "cell_type": "markdown",
   "metadata": {
    "id": "equal-valentine"
   },
   "source": [
    "\n",
    "Here are the methods that are supported by the `.aggregate`.\n",
    "\n",
    "- `.with_meta_count` sets meta count to True. Used to count objects per filtered group.\n",
    "- `.with_fields` - fields to return by the aggregated query.\n",
    "- `.with_group_by_filter` - set a `GroupBy` filter. \n",
    "- `.with_where` - aggregate objects using a `Where` filter. \n"
   ]
  },
  {
   "cell_type": "code",
   "execution_count": null,
   "metadata": {},
   "outputs": [],
   "source": []
  }
 ],
 "metadata": {
  "colab": {
   "collapsed_sections": [],
   "name": "Getting-Started-With-Weaviate-Python-Client.ipynb",
   "provenance": []
  },
  "kernelspec": {
   "display_name": "Python 3",
   "language": "python",
   "name": "python3"
  },
  "language_info": {
   "codemirror_mode": {
    "name": "ipython",
    "version": 3
   },
   "file_extension": ".py",
   "mimetype": "text/x-python",
   "name": "python",
   "nbconvert_exporter": "python",
   "pygments_lexer": "ipython3",
   "version": "3.8.10"
  }
 },
 "nbformat": 4,
 "nbformat_minor": 5
}
