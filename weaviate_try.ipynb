{
 "cells": [
  {
   "cell_type": "markdown",
   "metadata": {},
   "source": [
    "# Weaviate Python Library"
   ]
  },
  {
   "cell_type": "markdown",
   "metadata": {},
   "source": [
    "The Weaviate Python Client is a python package that allows you to connect and interact with a Weaviate instance. The python client is NOT a Weaviate instance but you can use it to create one on the Weaviate Cloud Service. It provides API for importing data, creating schemas, do classification, query data, … We are going to go through most of them and explain how and when one could use them."
   ]
  },
  {
   "cell_type": "markdown",
   "metadata": {},
   "source": [
    "# How to use the python-client with a Weaviate cluster"
   ]
  },
  {
   "cell_type": "markdown",
   "metadata": {},
   "source": [
    "# 1.Create an Weaviate instance/cluster"
   ]
  },
  {
   "cell_type": "markdown",
   "metadata": {},
   "source": [
    "Creating a Weaviate instance can be done in multiple ways. It can be done using a docker-compose.yaml file\n",
    "\n",
    "Another option is to create an account on Weaviate Cloud Service console (WCS console) and create a cluster there. There are different options for clusters you can choose from. "
   ]
  },
  {
   "cell_type": "markdown",
   "metadata": {},
   "source": [
    "install the Weaviate Python"
   ]
  },
  {
   "cell_type": "code",
   "execution_count": 1,
   "metadata": {},
   "outputs": [
    {
     "name": "stdout",
     "output_type": "stream",
     "text": [
      "Defaulting to user installation because normal site-packages is not writeable\n",
      "Requirement already satisfied: weaviate-client==3.0.0 in /home/renuka/.local/lib/python3.8/site-packages (3.0.0)\n",
      "Requirement already satisfied: requests<2.26.0,>=2.23.0 in /home/renuka/.local/lib/python3.8/site-packages (from weaviate-client==3.0.0) (2.25.1)\n",
      "Requirement already satisfied: validators<0.19.0,>=0.18.2 in /home/renuka/.local/lib/python3.8/site-packages (from weaviate-client==3.0.0) (0.18.2)\n",
      "Requirement already satisfied: tqdm<4.62.0,>=4.59.0 in /home/renuka/.local/lib/python3.8/site-packages (from weaviate-client==3.0.0) (4.61.2)\n",
      "Requirement already satisfied: idna<3,>=2.5 in /home/renuka/.local/lib/python3.8/site-packages (from requests<2.26.0,>=2.23.0->weaviate-client==3.0.0) (2.10)\n",
      "Requirement already satisfied: chardet<5,>=3.0.2 in /home/renuka/.local/lib/python3.8/site-packages (from requests<2.26.0,>=2.23.0->weaviate-client==3.0.0) (4.0.0)\n",
      "Requirement already satisfied: certifi>=2017.4.17 in /home/renuka/.local/lib/python3.8/site-packages (from requests<2.26.0,>=2.23.0->weaviate-client==3.0.0) (2021.5.30)\n",
      "Requirement already satisfied: urllib3<1.27,>=1.21.1 in /home/renuka/.local/lib/python3.8/site-packages (from requests<2.26.0,>=2.23.0->weaviate-client==3.0.0) (1.26.6)\n",
      "Requirement already satisfied: decorator>=3.4.0 in /usr/lib/python3/dist-packages (from validators<0.19.0,>=0.18.2->weaviate-client==3.0.0) (4.4.2)\n",
      "Requirement already satisfied: six>=1.4.0 in /home/renuka/.local/lib/python3.8/site-packages (from validators<0.19.0,>=0.18.2->weaviate-client==3.0.0) (1.16.0)\n"
     ]
    }
   ],
   "source": [
    "import sys\n",
    "!{sys.executable} -m pip install weaviate-client==3.0.0"
   ]
  },
  {
   "cell_type": "markdown",
   "metadata": {},
   "source": [
    "import the package and create a cluster on WCS"
   ]
  },
  {
   "cell_type": "code",
   "execution_count": 2,
   "metadata": {},
   "outputs": [],
   "source": [
    "from getpass import getpass # hide password\n",
    "import weaviate # to communicate to the Weaviate instance\n",
    "from weaviate.wcs import WCS"
   ]
  },
  {
   "cell_type": "markdown",
   "metadata": {},
   "source": [
    "In order to authenticate to WCS or Weaviate instance (if Weaviate instance has Authentication enable) we need to create an Authentication object. At the moment it supports two types of authentication credentials:\n",
    "\n",
    "* Password credentials: weaviate.auth.AuthClientPassword(username='WCS_ACCOUNT_EMAIL', password='WCS_ACCOUNT_PASSWORD')\n",
    "* Token credentials weaviate.auth.AuthClientCredentials(client_secret=YOUR_SECRET_TOKEN)"
   ]
  },
  {
   "cell_type": "code",
   "execution_count": 3,
   "metadata": {},
   "outputs": [
    {
     "name": "stdout",
     "output_type": "stream",
     "text": [
      "User name:renukaalai@gmail.com renukaalai@gmail.com\n",
      "Password:Renuka@3200 ········\n"
     ]
    }
   ],
   "source": [
    "my_credentials = weaviate.auth.AuthClientPassword(username=input(\"User name:renukaalai@gmail.com \"), password=getpass('Password:Renuka@3200 '))"
   ]
  },
  {
   "cell_type": "code",
   "execution_count": 4,
   "metadata": {},
   "outputs": [],
   "source": [
    "my_wcs = WCS(my_credentials)"
   ]
  },
  {
   "cell_type": "markdown",
   "metadata": {},
   "source": [
    "Now that we connected to WCS, we can create, delete, get_clusters, get_cluster_config and check the status of a cluster with is_ready method."
   ]
  },
  {
   "cell_type": "markdown",
   "metadata": {},
   "source": [
    "If you want to check the prototype and docstring of any methods in a notebook, run this command: object.method?. You can also use the help() function.\n",
    "Ex: WCS.is_ready? or my_wcs.is_ready? or help(WCS.is_ready)."
   ]
  },
  {
   "cell_type": "code",
   "execution_count": 5,
   "metadata": {},
   "outputs": [
    {
     "name": "stderr",
     "output_type": "stream",
     "text": [
      "100%|██████████| 100/100 [01:08<00:00,  1.46it/s]\n"
     ]
    },
    {
     "data": {
      "text/plain": [
       "'https://my-first-weaviate-instance.semi.network'"
      ]
     },
     "execution_count": 5,
     "metadata": {},
     "output_type": "execute_result"
    }
   ],
   "source": [
    "cluster_name = 'my-first-weaviate-instance'\n",
    "weaviate_url = my_wcs.create(cluster_name=cluster_name)\n",
    "weaviate_url"
   ]
  },
  {
   "cell_type": "code",
   "execution_count": 6,
   "metadata": {},
   "outputs": [
    {
     "data": {
      "text/plain": [
       "True"
      ]
     },
     "execution_count": 6,
     "metadata": {},
     "output_type": "execute_result"
    }
   ],
   "source": [
    "my_wcs.is_ready(cluster_name)"
   ]
  },
  {
   "cell_type": "markdown",
   "metadata": {},
   "source": [
    "# 2.Connect to the cluster.\n"
   ]
  },
  {
   "cell_type": "code",
   "execution_count": 8,
   "metadata": {},
   "outputs": [],
   "source": [
    "client = weaviate.Client(weaviate_url)"
   ]
  },
  {
   "cell_type": "code",
   "execution_count": 9,
   "metadata": {},
   "outputs": [
    {
     "data": {
      "text/plain": [
       "True"
      ]
     },
     "execution_count": 9,
     "metadata": {},
     "output_type": "execute_result"
    }
   ],
   "source": [
    "client.is_ready()"
   ]
  },
  {
   "cell_type": "markdown",
   "metadata": {},
   "source": [
    "# 3. Get Data and Analyse it"
   ]
  },
  {
   "cell_type": "markdown",
   "metadata": {},
   "source": [
    "we are going to use news articles to construct weaviate data. For this we are going to need the newspaper3k package."
   ]
  },
  {
   "cell_type": "code",
   "execution_count": 10,
   "metadata": {},
   "outputs": [
    {
     "name": "stdout",
     "output_type": "stream",
     "text": [
      "Defaulting to user installation because normal site-packages is not writeable\n",
      "Collecting newspaper3k\n",
      "  Downloading newspaper3k-0.2.8-py3-none-any.whl (211 kB)\n",
      "     |████████████████████████████████| 211 kB 272 kB/s            \n",
      "\u001b[?25hCollecting jieba3k>=0.35.1\n",
      "  Downloading jieba3k-0.35.1.zip (7.4 MB)\n",
      "     |████████████████████████████████| 7.4 MB 31 kB/s             \n",
      "\u001b[?25h  Preparing metadata (setup.py) ... \u001b[?25ldone\n",
      "\u001b[?25hRequirement already satisfied: requests>=2.10.0 in /home/renuka/.local/lib/python3.8/site-packages (from newspaper3k) (2.25.1)\n",
      "Collecting feedparser>=5.2.1\n",
      "  Downloading feedparser-6.0.10-py3-none-any.whl (81 kB)\n",
      "     |████████████████████████████████| 81 kB 290 kB/s            \n",
      "\u001b[?25hRequirement already satisfied: nltk>=3.2.1 in /usr/lib/python3/dist-packages (from newspaper3k) (3.4.5)\n",
      "Requirement already satisfied: PyYAML>=3.11 in /home/renuka/.local/lib/python3.8/site-packages (from newspaper3k) (6.0)\n",
      "Requirement already satisfied: beautifulsoup4>=4.4.1 in /usr/lib/python3/dist-packages (from newspaper3k) (4.8.2)\n",
      "Requirement already satisfied: cssselect>=0.9.2 in /home/renuka/.local/lib/python3.8/site-packages (from newspaper3k) (1.1.0)\n",
      "Collecting feedfinder2>=0.0.4\n",
      "  Downloading feedfinder2-0.0.4.tar.gz (3.3 kB)\n",
      "  Preparing metadata (setup.py) ... \u001b[?25ldone\n",
      "\u001b[?25hCollecting tldextract>=2.0.1\n",
      "  Downloading tldextract-3.3.0-py3-none-any.whl (93 kB)\n",
      "     |████████████████████████████████| 93 kB 344 kB/s            \n",
      "\u001b[?25hRequirement already satisfied: lxml>=3.6.0 in /home/renuka/.local/lib/python3.8/site-packages (from newspaper3k) (4.7.1)\n",
      "Requirement already satisfied: python-dateutil>=2.5.3 in /usr/lib/python3/dist-packages (from newspaper3k) (2.7.3)\n",
      "Requirement already satisfied: Pillow>=3.3.0 in /home/renuka/.local/lib/python3.8/site-packages (from newspaper3k) (9.0.1)\n",
      "Collecting tinysegmenter==0.3\n",
      "  Downloading tinysegmenter-0.3.tar.gz (16 kB)\n",
      "  Preparing metadata (setup.py) ... \u001b[?25ldone\n",
      "\u001b[?25hRequirement already satisfied: six in /home/renuka/.local/lib/python3.8/site-packages (from feedfinder2>=0.0.4->newspaper3k) (1.16.0)\n",
      "Collecting sgmllib3k\n",
      "  Downloading sgmllib3k-1.0.0.tar.gz (5.8 kB)\n",
      "  Preparing metadata (setup.py) ... \u001b[?25ldone\n",
      "\u001b[?25hRequirement already satisfied: chardet<5,>=3.0.2 in /home/renuka/.local/lib/python3.8/site-packages (from requests>=2.10.0->newspaper3k) (4.0.0)\n",
      "Requirement already satisfied: idna<3,>=2.5 in /home/renuka/.local/lib/python3.8/site-packages (from requests>=2.10.0->newspaper3k) (2.10)\n",
      "Requirement already satisfied: certifi>=2017.4.17 in /home/renuka/.local/lib/python3.8/site-packages (from requests>=2.10.0->newspaper3k) (2021.5.30)\n",
      "Requirement already satisfied: urllib3<1.27,>=1.21.1 in /home/renuka/.local/lib/python3.8/site-packages (from requests>=2.10.0->newspaper3k) (1.26.6)\n",
      "Requirement already satisfied: filelock>=3.0.8 in /home/renuka/.local/lib/python3.8/site-packages (from tldextract>=2.0.1->newspaper3k) (3.0.12)\n",
      "Collecting requests-file>=1.4\n",
      "  Downloading requests_file-1.5.1-py2.py3-none-any.whl (3.7 kB)\n",
      "Building wheels for collected packages: tinysegmenter, feedfinder2, jieba3k, sgmllib3k\n",
      "  Building wheel for tinysegmenter (setup.py) ... \u001b[?25ldone\n",
      "\u001b[?25h  Created wheel for tinysegmenter: filename=tinysegmenter-0.3-py3-none-any.whl size=13538 sha256=a2caee2e612839a9d133a172c9d28cb80d9e08310b065f0f0db489a3d99ae899\n",
      "  Stored in directory: /home/renuka/.cache/pip/wheels/99/74/83/8fac1c8d9c648cfabebbbffe97a889f6624817f3aa0bbe6c09\n",
      "  Building wheel for feedfinder2 (setup.py) ... \u001b[?25ldone\n",
      "\u001b[?25h  Created wheel for feedfinder2: filename=feedfinder2-0.0.4-py3-none-any.whl size=3355 sha256=ccb41b176e81fc7323c886b6b53ce0154f22e483e245d00d132cc64922ae093b\n",
      "  Stored in directory: /home/renuka/.cache/pip/wheels/b6/09/68/a9f15498ac02c23dde29f18745bc6a6f574ba4ab41861a3575\n",
      "  Building wheel for jieba3k (setup.py) ... \u001b[?25ldone\n",
      "\u001b[?25h  Created wheel for jieba3k: filename=jieba3k-0.35.1-py3-none-any.whl size=7398406 sha256=8858192caa48db8476c7ad51f0a08f51eb90029984719d10e799b7133ca24aa0\n",
      "  Stored in directory: /home/renuka/.cache/pip/wheels/1f/7e/0c/54f3b0f5164278677899f2db08f2b07943ce2d024a3c862afb\n",
      "  Building wheel for sgmllib3k (setup.py) ... \u001b[?25ldone\n",
      "\u001b[?25h  Created wheel for sgmllib3k: filename=sgmllib3k-1.0.0-py3-none-any.whl size=6064 sha256=4e6225f64ad615200de40b5cc857bb394709cb87be81e6a2ec3d9207320915b9\n",
      "  Stored in directory: /home/renuka/.cache/pip/wheels/83/63/2f/117884c3b19d46b64d3d61690333aa80c88dc14050e269c546\n",
      "Successfully built tinysegmenter feedfinder2 jieba3k sgmllib3k\n",
      "Installing collected packages: sgmllib3k, requests-file, tldextract, tinysegmenter, jieba3k, feedparser, feedfinder2, newspaper3k\n",
      "Successfully installed feedfinder2-0.0.4 feedparser-6.0.10 jieba3k-0.35.1 newspaper3k-0.2.8 requests-file-1.5.1 sgmllib3k-1.0.0 tinysegmenter-0.3 tldextract-3.3.0\n"
     ]
    }
   ],
   "source": [
    "!{sys.executable} -m pip install newspaper3k"
   ]
  },
  {
   "cell_type": "code",
   "execution_count": 11,
   "metadata": {},
   "outputs": [
    {
     "name": "stderr",
     "output_type": "stream",
     "text": [
      "[nltk_data] Downloading package punkt to /home/renuka/nltk_data...\n",
      "[nltk_data]   Package punkt is already up-to-date!\n"
     ]
    },
    {
     "data": {
      "text/plain": [
       "True"
      ]
     },
     "execution_count": 11,
     "metadata": {},
     "output_type": "execute_result"
    }
   ],
   "source": [
    "import nltk # it is a dependency of newspaper3k\n",
    "nltk.download('punkt')"
   ]
  },
  {
   "cell_type": "code",
   "execution_count": null,
   "metadata": {},
   "outputs": [],
   "source": []
  },
  {
   "cell_type": "code",
   "execution_count": 16,
   "metadata": {},
   "outputs": [
    {
     "name": "stderr",
     "output_type": "stream",
     "text": [
      "https://www.theguardian.com/international: 100%|██████████| 100/100 [01:43<00:00,  1.03s/it]\n"
     ]
    }
   ],
   "source": [
    ">>> import newspaper\n",
    ">>> import uuid\n",
    ">>> import json\n",
    ">>> from tqdm import tqdm\n",
    "\n",
    ">>> def get_articles_from_newspaper(\n",
    "...         news_url: str, \n",
    "...         max_articles: int=100\n",
    "...     ) -> None:\n",
    "...     \"\"\"\n",
    "...     Download and save newspaper articles as weaviate schemas.\n",
    "...     Parameters\n",
    "...     ----------\n",
    "...     newspaper_url : str\n",
    "...         Newspaper title.\n",
    "...     \"\"\"\n",
    "...     \n",
    "...     objects = []\n",
    "...     \n",
    "...     # Build the actual newspaper    \n",
    "...     news_builder = newspaper.build(news_url, memoize_articles=False)\n",
    "...     \n",
    "...     if max_articles > news_builder.size():\n",
    "...         max_articles = news_builder.size()\n",
    "...     pbar = tqdm(total=max_articles)\n",
    "...     pbar.set_description(f\"{news_url}\")\n",
    "...     i = 0\n",
    "...     while len(objects) < max_articles and i < news_builder.size():\n",
    "...         article = news_builder.articles[i]\n",
    "...         try:\n",
    "...             article.download()\n",
    "...             article.parse()\n",
    "...             article.nlp()\n",
    "\n",
    "...             if (article.title != '' and \\\n",
    "...                 article.title is not None and \\\n",
    "...                 article.summary != '' and \\\n",
    "...                 article.summary is not None and\\\n",
    "...                 article.authors):\n",
    "... \n",
    "...                 # create an UUID for the article using its URL\n",
    "...                 article_id = uuid.uuid3(uuid.NAMESPACE_DNS, article.url)\n",
    "... \n",
    "...                 # create the object\n",
    "...                 objects.append({\n",
    "...                     'id': str(article_id),\n",
    "...                     'title': article.title,\n",
    "...                     'summary': article.summary,\n",
    "...                     'authors': article.authors\n",
    "...                 })\n",
    "...                 \n",
    "...                 pbar.update(1)\n",
    "... \n",
    "...         except:\n",
    "...             # something went wrong with getting the article, ignore it\n",
    "...             pass\n",
    "...         i += 1\n",
    "...     pbar.close()\n",
    "...     return objects\n",
    ">>> data = []\n",
    ">>> data += get_articles_from_newspaper('https://www.theguardian.com/international')"
   ]
  },
  {
   "cell_type": "markdown",
   "metadata": {},
   "source": [
    "# Create appropriate data types."
   ]
  },
  {
   "cell_type": "code",
   "execution_count": 17,
   "metadata": {},
   "outputs": [],
   "source": [
    ">>> article_class_schema = {\n",
    "...     # name of the class\n",
    "...     \"class\": \"Article\",\n",
    "...     # a description of what this class represents\n",
    "...     \"description\": \"An Article class to store the article summary and its authors\",\n",
    "...     # class properties\n",
    "...     \"properties\": [\n",
    "...         {\n",
    "...             \"name\": \"title\",\n",
    "...             \"dataType\": [\"string\"],\n",
    "...             \"description\": \"The title of the article\", \n",
    "...         },\n",
    "...         {\n",
    "...             \"name\": \"summary\",\n",
    "...             \"dataType\": [\"text\"],\n",
    "...             \"description\": \"The summary of the article\",\n",
    "...         },\n",
    "...         {\n",
    "...             \"name\": \"hasAuthors\",\n",
    "...             \"dataType\": [\"Author\"],\n",
    "...             \"description\": \"The authors this article has\",\n",
    "...         }\n",
    "...     ]\n",
    "... }"
   ]
  },
  {
   "cell_type": "code",
   "execution_count": 18,
   "metadata": {},
   "outputs": [],
   "source": [
    ">>> author_class_schema = {\n",
    "...     \"class\": \"Author\",\n",
    "...     \"description\": \"An Author class to store the author information\",\n",
    "...     \"properties\": [\n",
    "...         {\n",
    "...             \"name\": \"name\",\n",
    "...             \"dataType\": [\"string\"],\n",
    "...             \"description\": \"The name of the author\", \n",
    "...         },\n",
    "...         {\n",
    "...             \"name\": \"wroteArticles\",\n",
    "...             \"dataType\": [\"Article\"],\n",
    "...             \"description\": \"The articles of the author\", \n",
    "...         }\n",
    "...     ]\n",
    "... }"
   ]
  },
  {
   "cell_type": "code",
   "execution_count": 23,
   "metadata": {},
   "outputs": [
    {
     "name": "stdout",
     "output_type": "stream",
     "text": [
      "{\n",
      "  \"classes\": []\n",
      "}\n"
     ]
    },
    {
     "data": {
      "text/plain": [
       "{'classes': [{'class': 'Article',\n",
       "   'description': 'An Article class to store the article summary and its authors',\n",
       "   'invertedIndexConfig': {'cleanupIntervalSeconds': 60},\n",
       "   'properties': [{'dataType': ['string'],\n",
       "     'description': 'The title of the article',\n",
       "     'name': 'title'},\n",
       "    {'dataType': ['text'],\n",
       "     'description': 'The summary of the article',\n",
       "     'name': 'summary'}],\n",
       "   'vectorIndexConfig': {'cleanupIntervalSeconds': 300,\n",
       "    'maxConnections': 64,\n",
       "    'efConstruction': 128,\n",
       "    'vectorCacheMaxObjects': 500000},\n",
       "   'vectorIndexType': 'hnsw',\n",
       "   'vectorizer': 'text2vec-contextionary'}]}"
      ]
     },
     "execution_count": 23,
     "metadata": {},
     "output_type": "execute_result"
    }
   ],
   "source": [
    ">>> # helper function\n",
    ">>> def prettify(json_dict): \n",
    "...     print(json.dumps(json_dict, indent=2))\n",
    ">>> prettify(client.schema.get())\n",
    "{\n",
    "  \"classes\": [\n",
    "    {\n",
    "      \"class\": \"Article\",\n",
    "      \"description\": \"An Article class to store the article summary and its authors\",\n",
    "      \"invertedIndexConfig\": {\n",
    "        \"cleanupIntervalSeconds\": 60\n",
    "      },\n",
    "      \"properties\": [\n",
    "        {\n",
    "          \"dataType\": [\n",
    "            \"string\"\n",
    "          ],\n",
    "          \"description\": \"The title of the article\",\n",
    "          \"name\": \"title\"\n",
    "        },\n",
    "        {\n",
    "          \"dataType\": [\n",
    "            \"text\"\n",
    "          ],\n",
    "          \"description\": \"The summary of the article\",\n",
    "          \"name\": \"summary\"\n",
    "        }\n",
    "      ],\n",
    "      \"vectorIndexConfig\": {\n",
    "        \"cleanupIntervalSeconds\": 300,\n",
    "        \"maxConnections\": 64,\n",
    "        \"efConstruction\": 128,\n",
    "        \"vectorCacheMaxObjects\": 500000\n",
    "      },\n",
    "      \"vectorIndexType\": \"hnsw\",\n",
    "      \"vectorizer\": \"text2vec-contextionary\"\n",
    "    }\n",
    "  ]\n",
    "}\n"
   ]
  },
  {
   "cell_type": "code",
   "execution_count": 27,
   "metadata": {},
   "outputs": [
    {
     "name": "stdout",
     "output_type": "stream",
     "text": [
      "{\n",
      "  \"classes\": [\n",
      "    {\n",
      "      \"class\": \"Author\",\n",
      "      \"description\": \"An Author class to store the author information\",\n",
      "      \"invertedIndexConfig\": {\n",
      "        \"bm25\": {\n",
      "          \"b\": 0.75,\n",
      "          \"k1\": 1.2\n",
      "        },\n",
      "        \"cleanupIntervalSeconds\": 60,\n",
      "        \"stopwords\": {\n",
      "          \"additions\": null,\n",
      "          \"preset\": \"en\",\n",
      "          \"removals\": null\n",
      "        }\n",
      "      },\n",
      "      \"properties\": [\n",
      "        {\n",
      "          \"dataType\": [\n",
      "            \"string\"\n",
      "          ],\n",
      "          \"description\": \"The name of the author\",\n",
      "          \"name\": \"name\",\n",
      "          \"tokenization\": \"word\"\n",
      "        }\n",
      "      ],\n",
      "      \"shardingConfig\": {\n",
      "        \"virtualPerPhysical\": 128,\n",
      "        \"desiredCount\": 1,\n",
      "        \"actualCount\": 1,\n",
      "        \"desiredVirtualCount\": 128,\n",
      "        \"actualVirtualCount\": 128,\n",
      "        \"key\": \"_id\",\n",
      "        \"strategy\": \"hash\",\n",
      "        \"function\": \"murmur3\"\n",
      "      },\n",
      "      \"vectorIndexConfig\": {\n",
      "        \"skip\": false,\n",
      "        \"cleanupIntervalSeconds\": 300,\n",
      "        \"maxConnections\": 64,\n",
      "        \"efConstruction\": 128,\n",
      "        \"ef\": -1,\n",
      "        \"dynamicEfMin\": 100,\n",
      "        \"dynamicEfMax\": 500,\n",
      "        \"dynamicEfFactor\": 8,\n",
      "        \"vectorCacheMaxObjects\": 2000000,\n",
      "        \"flatSearchCutoff\": 40000,\n",
      "        \"distance\": \"cosine\"\n",
      "      },\n",
      "      \"vectorIndexType\": \"hnsw\",\n",
      "      \"vectorizer\": \"none\"\n",
      "    }\n",
      "  ]\n",
      "}\n"
     ]
    },
    {
     "data": {
      "text/plain": [
       "{'classes': [{'class': 'Article',\n",
       "   'description': 'An Article class to store the article summary and its authors',\n",
       "   'invertedIndexConfig': {'cleanupIntervalSeconds': 60},\n",
       "   'properties': [{'dataType': ['string'],\n",
       "     'description': 'The title of the article',\n",
       "     'name': 'title'},\n",
       "    {'dataType': ['text'],\n",
       "     'description': 'The summary of the article',\n",
       "     'name': 'summary'},\n",
       "    {'dataType': ['Author'],\n",
       "     'description': 'The authors this article has',\n",
       "     'name': 'hasAuthors'}],\n",
       "   'vectorIndexConfig': {'cleanupIntervalSeconds': 300,\n",
       "    'maxConnections': 64,\n",
       "    'efConstruction': 128,\n",
       "    'vectorCacheMaxObjects': 500000},\n",
       "   'vectorIndexType': 'hnsw',\n",
       "   'vectorizer': 'text2vec-contextionary'},\n",
       "  {'class': 'Author',\n",
       "   'description': 'An Author class to store the author information',\n",
       "   'invertedIndexConfig': {'cleanupIntervalSeconds': 60},\n",
       "   'properties': [{'dataType': ['string'],\n",
       "     'description': 'The name of the author',\n",
       "     'name': 'name'},\n",
       "    {'dataType': ['Article'],\n",
       "     'description': 'The articles of the author',\n",
       "     'name': 'wroteArticles'}],\n",
       "   'vectorIndexConfig': {'cleanupIntervalSeconds': 300,\n",
       "    'maxConnections': 64,\n",
       "    'efConstruction': 128,\n",
       "    'vectorCacheMaxObjects': 500000},\n",
       "   'vectorIndexType': 'hnsw',\n",
       "   'vectorizer': 'text2vec-contextionary'}]}"
      ]
     },
     "execution_count": 27,
     "metadata": {},
     "output_type": "execute_result"
    }
   ],
   "source": [
    ">>> prettify(client.schema.get())\n",
    "{\n",
    "  \"classes\": [\n",
    "    {\n",
    "      \"class\": \"Article\",\n",
    "      \"description\": \"An Article class to store the article summary and its authors\",\n",
    "      \"invertedIndexConfig\": {\n",
    "        \"cleanupIntervalSeconds\": 60\n",
    "      },\n",
    "      \"properties\": [\n",
    "        {\n",
    "          \"dataType\": [\n",
    "            \"string\"\n",
    "          ],\n",
    "          \"description\": \"The title of the article\",\n",
    "          \"name\": \"title\"\n",
    "        },\n",
    "        {\n",
    "          \"dataType\": [\n",
    "            \"text\"\n",
    "          ],\n",
    "          \"description\": \"The summary of the article\",\n",
    "          \"name\": \"summary\"\n",
    "        },\n",
    "        {\n",
    "          \"dataType\": [\n",
    "            \"Author\"\n",
    "          ],\n",
    "          \"description\": \"The authors this article has\",\n",
    "          \"name\": \"hasAuthors\"\n",
    "        }\n",
    "      ],\n",
    "      \"vectorIndexConfig\": {\n",
    "        \"cleanupIntervalSeconds\": 300,\n",
    "        \"maxConnections\": 64,\n",
    "        \"efConstruction\": 128,\n",
    "        \"vectorCacheMaxObjects\": 500000\n",
    "      },\n",
    "      \"vectorIndexType\": \"hnsw\",\n",
    "      \"vectorizer\": \"text2vec-contextionary\"\n",
    "    },\n",
    "    {\n",
    "      \"class\": \"Author\",\n",
    "      \"description\": \"An Author class to store the author information\",\n",
    "      \"invertedIndexConfig\": {\n",
    "        \"cleanupIntervalSeconds\": 60\n",
    "      },\n",
    "      \"properties\": [\n",
    "        {\n",
    "          \"dataType\": [\n",
    "            \"string\"\n",
    "          ],\n",
    "          \"description\": \"The name of the author\",\n",
    "          \"name\": \"name\"\n",
    "        },\n",
    "        {\n",
    "          \"dataType\": [\n",
    "            \"Article\"\n",
    "          ],\n",
    "          \"description\": \"The articles of the author\",\n",
    "          \"name\": \"wroteArticles\"\n",
    "        }\n",
    "      ],\n",
    "      \"vectorIndexConfig\": {\n",
    "        \"cleanupIntervalSeconds\": 300,\n",
    "        \"maxConnections\": 64,\n",
    "        \"efConstruction\": 128,\n",
    "        \"vectorCacheMaxObjects\": 500000\n",
    "      },\n",
    "      \"vectorIndexType\": \"hnsw\",\n",
    "      \"vectorizer\": \"text2vec-contextionary\"\n",
    "    }\n",
    "  ]\n",
    "}"
   ]
  },
  {
   "cell_type": "code",
   "execution_count": 28,
   "metadata": {},
   "outputs": [
    {
     "name": "stdout",
     "output_type": "stream",
     "text": [
      "{\n",
      "  \"classes\": []\n",
      "}\n"
     ]
    },
    {
     "data": {
      "text/plain": [
       "{'classes': []}"
      ]
     },
     "execution_count": 28,
     "metadata": {},
     "output_type": "execute_result"
    }
   ],
   "source": [
    ">>> schema = client.schema.get() # save schema\n",
    ">>> client.schema.delete_all() # delete all classes\n",
    ">>> prettify(client.schema.get())\n",
    "{\n",
    "  \"classes\": []\n",
    "}"
   ]
  },
  {
   "cell_type": "markdown",
   "metadata": {},
   "source": [
    "# Load data."
   ]
  },
  {
   "cell_type": "code",
   "execution_count": 31,
   "metadata": {},
   "outputs": [
    {
     "name": "stdout",
     "output_type": "stream",
     "text": [
      "{\n",
      "  \"id\": \"9bd544e2-132e-3fad-a31d-4ad9a05ce9d6\",\n",
      "  \"title\": \"Russia-Ukraine war: Russian bombardment of Sievierodonetsk \\u2018pushes Ukrainian troops back to city\\u2019s outskirts\\u2019 \\u2013 live\",\n",
      "  \"summary\": \"It was \\u201cimpossible\\u201d to say that Sievierodonetsk had been completely seized by Russian troops, Haidai said, adding:Our (forces) now again control only the outskirts of the city.\\nBut the fighting is still going on, our (forces) are defending Sievierodonetsk, it is impossible to say the Russians completely control the city.\\n1h ago 16.34 Ukraine now only controls outskirts of Sievierodonetsk, says governor Ukrainian forces have been pushed back by a Russian bombardment in the frontline eastern city of Sievierodonetsk and now only control its outskirts, according to the governor of Luhansk, Serhiy Haidai.\\nIt was \\u201cimpossible\\u201d to say that Sievierodonetsk had been completely seized by Russian troops, Haidai said, adding:Our (forces) now again control only the outskirts of the city.\\n01:29 31,000 Russian troops have died in Ukraine, says Zelenskiy \\u2013 video It has not been possible to independently verify his claims.\",\n",
      "  \"authors\": [\n",
      "    \"L\\u00e9onie Chao-Fong\",\n",
      "    \"Martin Belam\",\n",
      "    \"Samantha Lock\"\n",
      "  ]\n",
      "}\n"
     ]
    }
   ],
   "source": [
    "prettify(data[0])"
   ]
  },
  {
   "cell_type": "code",
   "execution_count": 32,
   "metadata": {},
   "outputs": [
    {
     "name": "stdout",
     "output_type": "stream",
     "text": [
      "{\n",
      "  \"error\": [\n",
      "    {\n",
      "      \"message\": \"invalid object: class 'Article' not present in schema\"\n",
      "    }\n",
      "  ],\n",
      "  \"valid\": false\n",
      "}\n"
     ]
    }
   ],
   "source": [
    "article_object = {\n",
    "...     'title': data[0]['title'],\n",
    "...     'summary': data[0]['summary'].replace('\\n', '') # remove newline character\n",
    "...     # we leave out the `hasAuthors` because it is a reference and will be created after we create the Authors\n",
    "... }\n",
    ">>> article_id = data[0]['id']\n",
    "\n",
    ">>> # validated the object\n",
    ">>> result = client.data_object.validate(\n",
    "...     data_object=article_object,\n",
    "...     class_name='Article',\n",
    "...     uuid=article_id\n",
    "... )\n",
    "\n",
    ">>> prettify(result)\n"
   ]
  },
  {
   "cell_type": "code",
   "execution_count": 34,
   "metadata": {},
   "outputs": [
    {
     "data": {
      "text/plain": [
       "'9bd544e2-132e-3fad-a31d-4ad9a05ce9d6'"
      ]
     },
     "execution_count": 34,
     "metadata": {},
     "output_type": "execute_result"
    }
   ],
   "source": [
    ">>> # create the object\n",
    ">>> client.data_object.create(\n",
    "...     data_object=article_object,\n",
    "...     class_name='Article',\n",
    "...     uuid=article_id) # if not specified, weaviate is going to create an UUID for you."
   ]
  },
  {
   "cell_type": "code",
   "execution_count": 35,
   "metadata": {},
   "outputs": [
    {
     "name": "stdout",
     "output_type": "stream",
     "text": [
      "{\n",
      "  \"class\": \"Article\",\n",
      "  \"creationTimeUnix\": 1654708475775,\n",
      "  \"id\": \"9bd544e2-132e-3fad-a31d-4ad9a05ce9d6\",\n",
      "  \"lastUpdateTimeUnix\": 1654708475775,\n",
      "  \"properties\": {\n",
      "    \"summary\": \"It was \\u201cimpossible\\u201d to say that Sievierodonetsk had been completely seized by Russian troops, Haidai said, adding:Our (forces) now again control only the outskirts of the city.But the fighting is still going on, our (forces) are defending Sievierodonetsk, it is impossible to say the Russians completely control the city.1h ago 16.34 Ukraine now only controls outskirts of Sievierodonetsk, says governor Ukrainian forces have been pushed back by a Russian bombardment in the frontline eastern city of Sievierodonetsk and now only control its outskirts, according to the governor of Luhansk, Serhiy Haidai.It was \\u201cimpossible\\u201d to say that Sievierodonetsk had been completely seized by Russian troops, Haidai said, adding:Our (forces) now again control only the outskirts of the city.01:29 31,000 Russian troops have died in Ukraine, says Zelenskiy \\u2013 video It has not been possible to independently verify his claims.\",\n",
      "    \"title\": \"Russia-Ukraine war: Russian bombardment of Sievierodonetsk \\u2018pushes Ukrainian troops back to city\\u2019s outskirts\\u2019 \\u2013 live\"\n",
      "  },\n",
      "  \"vectorWeights\": null\n",
      "}\n"
     ]
    }
   ],
   "source": [
    "prettify(client.data_object.get(article_id, with_vector=False))"
   ]
  },
  {
   "cell_type": "markdown",
   "metadata": {},
   "source": [
    "# New Batch object"
   ]
  },
  {
   "cell_type": "code",
   "execution_count": 69,
   "metadata": {},
   "outputs": [],
   "source": [
    ">>> from weaviate.batch import Batch # for the typing purposes\n",
    ">>> from weaviate.util import generate_uuid5 # old way was from weaviate.tools import generate_uuid\n",
    ">>> def add_article(batch: Batch, article_data: dict) -> str:\n",
    "...    \n",
    "...     article_object = {\n",
    "...         'title': article_data['title'],\n",
    "...         'summary': article_data['summary'].replace('\\n', '') # remove newline character\n",
    "...     }\n",
    "...     article_id = article_data['id']\n",
    "...    \n",
    "...    # add article to the object batch request\n",
    "...     batch.add_data_object(  # old way was batch.add(...)\n",
    "...        data_object=article_object,\n",
    "...        class_name='Article',\n",
    "...        uuid=article_id\n",
    "...    )\n",
    "...    \n",
    "...     return article_id\n",
    ">>> def add_author(batch: Batch, author_name: str, created_authors: dict) -> str:\n",
    "...    \n",
    "...    if author_name in created_authors:\n",
    "...        # return author UUID\n",
    "...        return created_authors[author_name]\n",
    "...    \n",
    "...    # generate an UUID for the Author\n",
    "...    author_id = generate_uuid5(author)\n",
    "...    \n",
    "...    # add author to the object batch request\n",
    "...    batch.add_data_object(  # old way was batch.add(...)\n",
    "...        data_object={'name': author_name},\n",
    "...        class_name='Author',\n",
    "...        uuid=author_id\n",
    "...    )\n",
    "...    \n",
    "...    created_authors[author_name] = author_id\n",
    "...    return author_id\n",
    ">>> def add_references(batch: Batch, article_id: str, author_id: str)-> None:\n",
    "...    # add references to the reference batch request\n",
    "...    ## Author -> Article\n",
    "...    batch.add_reference(  # old way was batch.add(...)\n",
    "...        from_object_uuid=author_id,\n",
    "...        from_object_class_name='Author',\n",
    "...        from_property_name='wroteArticles',\n",
    "...        to_object_uuid=article_id\n",
    "...    )\n",
    "...    \n",
    "...    ## Article -> Author \n",
    "...    batch.add_reference(  # old way was batch.add(...)\n",
    "...        from_object_uuid=article_id,\n",
    "...        from_object_class_name='Article',\n",
    "...        from_property_name='hasAuthors',\n",
    "...        to_object_uuid=author_id\n",
    "...    )"
   ]
  },
  {
   "cell_type": "markdown",
   "metadata": {},
   "source": [
    "# a) Manually"
   ]
  },
  {
   "cell_type": "code",
   "execution_count": 70,
   "metadata": {},
   "outputs": [
    {
     "name": "stderr",
     "output_type": "stream",
     "text": [
      "100%|██████████| 99/99 [00:06<00:00, 16.18it/s]\n"
     ]
    }
   ],
   "source": [
    ">>> from tqdm import trange\n",
    ">>> for i in trange(1, 100):\n",
    "...     \n",
    "...    # add article to the batch\n",
    "...    article_id = add_article(client.batch, data[i])\n",
    "...    \n",
    "...    for author in data[i]['authors']:\n",
    "...        \n",
    "...        # add author to the batch\n",
    "...        author_id = add_author(client.batch, author, created_authors)\n",
    "...        \n",
    "...        # add cross references to the batch\n",
    "...        add_references(client.batch, article_id=article_id, author_id=author_id)\n",
    "...    \n",
    "...    if i % 20 == 0:\n",
    "...        # submit the objects from the batch to weaviate\n",
    "...        client.batch.create_objects()\n",
    "...        \n",
    "...        # submit the references from the batch to weaviate\n",
    "...        client.batch.create_references()\n",
    ">>> # submit any objects that are left\n",
    ">>> status_objects = client.batch.create_objects()\n",
    ">>> status_references = client.batch.create_references()\n",
    ">>> # if there is no need for the output from batch creation, one could flush both\n",
    ">>> # object and references with one call\n",
    ">>> client.batch.flush()"
   ]
  },
  {
   "cell_type": "code",
   "execution_count": 71,
   "metadata": {},
   "outputs": [
    {
     "name": "stderr",
     "output_type": "stream",
     "text": [
      "100%|██████████| 99/99 [00:05<00:00, 18.85it/s]\n"
     ]
    }
   ],
   "source": [
    ">>> from tqdm import trange\n",
    ">>> with client.batch as batch:\n",
    "...     for i in trange(1, 100):\n",
    "...        \n",
    "...        # add article to the batch\n",
    "...        article_id = add_article(batch, data[i])\n",
    "...        \n",
    "...        for author in data[i]['authors']:\n",
    "...            \n",
    "...            # add author to the batch\n",
    "...            author_id = add_author(batch, author, created_authors)\n",
    "...            \n",
    "...            # add cross references to the batch\n",
    "...            add_references(batch, article_id=article_id, author_id=author_id)\n",
    "...        \n",
    "...        if i % 20 == 0:\n",
    "...            # submit the objects from the batch to weaviate\n",
    "...            batch.create_objects()\n",
    "...            \n",
    "...            # submit the reference from the batch to weaviate\n",
    "...            batch.create_references()"
   ]
  },
  {
   "cell_type": "markdown",
   "metadata": {},
   "source": [
    "# b) Auto-create batches when full"
   ]
  },
  {
   "cell_type": "code",
   "execution_count": 74,
   "metadata": {},
   "outputs": [
    {
     "name": "stderr",
     "output_type": "stream",
     "text": [
      "100%|██████████| 10/10 [00:00<00:00, 10.22it/s]\n"
     ]
    }
   ],
   "source": [
    ">>> # we still need the 'created_authors' so we do not add the same author twice\n",
    ">>> client.batch.configure(\n",
    "...     batch_size=30,\n",
    "...    callback=None,) # use this argument to set a callback function on the batch creation results\n",
    "\n",
    ">>> for i in trange(10, 20):\n",
    "...    \n",
    "...    # add article to the batch\n",
    "...    article_id = add_article(client.batch, data[i])\n",
    "...    for author in data[i]['authors']:\n",
    "...        # add author to the batch\n",
    "...        author_id = add_author(client.batch, author,                             created_authors)\n",
    "...        # add cross references to the batch\n",
    "...        add_references(client.batch, article_id=article_id, author_id=author_id)\n",
    ">>> client.batch.flush()"
   ]
  },
  {
   "cell_type": "code",
   "execution_count": 75,
   "metadata": {},
   "outputs": [
    {
     "name": "stderr",
     "output_type": "stream",
     "text": [
      "100%|██████████| 10/10 [00:00<00:00, 10.45it/s]\n"
     ]
    }
   ],
   "source": [
    ">>> # we still need the 'created_authors' so we do not add the same author twice\n",
    ">>> client.batch.configure(\n",
    "...     batch_size=30,\n",
    "...    callback=None, # use this argument to set a callback function on the batch creation results\n",
    "... )\n",
    ">>> with client.batch(batch_size=30) as batch: # the client.batch(batch_size=30) is the same as client.batch.configure(batch_size=30)\n",
    "...     for i in trange(10, 20):\n",
    "...        # add article to the batch\n",
    "...        article_id = add_article(batch, data[i])\n",
    "...        for author in data[i]['authors']:\n",
    "...            # add author to the batch\n",
    "...            author_id = add_author(batch, author, created_authors)\n",
    "...            # add cross references to the batch\n",
    "...            add_references(batch, article_id=article_id, author_id=author_id)"
   ]
  },
  {
   "cell_type": "markdown",
   "metadata": {},
   "source": [
    "# 5.5. Query data."
   ]
  },
  {
   "cell_type": "code",
   "execution_count": 76,
   "metadata": {},
   "outputs": [
    {
     "name": "stdout",
     "output_type": "stream",
     "text": [
      "Number of articles returned: 100\n"
     ]
    },
    {
     "data": {
      "text/plain": [
       "{'data': {'Get': {'Article': [{'title': 'Exhausted Russian fighters complain of conditions in eastern Ukraine'},\n",
       "    {'title': 'England’s new strangulation law – and why it’s needed – podcast'},\n",
       "    {'title': 'Moscow’s chief rabbi ‘in exile’ after resisting Kremlin pressure over war'},\n",
       "    {'title': '‘The worst law on earth’: why the rich love London’s reputation managers'},\n",
       "    {'title': 'I’m nearly 60. Here’s what I’ve learned about growing old so far'},\n",
       "    {'title': 'US tourist throws scooter down Rome’s Spanish Steps, causing €25,000 damage'},\n",
       "    {'title': 'Microplastics found in freshly fallen Antarctic snow for first time'},\n",
       "    {'title': 'Inside the strange world of NFTs'},\n",
       "    {'title': 'The Congolese student fighting with pro-Russia separatists in Ukraine'},\n",
       "    {'title': 'Israeli police \\u200battack funeral procession of killed journalist Shireen Abu Aqleh – video'},\n",
       "    {'title': 'The Guardian :: What can I expect after attending an interview?'},\n",
       "    {'title': 'Depp v Heard: the key turning points in the seven-week trial – video'},\n",
       "    {'title': '‘Gold rush’ for gas production threatens to lock in global heating'},\n",
       "    {'title': 'Ian Poulter expects more big names to sign up for Saudi-backed LIV Series'},\n",
       "    {'title': 'The Guardian :: What should I wear?'},\n",
       "    {'title': 'All about my mother: the demons of Paula Rego – by her son'},\n",
       "    {'title': 'Share a story with the Guardian'},\n",
       "    {'title': 'Dreaming of utopia: photographing the 60s – in pictures'},\n",
       "    {'title': 'The Guardian :: How much time will the interview take?'},\n",
       "    {'title': 'The Guardian :: Should I ask questions?'},\n",
       "    {'title': 'Made in Liverpool: This land is our land – video'},\n",
       "    {'title': 'A deadly ideology: how the ‘great replacement theory’ went mainstream'},\n",
       "    {'title': 'West to rebuke Iran over lack of cooperation with nuclear watchdog'},\n",
       "    {'title': 'Racism, misogyny, homophobia, corruption: we want to fix the crisis in policing'},\n",
       "    {'title': \"'Historic day': Finland's leaders confirm intention to join Nato – video\"},\n",
       "    {'title': 'The best games of 2022 so far'},\n",
       "    {'title': '‘Victory will be ours’: Zelenskiy marks 100th day of war – video'},\n",
       "    {'title': 'Decision on lifting EU sanctions against Alisher Usmanov and sisters expected soon'},\n",
       "    {'title': '‘I never lost the joy!’: singer Gilbert O’Sullivan on love, loss and lawsuits'},\n",
       "    {'title': 'My mother in the garden swamped by green – Lydia Goldblatt’s best photograph'},\n",
       "    {'title': 'I’m a Black gun owner. I have mixed feelings about gun control | Akin Olla'},\n",
       "    {'title': 'What is the LIV Golf Series and how will it work?'},\n",
       "    {'title': 'The split over Boris Johnson’s future is just the start of a massive Tory identity crisis | Rafael Behr'},\n",
       "    {'title': 'Dame Paula Rego obituary'},\n",
       "    {'title': \"'Half of America deprived of hope': thousands rally for abortion rights across the US – video\"},\n",
       "    {'title': 'Concern grows as two new Omicron sub-variants spread across US'},\n",
       "    {'title': 'Warned of ‘massive’ climate-led extinction, a US energy firm funded crisis denial ads'},\n",
       "    {'title': 'A railway market and a sea turtle: Wednesday’s best photos'},\n",
       "    {'title': 'Tell us: how have you been affected by the situation in Ukraine?'},\n",
       "    {'title': 'Finland and Sweden: how do you feel about your countries and Nato membership?'},\n",
       "    {'title': 'Fire at New York anti-abortion facility investigated as suspected arson'},\n",
       "    {'title': 'Russia-Ukraine war: what we know on day 105 of the invasion'},\n",
       "    {'title': 'Fatal police shooting of woman in Paris sparks political row'},\n",
       "    {'title': 'Authorities in Brazilian Amazon arrest man in connection with missing journalist'},\n",
       "    {'title': 'US government to ban single-use plastic in national parks within a decade'},\n",
       "    {'title': 'One person killed after car driven into crowd in Berlin'},\n",
       "    {'title': 'Ukraine and Russia ‘compete to be last army standing’ as Donbas deaths mount'},\n",
       "    {'title': 'In need of light relief? Top Gun: Maverick is a reminder that Tom Cruise has still got it | Emma Brockes'},\n",
       "    {'title': \"The Black Cop: a police officer's story of racism, remorse and resistance – video\"},\n",
       "    {'title': '‘They want to destroy our culture’: Russian strike hits museum in Ukrainian town – video'},\n",
       "    {'title': 'Happiness is a Journey: the hidden life of an American warehouse worker – video'},\n",
       "    {'title': 'MEPs reject key EU climate proposal after aims watered down'},\n",
       "    {'title': 'Families and survivors testify at House hearing on US gun violence epidemic: ‘This should not be your story or mine’ – live'},\n",
       "    {'title': \"The 'Spider-Man' of Sudan: the real-life superhero of the protest movement – documentary\"},\n",
       "    {'title': 'Sending Aya Back: the Syrian teen facing deportation in Denmark – documentary'},\n",
       "    {'title': 'FBI seizes retired US general’s electronic data over alleged illegal Qatar lobbying'},\n",
       "    {'title': 'Government failure to boost energy efficiency ‘inexplicable’, says IEA'},\n",
       "    {'title': 'Bruno Pereira: the dedicated defender of Indigenous rights missing in Brazil'},\n",
       "    {'title': 'Irish PM alludes to Ukraine crisis as he warns against ripping up NI protocol'},\n",
       "    {'title': 'Al-Qaida in Indian subcontinent plans revenge attacks over prophet remarks'},\n",
       "    {'title': 'Artist Paula Rego, known for her visceral and unsettling work, dies aged 87'},\n",
       "    {'title': 'Goya’s horrific Black Paintings are brought to life – La Quinta del Sordo review'},\n",
       "    {'title': 'The Guardian :: How does the interview process work?'},\n",
       "    {'title': 'Unsafe Passage: on board a refugee rescue ship racing for Europe - video'},\n",
       "    {'title': 'Thailand to ease cannabis rules but smokers warned over smell ‘nuisance’'},\n",
       "    {'title': 'Russia and Turkey raise hopes of grain export corridor from Ukraine'},\n",
       "    {'title': 'Russia-Ukraine war: Russian bombardment of Sievierodonetsk ‘pushes Ukrainian troops back to city’s outskirts’ – live'},\n",
       "    {'title': 'Lenka: a portrait of methamphetamine addiction in the Czech Republic – video'},\n",
       "    {'title': 'Transfer latest: Manchester City land Ouahabi, Chelsea sign Périsset'},\n",
       "    {'title': 'Russians: tell us what the mood is like in your country'},\n",
       "    {'title': 'Why did pitch invasions become such a prevalent issue in the 2021-22 season? – video'},\n",
       "    {'title': 'Alok Sharma in running to be UN’s global climate chief'},\n",
       "    {'title': 'The Guardian :: How do I make an accessibility request?'},\n",
       "    {'title': \"'Any victory is important, so let's cheer': Ukraine wins Eurovision 2022 – video report\"},\n",
       "    {'title': 'Liverpool ready to pay £85m for Núñez but reject Bayern’s new Mané bid'},\n",
       "    {'title': 'EasyJet diverted my flight and then refused to pay my taxi bill'},\n",
       "    {'title': 'Next generation: Brazil Women ready to build on legends’ achievements'},\n",
       "    {'title': 'Chefs’ tips on their favourite summer party cakes'},\n",
       "    {'title': 'UK will not impose direct rule on British Virgin Islands, Truss says'},\n",
       "    {'title': 'Rain of munition cascades on to Azovstal steelworks in Mariupol, Ukraine – video'},\n",
       "    {'title': 'Cinema of Ukraine: artists reflect on modern history, culture and people'},\n",
       "    {'title': 'Pacific leaders reach crucial deal to restore political unity, as China’s interest in region accelerates'},\n",
       "    {'title': 'The Guardian :: How can I prepare?'},\n",
       "    {'title': 'My 98-year-old friend fled Nuremberg on the Kindertransport. Today would he be sent to Rwanda? | Chitra Ramaswamy'},\n",
       "    {'title': 'Ms Marvel review – a glorious debut for the MCU’s first Muslim superhero'},\n",
       "    {'title': 'TechScape: Do Apple’s bigger car screens take driving in the right direction?'},\n",
       "    {'title': 'Japan to let in foreign tourists, but only if masked and accompanied by chaperone'},\n",
       "    {'title': 'Boris Johnson says ‘nothing and no one’ will stop him continuing as PM'},\n",
       "    {'title': 'Ukraine forces may have to pull back in Sievierodonetsk, say leaders in Donbas'},\n",
       "    {'title': 'Flying mermaids and moonlit dancers – Paula Rego: a life in pictures'},\n",
       "    {'title': 'Chelsea tell Romelu Lukaku he can join Inter on loan if the finances are right'},\n",
       "    {'title': 'Monkeypox: what is it and how worried should we be? – video explainer'},\n",
       "    {'title': 'Met police authorised to charge Harvey Weinstein with indecent assault'},\n",
       "    {'title': 'How can I tell my husband I want us to have sex?'},\n",
       "    {'title': 'Made in London: Solidarity Britannia - video'},\n",
       "    {'title': 'Contact the Guardian securely'},\n",
       "    {'title': 'Bulusan volcano eruption dumps ash on Philippines – in pictures'},\n",
       "    {'title': 'Play some Kylie, keep it short and enlist your friends! The beginner’s guide to loving exercise'},\n",
       "    {'title': 'How to make coronation chicken – recipe'},\n",
       "    {'title': 'Yulia Tymoshenko on war in Ukraine: ‘It’s a chance for the free world to kill this evil’'}]}}}"
      ]
     },
     "execution_count": 76,
     "metadata": {},
     "output_type": "execute_result"
    }
   ],
   "source": [
    ">>> result = client.query.get(class_name='Article', properties=\"title\")\\\n",
    "...     .do()\n",
    ">>> print(f\"Number of articles returned: {len(result['data']['Get']['Article'])}\")\n",
    ">>> result"
   ]
  },
  {
   "cell_type": "code",
   "execution_count": 77,
   "metadata": {},
   "outputs": [
    {
     "name": "stdout",
     "output_type": "stream",
     "text": [
      "Number of articles returned: 100\n"
     ]
    }
   ],
   "source": [
    ">>> result = client.query.get(class_name='Article', properties=\"title\")\\\n",
    "...     .with_limit(200)\\\n",
    "...     .do()\n",
    ">>> print(f\"Number of articles returned: {len(result['data']['Get']['Article'])}\")"
   ]
  },
  {
   "cell_type": "code",
   "execution_count": 78,
   "metadata": {},
   "outputs": [
    {
     "data": {
      "text/plain": [
       "{'errors': [{'locations': [{'column': 23, 'line': 1}],\n",
       "   'message': 'Unknown argument \"nearText\" on field \"Article\" of type \"GetObjectsObj\". Did you mean \"nearObject\" or \"nearVector\"?',\n",
       "   'path': None}]}"
      ]
     },
     "execution_count": 78,
     "metadata": {},
     "output_type": "execute_result"
    }
   ],
   "source": [
    ">>> client.query.get(class_name='Article', properties=\"title\")\\\n",
    "...     .with_limit(5)\\\n",
    "...     .with_near_text({'concepts': ['Fashion']})\\\n",
    "...     .do()"
   ]
  },
  {
   "cell_type": "markdown",
   "metadata": {},
   "source": [
    "# AGGREGATE"
   ]
  },
  {
   "cell_type": "code",
   "execution_count": 80,
   "metadata": {},
   "outputs": [
    {
     "data": {
      "text/plain": [
       "{'data': {'Aggregate': {'Article': [{'meta': {'count': 100}}]}}}"
      ]
     },
     "execution_count": 80,
     "metadata": {},
     "output_type": "execute_result"
    }
   ],
   "source": [
    ">>> # no filter, count all objects of class Article\n",
    ">>> client.query.aggregate(class_name='Article')\\\n",
    "...     .with_meta_count()\\\n",
    "...     .do()"
   ]
  },
  {
   "cell_type": "code",
   "execution_count": 81,
   "metadata": {},
   "outputs": [
    {
     "data": {
      "text/plain": [
       "{'data': {'Aggregate': {'Author': [{'meta': {'count': 145}}]}}}"
      ]
     },
     "execution_count": 81,
     "metadata": {},
     "output_type": "execute_result"
    }
   ],
   "source": [
    ">>> # no filter, count all objects of class Author\n",
    ">>> client.query.aggregate(class_name='Author')\\\n",
    "...     .with_meta_count()\\\n",
    "...     .do()"
   ]
  },
  {
   "cell_type": "code",
   "execution_count": null,
   "metadata": {},
   "outputs": [],
   "source": []
  }
 ],
 "metadata": {
  "kernelspec": {
   "display_name": "Python 3",
   "language": "python",
   "name": "python3"
  },
  "language_info": {
   "codemirror_mode": {
    "name": "ipython",
    "version": 3
   },
   "file_extension": ".py",
   "mimetype": "text/x-python",
   "name": "python",
   "nbconvert_exporter": "python",
   "pygments_lexer": "ipython3",
   "version": "3.8.10"
  }
 },
 "nbformat": 4,
 "nbformat_minor": 4
}
